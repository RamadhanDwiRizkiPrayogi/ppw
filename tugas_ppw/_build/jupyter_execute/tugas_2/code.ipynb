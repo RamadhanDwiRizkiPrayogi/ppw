{
 "cells": [
  {
   "cell_type": "code",
   "execution_count": 1,
   "id": "c9fd559e",
   "metadata": {},
   "outputs": [
    {
     "name": "stdout",
     "output_type": "stream",
     "text": [
      "Requirement already satisfied: sprynger in c:\\users\\hp\\appdata\\local\\programs\\python\\python311\\lib\\site-packages (0.4.1)\n",
      "Requirement already satisfied: lxml in c:\\users\\hp\\appdata\\local\\programs\\python\\python311\\lib\\site-packages (from sprynger) (6.0.1)\n",
      "Requirement already satisfied: requests in c:\\users\\hp\\appdata\\local\\programs\\python\\python311\\lib\\site-packages (from sprynger) (2.32.5)\n",
      "Requirement already satisfied: urllib3 in c:\\users\\hp\\appdata\\local\\programs\\python\\python311\\lib\\site-packages (from sprynger) (2.2.3)\n",
      "Requirement already satisfied: platformdirs in c:\\users\\hp\\appdata\\local\\programs\\python\\python311\\lib\\site-packages (from sprynger) (4.3.8)\n",
      "Requirement already satisfied: charset_normalizer<4,>=2 in c:\\users\\hp\\appdata\\local\\programs\\python\\python311\\lib\\site-packages (from requests->sprynger) (3.4.3)\n",
      "Requirement already satisfied: idna<4,>=2.5 in c:\\users\\hp\\appdata\\local\\programs\\python\\python311\\lib\\site-packages (from requests->sprynger) (3.10)\n",
      "Requirement already satisfied: certifi>=2017.4.17 in c:\\users\\hp\\appdata\\local\\programs\\python\\python311\\lib\\site-packages (from requests->sprynger) (2025.8.3)\n",
      "Note: you may need to restart the kernel to use updated packages.\n"
     ]
    },
    {
     "name": "stderr",
     "output_type": "stream",
     "text": [
      "\n",
      "[notice] A new release of pip is available: 24.0 -> 25.2\n",
      "[notice] To update, run: python.exe -m pip install --upgrade pip\n"
     ]
    }
   ],
   "source": [
    "pip install sprynger"
   ]
  },
  {
   "cell_type": "code",
   "execution_count": 2,
   "id": "91ad47db",
   "metadata": {},
   "outputs": [
    {
     "name": "stdout",
     "output_type": "stream",
     "text": [
      "File hasil_crawling.csv sudah ada. Menggunakan data yang tersimpan.\n",
      "Data berhasil dimuat: 10 records\n"
     ]
    }
   ],
   "source": [
    "import requests\n",
    "import pandas as pd\n",
    "import os\n",
    "\n",
    "# Ganti dengan API Key Anda\n",
    "api_key = \"0bf70d30730517ae78a523710a0f6316\"\n",
    "# Kata kunci sesuai output yang diinginkan\n",
    "keywords = [\"web mining\", \"web usage mining\", \"data mining\", \"information retrieval\"]\n",
    "\n",
    "# Check if file already exists to avoid re-crawling during builds\n",
    "if os.path.exists('hasil_crawling.csv'):\n",
    "    print(\"File hasil_crawling.csv sudah ada. Menggunakan data yang tersimpan.\")\n",
    "    df = pd.read_csv('hasil_crawling.csv')\n",
    "    print(f\"Data berhasil dimuat: {len(df)} records\")\n",
    "else:\n",
    "    results = []\n",
    "    \n",
    "    for keyword in keywords:\n",
    "        try:\n",
    "            url = \"https://api.springernature.com/meta/v2/json\"\n",
    "            params = {\n",
    "                \"q\": keyword,  \n",
    "                \"api_key\": api_key,\n",
    "                \"p\": 10  # 10 data per keyword sesuai output yang diinginkan\n",
    "            }\n",
    "\n",
    "            response = requests.get(url, params=params, timeout=10)\n",
    "\n",
    "            if response.status_code == 200:\n",
    "                data = response.json()\n",
    "                records = data.get('records', [])\n",
    "\n",
    "                for record in records:\n",
    "                    doi = record.get('doi', 'No DOI')\n",
    "                    title = record.get('title', 'No Title')\n",
    "                    abstract = record.get('abstract', 'No Abstract')\n",
    "\n",
    "                    results.append({\n",
    "                        'Keyword': keyword,\n",
    "                        'DOI': doi,\n",
    "                        'Title': title,\n",
    "                        'Abstract': abstract\n",
    "                    })\n",
    "            else:\n",
    "                print(f\"Error for keyword '{keyword}':\", response.status_code)\n",
    "                \n",
    "        except requests.exceptions.Timeout:\n",
    "            print(f\"Timeout untuk keyword '{keyword}' - melanjutkan ke keyword berikutnya\")\n",
    "        except Exception as e:\n",
    "            print(f\"Error untuk keyword '{keyword}': {str(e)}\")\n",
    "\n",
    "    df = pd.DataFrame(results)\n",
    "    \n",
    "    if not df.empty:\n",
    "        df.to_csv('hasil_crawling.csv', index=False)\n",
    "        print(f\"Data telah disimpan ke hasil_crawling.csv: {len(df)} records\")\n",
    "    else:\n",
    "        print(\"Tidak ada data yang berhasil di-crawl\")"
   ]
  },
  {
   "cell_type": "code",
   "execution_count": 3,
   "id": "da1537b9",
   "metadata": {},
   "outputs": [
    {
     "name": "stdout",
     "output_type": "stream",
     "text": [
      "      Keyword                           DOI  \\\n",
      "0  web mining   10.1007/978-3-032-00983-8_5   \n",
      "1  web mining   10.1007/978-3-031-93802-3_7   \n",
      "2  web mining   10.1007/978-981-96-7238-7_2   \n",
      "3  web mining  10.1007/978-3-031-95296-8_15   \n",
      "4  web mining   10.1007/978-3-031-90470-7_6   \n",
      "\n",
      "                                               Title  \\\n",
      "0  Survey on Data Mining and Machine Learning Met...   \n",
      "1  Unveiling Power Laws in Graph Mining: Techniqu...   \n",
      "2  Architecture Mining Approach for Systems-of-Sy...   \n",
      "3  A Mathematical Model and Algorithm for Data An...   \n",
      "4  ‘Internet of Things’ and ‘Social Networking’: ...   \n",
      "\n",
      "                                            Abstract  \n",
      "0  It is observed that the Mental illness by the ...  \n",
      "1  Power laws play a crucial role in understandin...  \n",
      "2  Context: Systems of Systems (SoS) constitute a...  \n",
      "3  Machine learning methods play an important rol...  \n",
      "4  Moving to the post-2000 period, or the post-fo...  \n"
     ]
    }
   ],
   "source": [
    "## Menampilkan hasil crawling\n",
    "import pandas as pd\n",
    "\n",
    "file_path = 'hasil_crawling.csv'\n",
    "df = pd.read_csv(file_path)\n",
    "\n",
    "# print(df)\n",
    "\n",
    "# Jika Anda ingin melihat beberapa baris pertama dari DataFrame\n",
    "print(df.head())"
   ]
  },
  {
   "cell_type": "code",
   "execution_count": 4,
   "id": "3db1c7eb",
   "metadata": {},
   "outputs": [
    {
     "name": "stdout",
     "output_type": "stream",
     "text": [
      "=== INFORMASI DATASET ===\n",
      "Total records: 10\n",
      "Kolom: ['Keyword', 'DOI', 'Title', 'Abstract']\n",
      "\n",
      "Distribusi per keyword:\n",
      "Keyword\n",
      "web mining     5\n",
      "data mining    5\n",
      "Name: count, dtype: int64\n",
      "\n",
      "Shape dataset: (10, 4)\n"
     ]
    }
   ],
   "source": [
    "# Menampilkan informasi dataset\n",
    "print(\"=== INFORMASI DATASET ===\")\n",
    "print(f\"Total records: {len(df)}\")\n",
    "print(f\"Kolom: {list(df.columns)}\")\n",
    "print(f\"\\nDistribusi per keyword:\")\n",
    "print(df['Keyword'].value_counts())\n",
    "print(f\"\\nShape dataset: {df.shape}\")"
   ]
  }
 ],
 "metadata": {
  "kernelspec": {
   "display_name": "Python 3",
   "language": "python",
   "name": "python3"
  },
  "language_info": {
   "codemirror_mode": {
    "name": "ipython",
    "version": 3
   },
   "file_extension": ".py",
   "mimetype": "text/x-python",
   "name": "python",
   "nbconvert_exporter": "python",
   "pygments_lexer": "ipython3",
   "version": "3.11.9"
  }
 },
 "nbformat": 4,
 "nbformat_minor": 5
}