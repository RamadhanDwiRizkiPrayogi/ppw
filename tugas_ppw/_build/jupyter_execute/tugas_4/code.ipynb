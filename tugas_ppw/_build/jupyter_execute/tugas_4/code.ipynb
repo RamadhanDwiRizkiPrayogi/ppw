{
 "cells": [
  {
   "cell_type": "code",
   "execution_count": 1,
   "metadata": {
    "colab": {
     "base_uri": "https://localhost:8080/"
    },
    "id": "33OZHzkLJrts",
    "outputId": "37adac86-13d8-41ea-f4a7-9c0e69fe5944"
   },
   "outputs": [
    {
     "name": "stdout",
     "output_type": "stream",
     "text": [
      "Requirement already satisfied: Sastrawi in c:\\users\\hp\\appdata\\local\\programs\\python\\python311\\lib\\site-packages (1.0.1)\n",
      "Note: you may need to restart the kernel to use updated packages.\n"
     ]
    },
    {
     "name": "stdout",
     "output_type": "stream",
     "text": [
      "Requirement already satisfied: plotly in c:\\users\\hp\\appdata\\local\\programs\\python\\python311\\lib\\site-packages (6.3.1)\n",
      "Requirement already satisfied: narwhals>=1.15.1 in c:\\users\\hp\\appdata\\local\\programs\\python\\python311\\lib\\site-packages (from plotly) (2.7.0)\n",
      "Requirement already satisfied: packaging in c:\\users\\hp\\appdata\\local\\programs\\python\\python311\\lib\\site-packages (from plotly) (24.2)\n",
      "Note: you may need to restart the kernel to use updated packages.\n"
     ]
    },
    {
     "name": "stdout",
     "output_type": "stream",
     "text": [
      "Requirement already satisfied: gensim in c:\\users\\hp\\appdata\\local\\programs\\python\\python311\\lib\\site-packages (4.3.3)\n",
      "Requirement already satisfied: numpy<2.0,>=1.18.5 in c:\\users\\hp\\appdata\\local\\programs\\python\\python311\\lib\\site-packages (from gensim) (1.24.4)\n",
      "Requirement already satisfied: scipy<1.14.0,>=1.7.0 in c:\\users\\hp\\appdata\\local\\programs\\python\\python311\\lib\\site-packages (from gensim) (1.10.1)\n",
      "Requirement already satisfied: smart-open>=1.8.1 in c:\\users\\hp\\appdata\\local\\programs\\python\\python311\\lib\\site-packages (from gensim) (7.3.1)\n",
      "Requirement already satisfied: wrapt in c:\\users\\hp\\appdata\\local\\programs\\python\\python311\\lib\\site-packages (from smart-open>=1.8.1->gensim) (1.17.3)\n",
      "Note: you may need to restart the kernel to use updated packages.\n"
     ]
    }
   ],
   "source": [
    "import requests\n",
    "import string\n",
    "import re\n",
    "\n",
    "from bs4 import BeautifulSoup #untuk memisahkan teks yang ingin diambil dengan struktur html\n",
    "import nltk\n",
    "from nltk.corpus import stopwords\n",
    "\n",
    "%pip install Sastrawi\n",
    "from Sastrawi.Stemmer.StemmerFactory import StemmerFactory\n",
    "\n",
    "%pip install plotly\n",
    "%pip install --upgrade gensim\n",
    "from gensim.models import Word2Vec, FastText\n",
    "\n",
    "import numpy as np"
   ]
  },
  {
   "cell_type": "code",
   "execution_count": 2,
   "metadata": {},
   "outputs": [
    {
     "name": "stdout",
     "output_type": "stream",
     "text": [
      "Berita Terkini Hari Ini, Kabar Akurat Terpercaya - Kompas.com Otomatis Mode Gelap Mode Terang Login Gabung KOMPAS.com+ Konten yang disimpan Konten yang disukai Atur Minat Berikan Masukanmu Langganan Kompas One News Nasional Global Megapolitan Regional Pemilu Hype Konsultasi Hukum Cek Fakta Surat Pembaca Indeks Kilas Daerah Kilas Korporasi Kilas Kementerian Sorot Politik Kilas Badan Negara Kelana Indonesia Kalbe Health Corner Kilas Parlemen Kilas BUMN Nusaraya Sumatera Utara Sumatera Selatan Sumatera Barat Riau Lampung Banten Yogyakarta Jawa Barat Jawa Tengah Jawa Timur Kalimantan Barat Kalimantan Timur Sulawesi Selatan Bali Indeks Jagat Literasi Artikel Foto Video Rolls Donasi STEM Cahaya Aktual Doa dan Niat Jadwal Sholat Tekno Apps & OS Gadget Internet Hardware Business Game Galeri Indeks Tech Innovation Kilas Internet Otomotif Motor Mobil Sport Niaga Komunitas Otopedia Merapah EV Leadership Elektrifikasi Pameran Bola Timnas Indonesia Liga Indonesia Liga Inggris Liga Italia Liga Champions Klasemen Sports Motogp Badminton Indeks Lifestyle Wellness Fashion Relationship Parenting Beauty & Grooming Buku Indeks Sadar Stunting Kilas Lifestyle Tren Lestari Health Penyakit A-Z Kilas Kesehatan Money Ekbis Keuangan Syariah Industri Energi Karier Cuan Belanja Tanya Pajak Indeks Kilas Badan Kilas Transportasi Kilas Fintech Kilas Perbankan Kilas Investasi Transaksi Digital Jejak UMKM Properti News Listing Properti Arsitektur Konstruksi Tips Properti IKN Homey Indeks Sorot Properti Edukasi Sekolah Edu News Perguruan Tinggi Pendidikan Khusus Beasiswa Literasi Skola Kilas Pendidikan IdeAksi Travel Travel News Travel Ideas Hotel Story Travelpedia Food Ohayo Jepang Indeks Video Parapuan Kolom Sains JEO Foto VIK Kata Netizen Warta Membership KOMPAS.com+ Pemerintah Swasta LSM/Figur BUMN UMKM Nusatirta Mulai Dari Kamu Kesehatan Kehidupan sehat dan sejahtera Air bersih dan sanitasi layak Pendidikan Pendidikan Berkualitas Lingkungan Energi Bersih dan Terjangkau Penanganan Perubahan Iklim Ekosistem Lautan Ekosistem Daratan Ekonomi dan UMKM Tanpa Kemiskinan Tanpa Kelaparan Kesetaraan Gender Pekerjaan Layak dan Pertumbuhan ekonomi Industri, Inovasi & Infrastruktur Berkurangnya Kesenjangan Kota & Pemukiman yang Berkelanjutan Konsumsi & Produksi yang bertanggungjawab PROGRAM LESTARI Lihat semua Baca berita tanpa iklan. Gabung Kompas.com+ Trending: Prabowo Subianto KTT Perdamaian Gaza Donald Trump Patrick Kluivert Silfester Matutina Timnas Indonesia Gibran Rakabuming sekolah Timnas Indonesia libur Living Assistance - - °C Kualitas Udara - - Harga Beli Emas 0 Jt /gr (0%) Jadwal Sholat - - -:- Headline Yusril Jamin Pemerintah dan Polri Tak Intervensi Praperadilan Delpedro Dkk PSSI Akhiri Kerja Sama dengan Kluivert, Apa Kata Suporter Timnas? News Prabowo Titahkan Menteri PU Cek Kondisi Ponpes Se-Indonesia Properti Vietnam Resmi Naturalisasi Pemain Asal Brasil demi Piala Asia 2027 Bola Menpora: Anggaran SEA Games jadi Rp 60 M, Target Tiga Besar Bola Mendagri Ajak Pemda Sukseskan Program Tiga Juta Rumah dari Presiden Prabowo News Dinilai Ancam Kedaulatan, China Sita 60.000 Peta soal Taiwan dan Laut China Selatan Tren Terpopuler 1 Modus Korupsi di PT Antam: 1 Kg Anoda Logam yang Diolah Hanya Ditukar 3 Gram Emas News 2 Jalur Commuter Line dari Rangkasbitung ke Tanah Abang Pindah ke Peron Baru Mulai Jumat News 3 Vietnam Resmi Naturalisasi Pemain Asal Brasil demi Piala Asia 2027 Bola 4 Dinilai Ancam Kedaulatan, China Sita 60.000 Peta soal Taiwan dan Laut China Selatan Tren 5 140 Petugas Lapas Bermasalah Bakal Dikirim ke Nusakambangan News Terpopuler Lainnya Sorotan 3 Anggota KKB Penyerang Nakes dan Guru di Yahukimo Diserahkan ke Kejari Jayawijaya Regional Siswa di Gunungkidul Tewas saat Pramuka, Diasuh Pembina Bersertifikat dan Penjaga Sekolah Regional Kendala Padamkan Karhutla di Kalteng: Titik Kebakaran Sukar Dijangkau, Sarpras Terbatas Regional Masuk Nusakambangan, Ammar Zoni Diyakini Tak Bisa Edarkan Lagi Narkoba News Musisi Lawas Raidy Noor Meninggal Dunia Hype Atur pilihan kontenmu Money 40 detik lalu CEO Baru Nestle Umumkan PHK 16.000 Karyawan Demi Efisiensi Regional 3 menit lalu Petani Sragen Puji Era Prabowo-Gibran: Harga Gabah Naik, Pupuk Lancar Money 5 menit lalu 5 Fakta Aturan Baru Prabowo soal WNA Bisa Pimpin BUMN Tren 7 menit lalu BMKG: Ini Wilayah yang Diprakirakan Hujan Lebat pada 17-18 Oktober 2025 Lifestyle 7 menit lalu Gaya Vina Anggi Sitorus Kenakan Kostum “Nyi Roro Kidul” di Miss Grand International 2025 Harga Tiket Bus Transjakarta Diusulkan Naik Jadi Rp 5.000 5 jam lalu 02:30 China Pamer Robot Anjing Salto di Canton Fair 2025 Video 6 jam lalu 05:23 Hamas Mengaku Belum Bisa Jangkau Sisa Sandera yang Tewas  | Netanyahu Senyum  Hadiri Sidang Korupsi Video 6 jam lalu 02:32 Israel Serahkan Jenazah Warga Palestina, Ada Tanda Penyiksaan dan Eksekusi Video 7 jam lalu 02:00 Perancis: Gencatan Senjata Rapuh, Gaza Belum Damai Video 7 jam lalu 03:31 Macet Parah akibat Kebakaran di Ciledug, Penumpang Transjakarta Pilih Jalan Kaki Video 7 jam lalu 04:03 Kecanggihan Robot China, Bisa Main Musik dan Bersihkan Kamar Mandi Video 7 jam lalu 02:55 Momen Haru Tahanan Palestina yang Dibebaskan Israel Kembali Bertemu Keluarga Video 8 jam lalu News 7 menit lalu Dorong Akses Pendidikan, Komunitas Generasi Jernih Luncurkan Ekspedisi Kata ke Nyata Regional 8 menit lalu Gunung Lewotobi 2 Kali Erupsi pada Jumat Pagi, Kolom Abu Setinggi 4 Km News 13 menit lalu PKS Akan Temui Menhan Sjafrie Hari Ini, Ikuti Jejak Surya Paloh News 14 menit lalu Cerita Korban yang Berhasil Kabur dari Penyekapan di Pondok Aren Regional 16 menit lalu Uang Rp 2 Miliar Hasil Tipu Proyek Kambing Dipakai Liburan ke Singapura dan Beli Harley Davidson Baca berita tanpa iklan. Gabung Kompas.com+ Unduh Kompas.com App untuk berita terkini, akurat, dan tepercaya setiap saat Arahkan kamera ke kode QR ini untuk download app Follow us: Kompas.id Premium It's Difficult for the Indonesian Middle Class to Become Rich Baca selengkapnya di Kompas.id. Dapatkan akses penuh berita Kompas.id dengan berlangganan. Baca berita tanpa iklan. Gabung Kompas.com+ Kilas Kebumen Raih Mandaya Awards 2025, Bupati Lilis: Berkat Kerja Keras Semua Pihak Membangun Generasi Sehat Dimulai dari Ibu yang Bahagia Dukung Program Mageri Segoro se-Jateng, Pemkab Pemalang Tanam 134.000 Batang Mangrove Kolom Negara Membayar, Hukum Menegaskan Firdaus Arifin Dosen Kluivert dan Elektabilitas (Ketua) Federasi Weshley Hutagalung Konsultan konten dan media Pendidikan Inklusif dan Ruang Belajar Setara Stephanie Riady Presiden Universitas Pelita Harapan Diskriminasi FIFA dan Dilema Politik dalam Sepak Bola Dunia Aris Heru Utomo Konsul RI Tawau Menahan Kelapa, Menggandakan Nilai Kuntoro Boga Direktur Hilirisasi Hasil Perkebunan, Kementan Lihat lainnya Merapah Trans-Jawa 2024 Eksplorasi 2.290 km Jalur Pansela. Rekaman pesona mudik dari Jakarta ke Banyuwangi, menikmati panorama alam dan budaya di jalur Trans-Jawa. 17/07/2024, 15:56 WIB TIRTA DAN EMILIANA Banyak wilayah Indonesia mengalami krisis air. Ternyata, masalahnya tak selalu soal air tak ada, tetapi tata kelolanya. Pengalaman Wahana Visi Indonesia memberi gambaran upaya penyelesaiannya. 02/10/2025, 07:45 WIB Cerita Niko Kisah perjalanan nikel, mineral esensial yang membentuk peradaban modern. Dari penambangan jauh di dalam bumi hingga menjadi komponen vital dalam berbagai produk sehari-hari. 15/07/2025, 11:06 WIB Green Jobs Transisi energi membuka peluang besar terciptanya green jobs bagi orang muda. Namun, peluang itu perlu dijemput dengan peningkatan keahlian tenaga kerja muda. 03/06/2025, 13:39 WIB Bola 17 menit lalu Jadwal Denmark Open 2025: Jonatan Christie Lawan Unggulan China Tekno 20 menit lalu 10 Tahun \"Siksa\" HP, YouTuber Ini Akhirnya Temui Kasus HP Terbakar Money 22 menit lalu IMF Naikkan Proyeksi Pertumbuhan Asia 2025 Jadi 4,5 Persen, tapi Waspadai Ketegangan AS-China News 22 menit lalu Saat TNI Lumpuhkan Pusat Komando OPM Soanggama, 14 Anggota KKB Tewas News 26 menit lalu MK Putuskan Masyarakat Adat Tak Perlu Izin Pemerintah Berkebun di Hutan: Asal Nonkomersial Hamas Eksekusi Warga Gaza, Ada Apa? 03:40 Regional 27 menit lalu Koperasi Merah Putih Kopo: dari Swadaya Jadi Gerakan Ekonomi Rakyat News 28 menit lalu Suara Suporter Timnas Usai Patrick Kluivert Out Regional 29 menit lalu Polisi Pemilik Rubicon Viral Pelat Gantung Akhirnya Mendapatkan Sanksi Global 35 menit lalu [POPULER GLOBAL] AS Tenggelamkan Kapal Perang | Media Belanda soal Kluivert Tren 37 menit lalu [POPULER TREN] 10 Universitas Negeri Terbaik di Indonesia | Akhir Kerja Sama PSSI dan Patrick Kluivert Sehat-sehat Manusia yang Selalu Bilang \"Gapapa Kok, Aman Aja\" Patut Bangga! Paviliun Indonesia Raih Penghargaan di World Expo 2025 Osaka Berkat Desain Berkelanjutan Dorong Akses Pendidikan, Komunitas Generasi Jernih Luncurkan Ekspedisi Kata ke Nyata Meraba Masa Depan dengan AI sebagai Copilot Close Ads Baca berita tanpa iklan. Gabung Kompas.com+ Money 37 menit lalu Bitcoin (BTC) Terpeleset ke Rp 1,84 Miliar Per Keping gara-gara Ketegangan AS-China Bola 39 menit lalu Alasan Kenapa Calvin Verdonk Pasang Badan untuk Erick Thohir News 39 menit lalu Kapolri Sebut Kompolnas Awards Bukti Polri Institusi Terbuka dan Tidak Anti Kritik News 40 menit lalu Jual Beli Mobil yang Berujung Penyekapan di Pondok Aren News 49 menit lalu Prabowo Bolehkan WNA Pimpin BUMN dan Minta Kemendikti Siapkan 2.000 Profesional Muda Topik Pilihan 1 Tahun Pemerintahan Prabowo-Gibran Koperasi Merah Putih Kopo: dari Swadaya Jadi Gerakan Ekonomi Rakyat Strategi Koperasi Merah Putih Tukangkayu Banyuwangi Gaet Anggota Usia Muda Mengintip Kegiatan Siswa di Asrama Sekolah Rakyat 21 Surabaya Lihat semua Timnas Indonesia di Ronde Laga Oktober, Selangkah Menuju Piala Dunia Ujian Patrick Kluivert, Bangun Ulang Timnas di Tengah Gejolak Jurnalis Senior Sebut PSSI Harus Punya Kekuatan Lobi di AFC Pengamat Soroti Dominasi Arab di AFC dan Lemahnya Lobi Indonesia di Level Asia Lihat semua Ponpes Al Khoziny Sidoarjo Ambruk Peneliti BRIN Setuju Pembangunan Ulang Ponpes Al Khoziny Pakai APBN Satu Jenazah Korban Al Khoziny Dimakamkan, Total Santri Asal Sampang 10 Orang Polda Jatim Tutup Sementara Asrama Putra Ponpes Al Khoziny Sidoarjo Lihat semua Money 59 menit lalu IHSG Diproyeksikan Masih Menguat di Tengah Volatilitas Pasar Bola 1 jam lalu Head-to-head PSBS Biak Vs Persib Bandung, Maung Belum Kalah Bola 1 jam lalu Jadwal Liga Italia Pekan ke-7: AS Roma Vs Inter, Jay Idzes Lawan Mantan Pelatihnya Bola 1 jam lalu Coach Justin Bicara Soal Penerus Kluivert: Bisa dari Jepang Bola 1 jam lalu Jadwal Liga Spanyol, Barcelona Berpeluang Rebut Puncak dari Madrid Foto Lihat semua BERITA FOTO: Lion City Sailors Pupus Kemenangan Persib di Menit Akhir BERITA FOTO: Debut Thom Haye dan Eliano Reijnders di Persib BERITA FOTO: Unisba dan Unpas Ditembaki Gas Air Mata, Puluhan Proyektil Berserakan BERITA FOTO: Menilik Sumur Minyak Ilegal di Blora, Sumber Petaka di Tengah Permukiman BERITA FOTO: Suasana Demo Pati 13 Agustus 2025 Bola 1 jam lalu Hasil Lengkap Denmark Open 2025: Jojo Menang, Sabar/Reza Kalah Bola 1 jam lalu PSSI dan Tim Pelatih Resmi Berpisah, Masih Banyak Pekerjaan Rumah Money 2 jam lalu Jadwal KRL Jogja - Solo pada 17, 18, dan 19 Oktober 2025 Tekno 5 jam lalu 2 Cara Cek Paket Internet XL Terbaru dengan Mudah dan Cepat Tekno 5 jam lalu Menanti 3 Jam, Warga PIK Jadi yang Pertama Terima iPhone 17 dari Blibli Kucing Ini Jadi Kepala Stasiun di Jepang,  Kini Chocolat Pensiun 01:13 Video 5 jam lalu Harga Tiket Bus Transjakarta Diusulkan Naik Jadi Rp 5.000 Tekno 6 jam lalu iPhone 17 Tiba di Indonesia! Blibli Langsung Antar ke Pemesan Tengah Malam Video 6 jam lalu China Pamer Robot Anjing Salto di Canton Fair 2025 Video 6 jam lalu Hamas Mengaku Belum Bisa Jangkau Sisa Sandera yang Tewas  | Netanyahu Senyum  Hadiri Sidang Korupsi News 7 jam lalu Jalan Ciledug Raya Dibuka Satu Jalur, Pemadaman Kebakaran Bengkel Masih Berlangsung 1 2 3 Next Produk Rekomendasi Baca berita tanpa iklan. Gabung Kompas.com+ Komentar Klik untuk berita terbaru Penghargaan dan sertifikat: Dapatkan informasi dan insight pilihan redaksi Kompas.com Daftarkan Email Kanal News Nasional Global Megapolitan Regional Pemilu IKN Bola Tekno Otomotif Entertainment Sains Health Money Tren Properti Lifestyle Hype Travel Homey Food UMKM Edukasi Parapuan Foto Video Kolom VIK JEO Lestari Ohayo Jepang Pesona Indonesia Play Artikel Terpopuler Artikel Terkini Topik Pilihan Artikel Headline Network Kompas.com Harian KOMPAS KompasTV Kompasiana KG Media KGNow! Pasangiklan.com Kontan Sonora Grid.ID GridOto.com BolaSport.com Parapuan Tribunnews Gramedia.com Gramedia Digital Kabar Palmerah About Us Advertise Ketentuan Penggunaan Kebijakan Data Pribadi Pedoman Media Siber Career Contact Us Copyright 2008 - 2025 PT. Kompas Cyber Media (Kompas Gramedia Digital Group). All Rights Reserved. Bagikan artikel ini melalui Facebook X Whatsapp Line Telegram Copy Link Oke Living Assistance Cuaca Emas Plus Baca Cepat Cek Kesehatan Atur Keuangan Klasemen Olahraga Jadwal Salat Game & Kuis Beri Masukan Atur Minat\n"
     ]
    }
   ],
   "source": [
    "web = requests.get(\"https://kompas.com\")\n",
    "soup = BeautifulSoup(web.content, 'html.parser')\n",
    "for a in soup(['script', 'style']):\n",
    "    a.decompose()\n",
    "text = ' '.join(soup.stripped_strings)\n",
    "print(text)"
   ]
  },
  {
   "cell_type": "code",
   "execution_count": 3,
   "metadata": {},
   "outputs": [],
   "source": [
    "teks = text.lower()\n",
    "teks = re.sub(r'\\d+', '', teks)\n",
    "teks = teks.translate(str.maketrans('', '', string.punctuation))\n",
    "teks = re.sub(r'\\s+', ' ', teks)\n",
    "teks = teks.strip()"
   ]
  },
  {
   "cell_type": "code",
   "execution_count": 4,
   "metadata": {
    "colab": {
     "base_uri": "https://localhost:8080/"
    },
    "id": "QsC5GUtcWBEL",
    "outputId": "04981d7b-7221-41f7-9913-abc7f95d1248"
   },
   "outputs": [
    {
     "ename": "KeyboardInterrupt",
     "evalue": "",
     "output_type": "error",
     "traceback": [
      "\u001b[31m---------------------------------------------------------------------------\u001b[39m",
      "\u001b[31mKeyboardInterrupt\u001b[39m                         Traceback (most recent call last)",
      "\u001b[36mCell\u001b[39m\u001b[36m \u001b[39m\u001b[32mIn[4]\u001b[39m\u001b[32m, line 6\u001b[39m\n\u001b[32m      4\u001b[39m factory = StemmerFactory()\n\u001b[32m      5\u001b[39m stemmer = factory.create_stemmer()\n\u001b[32m----> \u001b[39m\u001b[32m6\u001b[39m stemmed = \u001b[43mstemmer\u001b[49m\u001b[43m.\u001b[49m\u001b[43mstem\u001b[49m\u001b[43m(\u001b[49m\u001b[43mteks\u001b[49m\u001b[43m)\u001b[49m\n\u001b[32m      8\u001b[39m \u001b[38;5;66;03m# Lemmatization (menggunakan stemming hasil Sastrawi, karena lemmatizer khusus Indonesia belum tersedia)\u001b[39;00m\n\u001b[32m      9\u001b[39m output = stemmed\n",
      "\u001b[36mFile \u001b[39m\u001b[32m~\\AppData\\Local\\Programs\\Python\\Python311\\Lib\\site-packages\\Sastrawi\\Stemmer\\CachedStemmer.py:20\u001b[39m, in \u001b[36mCachedStemmer.stem\u001b[39m\u001b[34m(self, text)\u001b[39m\n\u001b[32m     18\u001b[39m     stems.append(\u001b[38;5;28mself\u001b[39m.cache.get(word))\n\u001b[32m     19\u001b[39m \u001b[38;5;28;01melse\u001b[39;00m:\n\u001b[32m---> \u001b[39m\u001b[32m20\u001b[39m     stem = \u001b[38;5;28;43mself\u001b[39;49m\u001b[43m.\u001b[49m\u001b[43mdelegatedStemmer\u001b[49m\u001b[43m.\u001b[49m\u001b[43mstem\u001b[49m\u001b[43m(\u001b[49m\u001b[43mword\u001b[49m\u001b[43m)\u001b[49m\n\u001b[32m     21\u001b[39m     \u001b[38;5;28mself\u001b[39m.cache.set(word, stem)\n\u001b[32m     22\u001b[39m     stems.append(stem)\n",
      "\u001b[36mFile \u001b[39m\u001b[32m~\\AppData\\Local\\Programs\\Python\\Python311\\Lib\\site-packages\\Sastrawi\\Stemmer\\Stemmer.py:27\u001b[39m, in \u001b[36mStemmer.stem\u001b[39m\u001b[34m(self, text)\u001b[39m\n\u001b[32m     24\u001b[39m stems = []\n\u001b[32m     26\u001b[39m \u001b[38;5;28;01mfor\u001b[39;00m word \u001b[38;5;129;01min\u001b[39;00m words:\n\u001b[32m---> \u001b[39m\u001b[32m27\u001b[39m     stems.append(\u001b[38;5;28;43mself\u001b[39;49m\u001b[43m.\u001b[49m\u001b[43mstem_word\u001b[49m\u001b[43m(\u001b[49m\u001b[43mword\u001b[49m\u001b[43m)\u001b[49m)\n\u001b[32m     29\u001b[39m \u001b[38;5;28;01mreturn\u001b[39;00m \u001b[33m'\u001b[39m\u001b[33m \u001b[39m\u001b[33m'\u001b[39m.join(stems)\n",
      "\u001b[36mFile \u001b[39m\u001b[32m~\\AppData\\Local\\Programs\\Python\\Python311\\Lib\\site-packages\\Sastrawi\\Stemmer\\Stemmer.py:36\u001b[39m, in \u001b[36mStemmer.stem_word\u001b[39m\u001b[34m(self, word)\u001b[39m\n\u001b[32m     34\u001b[39m     \u001b[38;5;28;01mreturn\u001b[39;00m \u001b[38;5;28mself\u001b[39m.stem_plural_word(word)\n\u001b[32m     35\u001b[39m \u001b[38;5;28;01melse\u001b[39;00m:\n\u001b[32m---> \u001b[39m\u001b[32m36\u001b[39m     \u001b[38;5;28;01mreturn\u001b[39;00m \u001b[38;5;28;43mself\u001b[39;49m\u001b[43m.\u001b[49m\u001b[43mstem_singular_word\u001b[49m\u001b[43m(\u001b[49m\u001b[43mword\u001b[49m\u001b[43m)\u001b[49m\n",
      "\u001b[36mFile \u001b[39m\u001b[32m~\\AppData\\Local\\Programs\\Python\\Python311\\Lib\\site-packages\\Sastrawi\\Stemmer\\Stemmer.py:84\u001b[39m, in \u001b[36mStemmer.stem_singular_word\u001b[39m\u001b[34m(self, word)\u001b[39m\n\u001b[32m     82\u001b[39m \u001b[38;5;250m\u001b[39m\u001b[33;03m\"\"\"Stem a singular word to its common stem form.\"\"\"\u001b[39;00m\n\u001b[32m     83\u001b[39m context = Context(word, \u001b[38;5;28mself\u001b[39m.dictionary, \u001b[38;5;28mself\u001b[39m.visitor_provider)\n\u001b[32m---> \u001b[39m\u001b[32m84\u001b[39m \u001b[43mcontext\u001b[49m\u001b[43m.\u001b[49m\u001b[43mexecute\u001b[49m\u001b[43m(\u001b[49m\u001b[43m)\u001b[49m\n\u001b[32m     86\u001b[39m \u001b[38;5;28;01mreturn\u001b[39;00m context.result\n",
      "\u001b[36mFile \u001b[39m\u001b[32m~\\AppData\\Local\\Programs\\Python\\Python311\\Lib\\site-packages\\Sastrawi\\Stemmer\\Context\\Context.py:37\u001b[39m, in \u001b[36mContext.execute\u001b[39m\u001b[34m(self)\u001b[39m\n\u001b[32m     34\u001b[39m \u001b[38;5;250m\u001b[39m\u001b[33;03m\"\"\"Execute stemming process; the result can be retrieved with result\"\"\"\u001b[39;00m\n\u001b[32m     36\u001b[39m \u001b[38;5;66;03m#step 1 - 5\u001b[39;00m\n\u001b[32m---> \u001b[39m\u001b[32m37\u001b[39m \u001b[38;5;28;43mself\u001b[39;49m\u001b[43m.\u001b[49m\u001b[43mstart_stemming_process\u001b[49m\u001b[43m(\u001b[49m\u001b[43m)\u001b[49m\n\u001b[32m     39\u001b[39m \u001b[38;5;66;03m#step 6\u001b[39;00m\n\u001b[32m     40\u001b[39m \u001b[38;5;28;01mif\u001b[39;00m \u001b[38;5;28mself\u001b[39m.dictionary.contains(\u001b[38;5;28mself\u001b[39m.current_word):\n",
      "\u001b[36mFile \u001b[39m\u001b[32m~\\AppData\\Local\\Programs\\Python\\Python311\\Lib\\site-packages\\Sastrawi\\Stemmer\\Context\\Context.py:85\u001b[39m, in \u001b[36mContext.start_stemming_process\u001b[39m\u001b[34m(self)\u001b[39m\n\u001b[32m     82\u001b[39m     \u001b[38;5;28;01mreturn\u001b[39;00m\n\u001b[32m     84\u001b[39m \u001b[38;5;66;03m#ECS loop pengembalian akhiran\u001b[39;00m\n\u001b[32m---> \u001b[39m\u001b[32m85\u001b[39m \u001b[38;5;28;43mself\u001b[39;49m\u001b[43m.\u001b[49m\u001b[43mloop_pengembalian_akhiran\u001b[49m\u001b[43m(\u001b[49m\u001b[43m)\u001b[49m\n",
      "\u001b[36mFile \u001b[39m\u001b[32m~\\AppData\\Local\\Programs\\Python\\Python311\\Lib\\site-packages\\Sastrawi\\Stemmer\\Context\\Context.py:141\u001b[39m, in \u001b[36mContext.loop_pengembalian_akhiran\u001b[39m\u001b[34m(self)\u001b[39m\n\u001b[32m    138\u001b[39m     \u001b[38;5;28mself\u001b[39m.current_word = removal.get_subject()\n\u001b[32m    140\u001b[39m \u001b[38;5;66;03m#step 4,5\u001b[39;00m\n\u001b[32m--> \u001b[39m\u001b[32m141\u001b[39m \u001b[38;5;28;43mself\u001b[39;49m\u001b[43m.\u001b[49m\u001b[43mremove_prefixes\u001b[49m\u001b[43m(\u001b[49m\u001b[43m)\u001b[49m\n\u001b[32m    142\u001b[39m \u001b[38;5;28;01mif\u001b[39;00m \u001b[38;5;28mself\u001b[39m.dictionary.contains(\u001b[38;5;28mself\u001b[39m.current_word):\n\u001b[32m    143\u001b[39m     \u001b[38;5;28;01mreturn\u001b[39;00m\n",
      "\u001b[36mFile \u001b[39m\u001b[32m~\\AppData\\Local\\Programs\\Python\\Python311\\Lib\\site-packages\\Sastrawi\\Stemmer\\Context\\Context.py:89\u001b[39m, in \u001b[36mContext.remove_prefixes\u001b[39m\u001b[34m(self)\u001b[39m\n\u001b[32m     87\u001b[39m \u001b[38;5;28;01mdef\u001b[39;00m\u001b[38;5;250m \u001b[39m\u001b[34mremove_prefixes\u001b[39m(\u001b[38;5;28mself\u001b[39m):\n\u001b[32m     88\u001b[39m     \u001b[38;5;28;01mfor\u001b[39;00m i \u001b[38;5;129;01min\u001b[39;00m \u001b[38;5;28mrange\u001b[39m(\u001b[32m3\u001b[39m):\n\u001b[32m---> \u001b[39m\u001b[32m89\u001b[39m         \u001b[38;5;28;43mself\u001b[39;49m\u001b[43m.\u001b[49m\u001b[43maccept_prefix_visitors\u001b[49m\u001b[43m(\u001b[49m\u001b[38;5;28;43mself\u001b[39;49m\u001b[43m.\u001b[49m\u001b[43mprefix_pisitors\u001b[49m\u001b[43m)\u001b[49m\n\u001b[32m     90\u001b[39m         \u001b[38;5;28;01mif\u001b[39;00m \u001b[38;5;28mself\u001b[39m.dictionary.contains(\u001b[38;5;28mself\u001b[39m.current_word):\n\u001b[32m     91\u001b[39m             \u001b[38;5;28;01mreturn\u001b[39;00m\n",
      "\u001b[36mFile \u001b[39m\u001b[32m~\\AppData\\Local\\Programs\\Python\\Python311\\Lib\\site-packages\\Sastrawi\\Stemmer\\Context\\Context.py:111\u001b[39m, in \u001b[36mContext.accept_prefix_visitors\u001b[39m\u001b[34m(self, visitors)\u001b[39m\n\u001b[32m    109\u001b[39m \u001b[38;5;28;01mfor\u001b[39;00m visitor \u001b[38;5;129;01min\u001b[39;00m visitors:\n\u001b[32m    110\u001b[39m     \u001b[38;5;28mself\u001b[39m.accept(visitor)\n\u001b[32m--> \u001b[39m\u001b[32m111\u001b[39m     \u001b[38;5;28;01mif\u001b[39;00m \u001b[38;5;28;43mself\u001b[39;49m\u001b[43m.\u001b[49m\u001b[43mdictionary\u001b[49m\u001b[43m.\u001b[49m\u001b[43mcontains\u001b[49m\u001b[43m(\u001b[49m\u001b[38;5;28;43mself\u001b[39;49m\u001b[43m.\u001b[49m\u001b[43mcurrent_word\u001b[49m\u001b[43m)\u001b[49m:\n\u001b[32m    112\u001b[39m         \u001b[38;5;28;01mreturn\u001b[39;00m \u001b[38;5;28mself\u001b[39m.current_word\n\u001b[32m    113\u001b[39m     \u001b[38;5;28;01mif\u001b[39;00m \u001b[38;5;28mself\u001b[39m.process_is_stopped:\n",
      "\u001b[36mFile \u001b[39m\u001b[32m~\\AppData\\Local\\Programs\\Python\\Python311\\Lib\\site-packages\\Sastrawi\\Dictionary\\ArrayDictionary.py:9\u001b[39m, in \u001b[36mArrayDictionary.contains\u001b[39m\u001b[34m(self, word)\u001b[39m\n\u001b[32m      6\u001b[39m     \u001b[38;5;28;01mif\u001b[39;00m words:\n\u001b[32m      7\u001b[39m         \u001b[38;5;28mself\u001b[39m.add_words(words)\n\u001b[32m----> \u001b[39m\u001b[32m9\u001b[39m \u001b[38;5;28;01mdef\u001b[39;00m\u001b[38;5;250m \u001b[39m\u001b[34mcontains\u001b[39m(\u001b[38;5;28mself\u001b[39m, word):\n\u001b[32m     10\u001b[39m     \u001b[38;5;28;01mreturn\u001b[39;00m word \u001b[38;5;129;01min\u001b[39;00m \u001b[38;5;28mself\u001b[39m.words\n\u001b[32m     12\u001b[39m \u001b[38;5;28;01mdef\u001b[39;00m\u001b[38;5;250m \u001b[39m\u001b[34mcount\u001b[39m(\u001b[38;5;28mself\u001b[39m):\n",
      "\u001b[31mKeyboardInterrupt\u001b[39m: "
     ]
    }
   ],
   "source": [
    "# stemming/lemmatization (mengembalikan kata ke bentuk dasar) untuk Bahasa Indonesia\n",
    "\n",
    "# Stemming\n",
    "factory = StemmerFactory()\n",
    "stemmer = factory.create_stemmer()\n",
    "stemmed = stemmer.stem(teks)\n",
    "\n",
    "# Lemmatization (menggunakan stemming hasil Sastrawi, karena lemmatizer khusus Indonesia belum tersedia)\n",
    "output = stemmed\n",
    "factory = StemmerFactory()\n",
    "stemmer = factory.create_stemmer()\n",
    "output = stemmer.stem(teks)\n",
    "\n",
    "print(\"Hasil stemming/lemmatization (Bahasa Indonesia):\", output)\n"
   ]
  },
  {
   "cell_type": "code",
   "execution_count": 16,
   "metadata": {
    "colab": {
     "base_uri": "https://localhost:8080/"
    },
    "id": "2oriBqcCZ3zz",
    "outputId": "14dcc0ee-8b7c-4d27-9073-fa724d521ebf"
   },
   "outputs": [
    {
     "name": "stdout",
     "output_type": "stream",
     "text": [
      "['berita', 'kini', 'hari', 'ini', 'kabar', 'akurat', 'percaya', 'kompascom', 'otomatis', 'mode', 'gelap', 'mode', 'terang', 'login', 'gabung', 'kompascom', 'konten', 'yang', 'simpan', 'konten', 'yang', 'suka', 'atur', 'minat', 'ikan', 'masuk', 'langgan', 'kompas', 'one', 'news', 'nasional', 'global', 'megapolitan', 'regional', 'milu', 'hype', 'konsultasi', 'hukum', 'cek', 'fakta', 'surat', 'baca', 'indeks', 'kilas', 'daerah', 'kilas', 'korporasi', 'kilas', 'menteri', 'sorot', 'politik', 'kilas', 'badan', 'negara', 'kelana', 'indonesia', 'kalbe', 'health', 'corner', 'kilas', 'parlemen', 'kilas', 'bumn', 'nusaraya', 'sumatera', 'utara', 'sumatera', 'selatan', 'sumatera', 'barat', 'riau', 'lampung', 'banten', 'yogyakarta', 'jawa', 'barat', 'jawa', 'tengah', 'jawa', 'timur', 'kalimantan', 'barat', 'kalimantan', 'timur', 'sulawesi', 'selatan', 'bal', 'indeks', 'jagat', 'literasi', 'artikel', 'foto', 'video', 'rolls', 'donasi', 'stem', 'cahaya', 'aktual', 'doa', 'dan', 'niat', 'jadwal', 'sholat', 'tekno', 'apps', 'os', 'gadget', 'internet', 'hardware', 'business', 'game', 'galeri', 'indeks', 'tech', 'innovation', 'kilas', 'internet', 'otomotif', 'motor', 'mobil', 'sport', 'niaga', 'komunitas', 'otopedia', 'rapah', 'ev', 'leadership', 'elektrifikasi', 'pamer', 'bola', 'timnas', 'indonesia', 'liga', 'indonesia', 'liga', 'inggris', 'liga', 'italia', 'liga', 'champions', 'klasemen', 'sports', 'motogp', 'badminton', 'indeks', 'lifestyle', 'wellness', 'fashion', 'relationship', 'parenting', 'beauty', 'grooming', 'buku', 'indeks', 'sadar', 'stunting', 'kilas', 'lifestyle', 'tren', 'lestari', 'health', 'sakit', 'az', 'kilas', 'sehat', 'money', 'ekbis', 'uang', 'syariah', 'industri', 'energi', 'karier', 'cuan', 'belanja', 'tanya', 'pajak', 'indeks', 'kilas', 'badan', 'kilas', 'transportasi', 'kilas', 'fintech', 'kilas', 'perban', 'kilas', 'investasi', 'transaksi', 'digital', 'jejak', 'umkm', 'properti', 'news', 'listing', 'properti', 'arsitektur', 'konstruksi', 'tips', 'properti', 'ikn', 'homey', 'indeks', 'sorot', 'properti', 'edukasi', 'sekolah', 'edu', 'news', 'guru', 'tinggi', 'didik', 'khusus', 'beasiswa', 'literasi', 'skola', 'kilas', 'didik', 'ideaksi', 'travel', 'travel', 'news', 'travel', 'ideas', 'hotel', 'story', 'travelpedia', 'food', 'ohayo', 'jepang', 'indeks', 'video', 'parapuan', 'kolom', 'sains', 'jeo', 'foto', 'vik', 'kata', 'netizen', 'warta', 'membership', 'kompascom', 'perintah', 'swasta', 'lsmfigur', 'bumn', 'umkm', 'nusatirta', 'mulai', 'dari', 'kamu', 'sehat', 'hidup', 'sehat', 'dan', 'sejahtera', 'air', 'bersih', 'dan', 'sanitasi', 'layak', 'didik', 'didik', 'kualitas', 'lingkung', 'energi', 'bersih', 'dan', 'jangkau', 'tangan', 'ubah', 'iklim', 'ekosistem', 'laut', 'ekosistem', 'darat', 'ekonomi', 'dan', 'umkm', 'tanpa', 'miskin', 'tanpa', 'lapar', 'tara', 'gender', 'kerja', 'layak', 'dan', 'tumbuh', 'ekonomi', 'industri', 'inovasi', 'infrastruktur', 'kurang', 'senjang', 'kota', 'mukim', 'yang', 'lanjut', 'konsumsi', 'produksi', 'yang', 'bertanggungjawab', 'program', 'lestari', 'lihat', 'semua', 'baca', 'berita', 'tanpa', 'iklan', 'gabung', 'kompascom', 'trending', 'timnas', 'indonesia', 'ponpes', 'al', 'khoziny', 'donald', 'trump', 'gencat', 'senjata', 'grand', 'mall', 'bekas', 'etanol', 'pada', 'bbm', 'timnas', 'indonesia', 'irak', 'pelat', 'nomor', 'indonesia', 'living', 'assistance', 'c', 'kualitas', 'udara', 'harga', 'beli', 'emas', 'jt', 'gr', 'jadwal', 'sholat', 'headline', 'usai', 'bata', 'stop', 'produksi', 'sepatu', 'menaker', 'akan', 'monitor', 'potensi', 'phk', 'seskab', 'serta', 'magang', 'nasional', 'gaji', 'tara', 'upah', 'minimun', 'jakarta', 'bisa', 'rp', 'juta', 'news', 'israel', 'siap', 'operasi', 'hancur', 'terowongan', 'hamas', 'di', 'bawah', 'gaza', 'global', 'ammar', 'zoni', 'edar', 'narkoba', 'di', 'rutan', 'ditjen', 'pas', 'pasti', 'napi', 'yang', 'libat', 'sanksi', 'news', 'ole', 'romeny', 'sulit', 'gambar', 'rasa', 'sakit', 'gagal', 'ke', 'piala', 'dunia', 'bola', 'mendikdasmen', 'mulai', 'tahun', 'bahasa', 'inggris', 'jadi', 'mapel', 'wajib', 'edukasi', 'saksi', 'warga', 'soal', 'tawur', 'remaja', 'tiap', 'pekan', 'di', 'rorotan', 'bawa', 'parang', 'dan', 'saling', 'kejar', 'news', 'populer', 'stafsus', 'kemenko', 'infrastruktur', 'bantah', 'rombong', 'ahy', 'susul', 'sultan', 'hb', 'x', 'pakai', 'tot', 'tot', 'wuk', 'wuk', 'di', 'jalan', 'regional', 'mendikdasmen', 'mulai', 'tahun', 'bahasa', 'inggris', 'jadi', 'mapel', 'wajib', 'edukasi', 'gak', 'mau', 'sekolah', 'isyarat', 'akhir', 'angga', 'belum', 'tewas', 'dibully', 'temantemannya', 'regional', 'israel', 'siap', 'operasi', 'hancur', 'terowongan', 'hamas', 'di', 'bawah', 'gaza', 'global', 'usai', 'bata', 'stop', 'produksi', 'sepatu', 'menaker', 'akan', 'monitor', 'potensi', 'phk', 'money', 'populer', 'lain', 'sorot', 'cek', 'tanah', 'kini', 'bisa', 'lewat', 'aplikasi', 'sentuh', 'tanah', 'begini', 'cara', 'properti', 'barus', 'rempah', 'nusantara', 'yang', 'lupa', 'agri', 'stafsus', 'kemenko', 'infrastruktur', 'bantah', 'rombong', 'ahy', 'susul', 'sultan', 'hb', 'x', 'pakai', 'tot', 'tot', 'wuk', 'wuk', 'di', 'jalan', 'regional', 'butuh', 'biaya', 'obat', 'untuk', 'ibu', 'eks', 'karyawan', 'bobol', 'brankas', 'restoran', 'di', 'halim', 'news', 'harga', 'emas', 'terus', 'naik', 'tepat', 'investasi', 'saat', 'ini', 'tren', 'atur', 'pilih', 'konten', 'otomotif', 'menit', 'lalu', 'alva', 'sedang', 'sertifikasi', 'homologasi', 'cervo', 'dan', 'n', 'untuk', 'ekspor', 'tren', 'menit', 'lalu', 'potret', 'satusatunya', 'warung', 'yang', 'jual', 'di', 'dekat', 'rumah', 'jokowi', 'bola', 'menit', 'lalu', 'reaksi', 'eks', 'asisten', 'shin', 'taeyong', 'usai', 'indonesia', 'gagal', 'lolos', 'piala', 'dunia', 'regional', 'menit', 'lalu', 'kakak', 'adik', 'tewas', 'tabrak', 'truk', 'di', 'taput', 'begini', 'kronologi', 'regional', 'menit', 'lalu', 'dinkes', 'ungkap', 'sppg', 'salur', 'mbg', 'yang', 'bikin', 'murid', 'sdn', 'matangkuli', 'muntah', 'belum', 'laik', 'higiene', 'reaksi', 'patrick', 'kluivert', 'usai', 'timnas', 'indonesia', 'kalah', 'dari', 'irak', 'dan', 'tak', 'lolos', 'piala', 'dunia', 'jam', 'lalu', 'prabowo', 'rapat', 'bareng', 'ketua', 'mpr', 'dan', 'kepala', 'bin', 'di', 'hambalang', 'bahas', 'apa', 'video', 'jam', 'lalu', 'hamas', 'absen', 'dari', 'janji', 'damai', 'gaza', 'mesir', 'tetap', 'siap', 'gelar', 'ktt', 'video', 'jam', 'lalu', 'banyak', 'santri', 'ponpes', 'al', 'khoziny', 'amputasi', 'perintah', 'siap', 'santun', 'dan', 'beasiswa', 'video', 'jam', 'lalu', 'parade', 'militer', 'korut', 'pamer', 'nuklir', 'canggih', 'warga', 'bersoraksorai', 'video', 'jam', 'lalu', 'sepakat', 'dengan', 'israel', 'besok', 'hamas', 'akan', 'bebas', 'sandera', 'video', 'jam', 'lalu', 'babak', 'baru', 'perang', 'dagang', 'mulai', 'hubung', 'aschina', 'retak', 'lagi', 'video', 'jam', 'lalu', 'tentara', 'madagaskar', 'balik', 'gabung', 'demonstran', 'tolak', 'perintah', 'tembak', 'warga', 'video', 'jam', 'lalu', 'regional', 'menit', 'lalu', 'gak', 'mau', 'sekolah', 'isyarat', 'akhir', 'angga', 'belum', 'tewas', 'dibully', 'temantemannya', 'global', 'menit', 'lalu', 'gaza', 'dari', 'pandang', 'drone', 'kota', 'tanpa', 'warna', 'hanya', 'puing', 'dan', 'debu', 'money', 'menit', 'lalu', 'ajar', 'dari', 'sipadan', 'dan', 'ligitan', 'saat', 'pulau', 'di', 'indonesia', 'lepas', 'karena', 'tak', 'ada', 'edar', 'rupiah', 'news', 'menit', 'lalu', 'laku', 'tawur', 'di', 'rorotan', 'rusak', 'jemur', 'hingga', 'rumah', 'warga', 'hype', 'menit', 'lalu', 'warganet', 'menang', 'minta', 'maaf', 'ke', 'ruben', 'onsu', 'usai', 'sebut', 'orang', 'bodoh', 'karena', 'tinggal', 'sarwendah', 'baca', 'berita', 'tanpa', 'iklan', 'gabung', 'kompascom', 'unduh', 'kompascom', 'app', 'untuk', 'berita', 'kini', 'akurat', 'dan', 'percaya', 'tiap', 'saat', 'arah', 'kamera', 'ke', 'kode', 'qr', 'ini', 'untuk', 'download', 'app', 'follow', 'us', 'kompasid', 'premium', 'cinta', 'pada', 'pandang', 'pertama', 'itu', 'hanya', 'ilusi', 'baca', 'lengkap', 'di', 'kompasid', 'dapat', 'akses', 'penuh', 'berita', 'kompasid', 'dengan', 'langgan', 'baca', 'berita', 'tanpa', 'iklan', 'gabung', 'kompascom', 'kilas', 'layan', 'juta', 'tumpang', 'bandara', 'i', 'gusti', 'ngurah', 'rai', 'sukses', 'bal', 'jadi', 'pulau', 'indah', 'asia', 'wujud', 'pertanggungjawaban', 'dan', 'buka', 'publik', 'trans', 'akan', 'open', 'house', 'dengan', 'live', 'media', 'sosial', 'jam', 'jajak', 'peluang', 'investasi', 'dari', 'tiongkok', 'menteri', 'transmigrasi', 'akan', 'fokus', 'pada', 'papua', 'kolom', 'gagal', 'timnas', 'ke', 'piala', 'dunia', 'dan', 'kisah', 'bodoh', 'tambang', 'emas', 'abdullah', 'sammy', 'teliti', 'dan', 'amat', 'barus', 'rempah', 'nusantara', 'yang', 'lupa', 'kuntoro', 'boga', 'direktur', 'hilir', 'hasil', 'kebun', 'tan', 'tak', 'perlu', 'sali', 'toh', 'main', 'juga', 'naturalisasi', 'silahudin', 'dosen', 'fenomena', 'dead', 'horse', 'pt', 'sepatu', 'bata', 'tbk', 'mochammad', 'mukti', 'ali', 'rektor', 'dan', 'wirausahawan', 'politik', 'olahraga', 'naturalisasi', 'dan', 'disorientasi', 'tuju', 'negara', 'dwi', 'munthaha', 'teliti', 'konsultan', 'lihat', 'lain', 'tualang', 'jajah', 'hidden', 'gems', 'di', 'hong', 'kong', 'hong', 'kong', 'milik', 'banyak', 'spot', 'wisata', 'tarik', 'jelajah', 'hidden', 'gems', 'di', 'hong', 'kong', 'rekomendasi', 'hktb', 'dan', 'dapat', 'alam', 'libur', 'tak', 'lupa', 'wib', 'wujud', 'kotakabupaten', 'ham', 'pantas', 'kota', 'bisa', 'jadi', 'ruang', 'aman', 'bagi', 'siapa', 'pun', 'apa', 'bisa', 'capai', 'kota', 'ham', 'wib', 'tirta', 'dan', 'emiliana', 'banyak', 'wilayah', 'indonesia', 'alami', 'krisis', 'air', 'nyata', 'masalah', 'tak', 'selalu', 'soal', 'air', 'tak', 'ada', 'tetapi', 'tata', 'kelola', 'alam', 'wahana', 'visi', 'indonesia', 'beri', 'gambar', 'upaya', 'selesai', 'wib', 'rapah', 'transjawa', 'eksplorasi', 'km', 'jalur', 'pansela', 'rekam', 'pesona', 'mudik', 'dari', 'jakarta', 'ke', 'banyuwangi', 'nikmat', 'panorama', 'alam', 'dan', 'budaya', 'di', 'jalur', 'transjawa', 'wib', 'otomotif', 'menit', 'lalu', 'rapor', 'jual', 'motor', 'listrik', 'di', 'indonesia', 'news', 'menit', 'lalu', 'polisi', 'tangkap', 'eks', 'karyawan', 'yang', 'bobol', 'brankas', 'restoran', 'di', 'halim', 'bola', 'menit', 'lalu', 'usai', 'indonesia', 'gagal', 'jurnalis', 'malaysia', 'ungkit', 'lagi', 'ganti', 'sty', 'ke', 'kluivert', 'tekno', 'menit', 'lalu', 'cara', 'batas', 'guna', 'wifi', 'agar', 'cepat', 'internet', 'stabil', 'mudah', 'tren', 'menit', 'lalu', 'prompt', 'ai', 'ubah', 'foto', 'jadi', 'animasi', 'bisa', 'di', 'gemini', 'dan', 'chatgpt', 'inspirasi', 'modifikasi', 'mobil', 'suzuki', 'dari', 'simpel', 'sampai', 'ekstrem', 'edukasi', 'menit', 'lalu', 'sekolah', 'baik', 'di', 'bogor', 'referensi', 'ikut', 'spmb', 'otomotif', 'menit', 'lalu', 'honda', 'cbf', 'siap', 'luncur', 'harga', 'mulai', 'rp', 'juta', 'money', 'menit', 'lalu', 'khofifah', 'produksi', 'padi', 'jatim', 'lebih', 'dari', 'juta', 'ton', 'tinggi', 'indonesia', 'news', 'menit', 'lalu', 'warga', 'rorotan', 'resah', 'usai', 'marak', 'tawur', 'remaja', 'bersajam', 'hype', 'jam', 'lalu', 'one', 'punch', 'man', 'season', 'rilis', 'jadwal', 'tayang', 'dan', 'link', 'nonton', 'resmi', 'jajal', 'bus', 'trans', 'jatim', 'koridor', 'rute', 'lamonganpaciran', 'sembari', 'makna', 'ajar', 'sunan', 'drajat', 'viral', 'di', 'tiktok', 'lagu', 'timing', 'jadi', 'cara', 'asyik', 'ajar', 'kata', 'jepang', 'sukkari', 'kini', 'tak', 'daya', 'dagang', 'buku', 'bekas', 'pasar', 'blauran', 'surabaya', 'tinggal', 'beli', 'raba', 'masa', 'depan', 'dengan', 'ai', 'bagai', 'copilot', 'close', 'ads', 'baca', 'berita', 'tanpa', 'iklan', 'gabung', 'kompascom', 'bola', 'jam', 'lalu', 'maarten', 'paes', 'pulang', 'ke', 'as', 'usai', 'bela', 'indonesia', 'di', 'kualifikasi', 'piala', 'dunia', 'news', 'jam', 'lalu', 'kirim', 'bus', 'listrik', 'transjakarta', 'target', 'rampung', 'akhir', 'properti', 'jam', 'lalu', 'cek', 'tanah', 'kini', 'bisa', 'lewat', 'aplikasi', 'sentuh', 'tanah', 'begini', 'cara', 'bola', 'jam', 'lalu', 'andre', 'rosiade', 'kluivert', 'silah', 'mundur', 'usai', 'gagal', 'ke', 'piala', 'dunia', 'hype', 'jam', 'lalu', 'axl', 'ramanda', 'kemas', 'ulang', 'lagu', 'kirana', 'cipta', 'ahmad', 'dhani', 'dan', 'erwin', 'prasetya', 'topik', 'pilih', 'tahun', 'perintah', 'prabowogibran', 'satu', 'tahun', 'perintah', 'prabowogibran', 'hukum', 'yang', 'belum', 'daulat', 'tahun', 'perintah', 'prabowo', 'bahlil', 'ungkap', 'capai', 'swasembada', 'energi', 'satu', 'tahun', 'komunikasi', 'publik', 'presiden', 'prabowo', 'lihat', 'semua', 'racun', 'mbg', 'sorot', 'mbg', 'lpk', 'jateng', 'para', 'siswa', 'juga', 'konsumen', 'karena', 'benar', 'tidak', 'makan', 'gratis', 'pemprov', 'jateng', 'bagi', 'nomor', 'hotline', 'adu', 'racun', 'mbg', 'temu', 'kadinkes', 'kota', 'malang', 'sppg', 'mbg', 'di', 'sdn', 'dinoyo', 'belum', 'kantong', 'sertifikat', 'lihat', 'semua', 'ponpes', 'al', 'khoziny', 'sidoarjo', 'ambruk', 'hut', 'ke', 'jatim', 'khofifah', 'doa', 'untuk', 'korban', 'ponpes', 'al', 'khoziny', 'pascatragedi', 'al', 'khoziny', 'eri', 'cahyadi', 'bakal', 'cek', 'struktur', 'bangun', 'ponpes', 'di', 'surabaya', 'santri', 'duga', 'ikut', 'ngecor', 'ponpes', 'al', 'khoziny', 'pakar', 'hukum', 'unair', 'beri', 'perintah', 'bisa', 'kena', 'sanksi', 'hukum', 'lihat', 'semua', 'edukasi', 'jam', 'lalu', 'khofifah', 'sebut', 'jumlah', 'sekolah', 'rakyat', 'jatim', 'banyak', 'indonesia', 'tekno', 'jam', 'lalu', 'youtuber', 'mrbeast', 'cemas', 'dan', 'khawatir', 'ai', 'makin', 'canggih', 'regional', 'jam', 'lalu', 'stafsus', 'kemenko', 'infrastruktur', 'bantah', 'rombong', 'ahy', 'susul', 'sultan', 'hb', 'x', 'pakai', 'tot', 'tot', 'wuk', 'wuk', 'di', 'jalan', 'news', 'jam', 'lalu', 'ammar', 'zoni', 'edar', 'narkoba', 'di', 'rutan', 'ditjen', 'pas', 'pasti', 'napi', 'yang', 'libat', 'sanksi', 'tren', 'jam', 'lalu', 'daftar', 'magang', 'kemnaker', 'panjang', 'ini', 'cara', 'daftar', 'foto', 'lihat', 'semua', 'berita', 'foto', 'lion', 'city', 'sailors', 'pupus', 'menang', 'persib', 'di', 'menit', 'akhir', 'berita', 'foto', 'debut', 'thom', 'haye', 'dan', 'eliano', 'reijnders', 'di', 'persib', 'berita', 'foto', 'unisba', 'dan', 'unpas', 'tembak', 'gas', 'air', 'mata', 'puluh', 'proyektil', 'sera', 'berita', 'foto', 'tilik', 'sumur', 'minyak', 'ilegal', 'di', 'blora', 'sumber', 'petaka', 'di', 'tengah', 'mukim', 'berita', 'foto', 'suasana', 'demo', 'pati', 'agustus', 'travel', 'jam', 'lalu', 'asal', 'usul', 'jalan', 'harmoni', 'pusat', 'rumah', 'ibadah', 'lintas', 'agama', 'di', 'melaka', 'money', 'jam', 'lalu', 'usai', 'bata', 'stop', 'produksi', 'sepatu', 'menaker', 'akan', 'monitor', 'potensi', 'phk', 'news', 'jam', 'lalu', 'butuh', 'biaya', 'obat', 'untuk', 'ibu', 'eks', 'karyawan', 'bobol', 'brankas', 'restoran', 'di', 'halim', 'video', 'jam', 'lalu', 'reaksi', 'patrick', 'kluivert', 'usai', 'timnas', 'indonesia', 'kalah', 'dari', 'irak', 'dan', 'tak', 'lolos', 'piala', 'dunia', 'health', 'jam', 'lalu', 'aktivitas', 'luar', 'ruang', 'bantu', 'cegah', 'mata', 'minus', 'pada', 'anak', 'warga', 'gaza', 'ramairamai', 'pulang', 'ke', 'rumah', 'yang', 'hancur', 'di', 'hari', 'dua', 'gencat', 'senjata', 'bola', 'jam', 'lalu', 'djanur', 'soal', 'garuda', 'timnas', 'indonesia', 'belum', 'siap', 'ke', 'piala', 'dunia', 'regional', 'jam', 'lalu', 'turis', 'surabaya', 'seret', 'ombak', 'di', 'pantai', 'modangan', 'malang', 'hilang', 'tewas', 'bola', 'jam', 'lalu', 'maarten', 'paes', 'patah', 'hati', 'garuda', 'gagal', 'lolos', 'tapi', 'janji', 'juang', 'lagi', 'otomotif', 'jam', 'lalu', 'kenal', 'xiaomi', 'su', 'sedan', 'listrik', 'pintar', 'yang', 'lirik', 'perintah', 'edukasi', 'jam', 'lalu', 'universitas', 'baik', 'di', 'jepang', 'versi', 'the', 'wur', 'referensi', 'kuliah', 'ke', 'luar', 'negeri', 'next', 'produk', 'rekomendasi', 'baca', 'berita', 'tanpa', 'iklan', 'gabung', 'kompascom', 'komentar', 'klik', 'untuk', 'berita', 'baru', 'harga', 'dan', 'sertifikat', 'dapat', 'informasi', 'dan', 'insight', 'pilih', 'redaksi', 'kompascom', 'daftar', 'email', 'kanal', 'news', 'nasional', 'global', 'megapolitan', 'regional', 'milu', 'ikn', 'bola', 'tekno', 'otomotif', 'entertainment', 'sains', 'health', 'money', 'tren', 'properti', 'lifestyle', 'hype', 'travel', 'homey', 'food', 'umkm', 'edukasi', 'parapuan', 'foto', 'video', 'kolom', 'vik', 'jeo', 'lestari', 'ohayo', 'jepang', 'pesona', 'indonesia', 'play', 'artikel', 'populer', 'artikel', 'kini', 'topik', 'pilih', 'artikel', 'headline', 'network', 'kompascom', 'hari', 'kompas', 'kompastv', 'kompasiana', 'kg', 'media', 'kgnow', 'pasangiklancom', 'kontan', 'sonora', 'gridid', 'gridotocom', 'bolasportcom', 'parapuan', 'tribunnews', 'gramediacom', 'gramedia', 'digital', 'kabar', 'palmerah', 'about', 'us', 'advertise', 'tentu', 'guna', 'bijak', 'data', 'pribadi', 'pedoman', 'media', 'siber', 'career', 'contact', 'us', 'copyright', 'pt', 'kompas', 'cyber', 'media', 'kompas', 'gramedia', 'digital', 'group', 'all', 'rights', 'reserved', 'bagi', 'artikel', 'ini', 'lalu', 'facebook', 'x', 'whatsapp', 'line', 'telegram', 'copy', 'link', 'oke', 'living', 'assistance', 'cuaca', 'emas', 'plus', 'baca', 'cepat', 'cek', 'sehat', 'atur', 'uang', 'klasemen', 'olahraga', 'jadwal', 'salat', 'game', 'kuis', 'beri', 'masuk', 'atur', 'minat']\n"
     ]
    }
   ],
   "source": [
    "#tokenizing\n",
    "tokens = [t for t in output.split()]\n",
    "print(tokens)"
   ]
  },
  {
   "cell_type": "code",
   "execution_count": 17,
   "metadata": {},
   "outputs": [
    {
     "name": "stdout",
     "output_type": "stream",
     "text": [
      "['berita', 'kabar', 'akurat', 'percaya', 'kompascom', 'otomatis', 'mode', 'gelap', 'mode', 'terang', 'login', 'gabung', 'kompascom', 'konten', 'simpan', 'konten', 'suka', 'atur', 'minat', 'ikan', 'masuk', 'langgan', 'kompas', 'one', 'news', 'nasional', 'global', 'megapolitan', 'regional', 'milu', 'hype', 'konsultasi', 'hukum', 'cek', 'fakta', 'surat', 'baca', 'indeks', 'kilas', 'daerah', 'kilas', 'korporasi', 'kilas', 'menteri', 'sorot', 'politik', 'kilas', 'badan', 'negara', 'kelana', 'indonesia', 'kalbe', 'health', 'corner', 'kilas', 'parlemen', 'kilas', 'bumn', 'nusaraya', 'sumatera', 'utara', 'sumatera', 'selatan', 'sumatera', 'barat', 'riau', 'lampung', 'banten', 'yogyakarta', 'jawa', 'barat', 'jawa', 'jawa', 'timur', 'kalimantan', 'barat', 'kalimantan', 'timur', 'sulawesi', 'selatan', 'bal', 'indeks', 'jagat', 'literasi', 'artikel', 'foto', 'video', 'rolls', 'donasi', 'stem', 'cahaya', 'aktual', 'doa', 'niat', 'jadwal', 'sholat', 'tekno', 'apps', 'os', 'gadget', 'internet', 'hardware', 'business', 'game', 'galeri', 'indeks', 'tech', 'innovation', 'kilas', 'internet', 'otomotif', 'motor', 'mobil', 'sport', 'niaga', 'komunitas', 'otopedia', 'rapah', 'ev', 'leadership', 'elektrifikasi', 'pamer', 'bola', 'timnas', 'indonesia', 'liga', 'indonesia', 'liga', 'inggris', 'liga', 'italia', 'liga', 'champions', 'klasemen', 'sports', 'motogp', 'badminton', 'indeks', 'lifestyle', 'wellness', 'fashion', 'relationship', 'parenting', 'beauty', 'grooming', 'buku', 'indeks', 'sadar', 'stunting', 'kilas', 'lifestyle', 'tren', 'lestari', 'health', 'sakit', 'az', 'kilas', 'sehat', 'money', 'ekbis', 'uang', 'syariah', 'industri', 'energi', 'karier', 'cuan', 'belanja', 'pajak', 'indeks', 'kilas', 'badan', 'kilas', 'transportasi', 'kilas', 'fintech', 'kilas', 'perban', 'kilas', 'investasi', 'transaksi', 'digital', 'jejak', 'umkm', 'properti', 'news', 'listing', 'properti', 'arsitektur', 'konstruksi', 'tips', 'properti', 'ikn', 'homey', 'indeks', 'sorot', 'properti', 'edukasi', 'sekolah', 'edu', 'news', 'guru', 'didik', 'khusus', 'beasiswa', 'literasi', 'skola', 'kilas', 'didik', 'ideaksi', 'travel', 'travel', 'news', 'travel', 'ideas', 'hotel', 'story', 'travelpedia', 'food', 'ohayo', 'jepang', 'indeks', 'video', 'parapuan', 'kolom', 'sains', 'jeo', 'foto', 'vik', 'netizen', 'warta', 'membership', 'kompascom', 'perintah', 'swasta', 'lsmfigur', 'bumn', 'umkm', 'nusatirta', 'sehat', 'hidup', 'sehat', 'sejahtera', 'air', 'bersih', 'sanitasi', 'layak', 'didik', 'didik', 'kualitas', 'lingkung', 'energi', 'bersih', 'jangkau', 'tangan', 'ubah', 'iklim', 'ekosistem', 'laut', 'ekosistem', 'darat', 'ekonomi', 'umkm', 'miskin', 'lapar', 'tara', 'gender', 'kerja', 'layak', 'tumbuh', 'ekonomi', 'industri', 'inovasi', 'infrastruktur', 'senjang', 'kota', 'mukim', 'konsumsi', 'produksi', 'bertanggungjawab', 'program', 'lestari', 'lihat', 'baca', 'berita', 'iklan', 'gabung', 'kompascom', 'trending', 'timnas', 'indonesia', 'ponpes', 'al', 'khoziny', 'donald', 'trump', 'gencat', 'senjata', 'grand', 'mall', 'bekas', 'etanol', 'bbm', 'timnas', 'indonesia', 'irak', 'pelat', 'nomor', 'indonesia', 'living', 'assistance', 'c', 'kualitas', 'udara', 'harga', 'beli', 'emas', 'jt', 'gr', 'jadwal', 'sholat', 'headline', 'bata', 'stop', 'produksi', 'sepatu', 'menaker', 'monitor', 'potensi', 'phk', 'seskab', 'magang', 'nasional', 'gaji', 'tara', 'upah', 'minimun', 'jakarta', 'rp', 'juta', 'news', 'israel', 'operasi', 'hancur', 'terowongan', 'hamas', 'gaza', 'global', 'ammar', 'zoni', 'edar', 'narkoba', 'rutan', 'ditjen', 'pas', 'napi', 'libat', 'sanksi', 'news', 'ole', 'romeny', 'sulit', 'gambar', 'sakit', 'gagal', 'piala', 'dunia', 'bola', 'mendikdasmen', 'bahasa', 'inggris', 'mapel', 'wajib', 'edukasi', 'saksi', 'warga', 'tawur', 'remaja', 'pekan', 'rorotan', 'bawa', 'parang', 'kejar', 'news', 'populer', 'stafsus', 'kemenko', 'infrastruktur', 'bantah', 'rombong', 'ahy', 'susul', 'sultan', 'hb', 'x', 'pakai', 'tot', 'tot', 'wuk', 'wuk', 'jalan', 'regional', 'mendikdasmen', 'bahasa', 'inggris', 'mapel', 'wajib', 'edukasi', 'gak', 'sekolah', 'isyarat', 'angga', 'tewas', 'dibully', 'temantemannya', 'regional', 'israel', 'operasi', 'hancur', 'terowongan', 'hamas', 'gaza', 'global', 'bata', 'stop', 'produksi', 'sepatu', 'menaker', 'monitor', 'potensi', 'phk', 'money', 'populer', 'sorot', 'cek', 'tanah', 'aplikasi', 'sentuh', 'tanah', 'properti', 'barus', 'rempah', 'nusantara', 'lupa', 'agri', 'stafsus', 'kemenko', 'infrastruktur', 'bantah', 'rombong', 'ahy', 'susul', 'sultan', 'hb', 'x', 'pakai', 'tot', 'tot', 'wuk', 'wuk', 'jalan', 'regional', 'butuh', 'biaya', 'obat', 'eks', 'karyawan', 'bobol', 'brankas', 'restoran', 'halim', 'news', 'harga', 'emas', 'investasi', 'tren', 'atur', 'pilih', 'konten', 'otomotif', 'menit', 'alva', 'sertifikasi', 'homologasi', 'cervo', 'n', 'ekspor', 'tren', 'menit', 'potret', 'satusatunya', 'warung', 'jual', 'rumah', 'jokowi', 'bola', 'menit', 'reaksi', 'eks', 'asisten', 'shin', 'taeyong', 'indonesia', 'gagal', 'lolos', 'piala', 'dunia', 'regional', 'menit', 'kakak', 'adik', 'tewas', 'tabrak', 'truk', 'taput', 'kronologi', 'regional', 'menit', 'dinkes', 'sppg', 'salur', 'mbg', 'bikin', 'murid', 'sdn', 'matangkuli', 'muntah', 'laik', 'higiene', 'reaksi', 'patrick', 'kluivert', 'timnas', 'indonesia', 'kalah', 'irak', 'lolos', 'piala', 'dunia', 'jam', 'prabowo', 'rapat', 'bareng', 'ketua', 'mpr', 'kepala', 'bin', 'hambalang', 'bahas', 'video', 'jam', 'hamas', 'absen', 'janji', 'damai', 'gaza', 'mesir', 'gelar', 'ktt', 'video', 'jam', 'santri', 'ponpes', 'al', 'khoziny', 'amputasi', 'perintah', 'santun', 'beasiswa', 'video', 'jam', 'parade', 'militer', 'korut', 'pamer', 'nuklir', 'canggih', 'warga', 'bersoraksorai', 'video', 'jam', 'sepakat', 'israel', 'besok', 'hamas', 'bebas', 'sandera', 'video', 'jam', 'babak', 'perang', 'dagang', 'hubung', 'aschina', 'retak', 'video', 'jam', 'tentara', 'madagaskar', 'gabung', 'demonstran', 'tolak', 'perintah', 'tembak', 'warga', 'video', 'jam', 'regional', 'menit', 'gak', 'sekolah', 'isyarat', 'angga', 'tewas', 'dibully', 'temantemannya', 'global', 'menit', 'gaza', 'pandang', 'drone', 'kota', 'warna', 'puing', 'debu', 'money', 'menit', 'ajar', 'sipadan', 'ligitan', 'pulau', 'indonesia', 'lepas', 'edar', 'rupiah', 'news', 'menit', 'laku', 'tawur', 'rorotan', 'rusak', 'jemur', 'rumah', 'warga', 'hype', 'menit', 'warganet', 'menang', 'maaf', 'ruben', 'onsu', 'orang', 'bodoh', 'tinggal', 'sarwendah', 'baca', 'berita', 'iklan', 'gabung', 'kompascom', 'unduh', 'kompascom', 'app', 'berita', 'akurat', 'percaya', 'arah', 'kamera', 'kode', 'qr', 'download', 'app', 'follow', 'us', 'kompasid', 'premium', 'cinta', 'pandang', 'ilusi', 'baca', 'lengkap', 'kompasid', 'akses', 'penuh', 'berita', 'kompasid', 'langgan', 'baca', 'berita', 'iklan', 'gabung', 'kompascom', 'kilas', 'layan', 'juta', 'tumpang', 'bandara', 'i', 'gusti', 'ngurah', 'rai', 'sukses', 'bal', 'pulau', 'indah', 'asia', 'wujud', 'pertanggungjawaban', 'buka', 'publik', 'trans', 'open', 'house', 'live', 'media', 'sosial', 'jam', 'jajak', 'peluang', 'investasi', 'tiongkok', 'menteri', 'transmigrasi', 'fokus', 'papua', 'kolom', 'gagal', 'timnas', 'piala', 'dunia', 'kisah', 'bodoh', 'tambang', 'emas', 'abdullah', 'sammy', 'teliti', 'barus', 'rempah', 'nusantara', 'lupa', 'kuntoro', 'boga', 'direktur', 'hilir', 'hasil', 'kebun', 'tan', 'sali', 'main', 'naturalisasi', 'silahudin', 'dosen', 'fenomena', 'dead', 'horse', 'pt', 'sepatu', 'bata', 'tbk', 'mochammad', 'mukti', 'ali', 'rektor', 'wirausahawan', 'politik', 'olahraga', 'naturalisasi', 'disorientasi', 'tuju', 'negara', 'dwi', 'munthaha', 'teliti', 'konsultan', 'lihat', 'tualang', 'jajah', 'hidden', 'gems', 'hong', 'kong', 'hong', 'kong', 'milik', 'spot', 'wisata', 'tarik', 'jelajah', 'hidden', 'gems', 'hong', 'kong', 'rekomendasi', 'hktb', 'alam', 'libur', 'lupa', 'wib', 'wujud', 'kotakabupaten', 'ham', 'kota', 'ruang', 'aman', 'capai', 'kota', 'ham', 'wib', 'tirta', 'emiliana', 'wilayah', 'indonesia', 'alami', 'krisis', 'air', 'nyata', 'air', 'tata', 'kelola', 'alam', 'wahana', 'visi', 'indonesia', 'gambar', 'upaya', 'selesai', 'wib', 'rapah', 'transjawa', 'eksplorasi', 'km', 'jalur', 'pansela', 'rekam', 'pesona', 'mudik', 'jakarta', 'banyuwangi', 'nikmat', 'panorama', 'alam', 'budaya', 'jalur', 'transjawa', 'wib', 'otomotif', 'menit', 'rapor', 'jual', 'motor', 'listrik', 'indonesia', 'news', 'menit', 'polisi', 'tangkap', 'eks', 'karyawan', 'bobol', 'brankas', 'restoran', 'halim', 'bola', 'menit', 'indonesia', 'gagal', 'jurnalis', 'malaysia', 'ungkit', 'ganti', 'sty', 'kluivert', 'tekno', 'menit', 'batas', 'wifi', 'cepat', 'internet', 'stabil', 'mudah', 'tren', 'menit', 'prompt', 'ai', 'ubah', 'foto', 'animasi', 'gemini', 'chatgpt', 'inspirasi', 'modifikasi', 'mobil', 'suzuki', 'simpel', 'ekstrem', 'edukasi', 'menit', 'sekolah', 'bogor', 'referensi', 'spmb', 'otomotif', 'menit', 'honda', 'cbf', 'luncur', 'harga', 'rp', 'juta', 'money', 'menit', 'khofifah', 'produksi', 'padi', 'jatim', 'juta', 'ton', 'indonesia', 'news', 'menit', 'warga', 'rorotan', 'resah', 'marak', 'tawur', 'remaja', 'bersajam', 'hype', 'jam', 'one', 'punch', 'man', 'season', 'rilis', 'jadwal', 'tayang', 'link', 'nonton', 'resmi', 'jajal', 'bus', 'trans', 'jatim', 'koridor', 'rute', 'lamonganpaciran', 'sembari', 'makna', 'ajar', 'sunan', 'drajat', 'viral', 'tiktok', 'lagu', 'timing', 'asyik', 'ajar', 'jepang', 'sukkari', 'daya', 'dagang', 'buku', 'bekas', 'pasar', 'blauran', 'surabaya', 'tinggal', 'beli', 'raba', 'ai', 'copilot', 'close', 'ads', 'baca', 'berita', 'iklan', 'gabung', 'kompascom', 'bola', 'jam', 'maarten', 'paes', 'pulang', 'as', 'bela', 'indonesia', 'kualifikasi', 'piala', 'dunia', 'news', 'jam', 'kirim', 'bus', 'listrik', 'transjakarta', 'target', 'rampung', 'properti', 'jam', 'cek', 'tanah', 'aplikasi', 'sentuh', 'tanah', 'bola', 'jam', 'andre', 'rosiade', 'kluivert', 'silah', 'mundur', 'gagal', 'piala', 'dunia', 'hype', 'jam', 'axl', 'ramanda', 'kemas', 'ulang', 'lagu', 'kirana', 'cipta', 'ahmad', 'dhani', 'erwin', 'prasetya', 'topik', 'pilih', 'perintah', 'prabowogibran', 'perintah', 'prabowogibran', 'hukum', 'daulat', 'perintah', 'prabowo', 'bahlil', 'capai', 'swasembada', 'energi', 'komunikasi', 'publik', 'presiden', 'prabowo', 'lihat', 'racun', 'mbg', 'sorot', 'mbg', 'lpk', 'jateng', 'siswa', 'konsumen', 'makan', 'gratis', 'pemprov', 'jateng', 'nomor', 'hotline', 'adu', 'racun', 'mbg', 'temu', 'kadinkes', 'kota', 'malang', 'sppg', 'mbg', 'sdn', 'dinoyo', 'kantong', 'sertifikat', 'lihat', 'ponpes', 'al', 'khoziny', 'sidoarjo', 'ambruk', 'hut', 'jatim', 'khofifah', 'doa', 'korban', 'ponpes', 'al', 'khoziny', 'pascatragedi', 'al', 'khoziny', 'eri', 'cahyadi', 'cek', 'struktur', 'bangun', 'ponpes', 'surabaya', 'santri', 'duga', 'ngecor', 'ponpes', 'al', 'khoziny', 'pakar', 'hukum', 'unair', 'perintah', 'kena', 'sanksi', 'hukum', 'lihat', 'edukasi', 'jam', 'khofifah', 'sekolah', 'rakyat', 'jatim', 'indonesia', 'tekno', 'jam', 'youtuber', 'mrbeast', 'cemas', 'khawatir', 'ai', 'canggih', 'regional', 'jam', 'stafsus', 'kemenko', 'infrastruktur', 'bantah', 'rombong', 'ahy', 'susul', 'sultan', 'hb', 'x', 'pakai', 'tot', 'tot', 'wuk', 'wuk', 'jalan', 'news', 'jam', 'ammar', 'zoni', 'edar', 'narkoba', 'rutan', 'ditjen', 'pas', 'napi', 'libat', 'sanksi', 'tren', 'jam', 'daftar', 'magang', 'kemnaker', 'daftar', 'foto', 'lihat', 'berita', 'foto', 'lion', 'city', 'sailors', 'pupus', 'menang', 'persib', 'menit', 'berita', 'foto', 'debut', 'thom', 'haye', 'eliano', 'reijnders', 'persib', 'berita', 'foto', 'unisba', 'unpas', 'tembak', 'gas', 'air', 'mata', 'puluh', 'proyektil', 'sera', 'berita', 'foto', 'tilik', 'sumur', 'minyak', 'ilegal', 'blora', 'sumber', 'petaka', 'mukim', 'berita', 'foto', 'suasana', 'demo', 'pati', 'agustus', 'travel', 'jam', 'usul', 'jalan', 'harmoni', 'pusat', 'rumah', 'ibadah', 'lintas', 'agama', 'melaka', 'money', 'jam', 'bata', 'stop', 'produksi', 'sepatu', 'menaker', 'monitor', 'potensi', 'phk', 'news', 'jam', 'butuh', 'biaya', 'obat', 'eks', 'karyawan', 'bobol', 'brankas', 'restoran', 'halim', 'video', 'jam', 'reaksi', 'patrick', 'kluivert', 'timnas', 'indonesia', 'kalah', 'irak', 'lolos', 'piala', 'dunia', 'health', 'jam', 'aktivitas', 'ruang', 'bantu', 'cegah', 'mata', 'minus', 'anak', 'warga', 'gaza', 'ramairamai', 'pulang', 'rumah', 'hancur', 'gencat', 'senjata', 'bola', 'jam', 'djanur', 'garuda', 'timnas', 'indonesia', 'piala', 'dunia', 'regional', 'jam', 'turis', 'surabaya', 'seret', 'ombak', 'pantai', 'modangan', 'malang', 'hilang', 'tewas', 'bola', 'jam', 'maarten', 'paes', 'patah', 'hati', 'garuda', 'gagal', 'lolos', 'janji', 'juang', 'otomotif', 'jam', 'kenal', 'xiaomi', 'su', 'sedan', 'listrik', 'pintar', 'lirik', 'perintah', 'edukasi', 'jam', 'universitas', 'jepang', 'versi', 'the', 'wur', 'referensi', 'kuliah', 'negeri', 'next', 'produk', 'rekomendasi', 'baca', 'berita', 'iklan', 'gabung', 'kompascom', 'komentar', 'klik', 'berita', 'harga', 'sertifikat', 'informasi', 'insight', 'pilih', 'redaksi', 'kompascom', 'daftar', 'email', 'kanal', 'news', 'nasional', 'global', 'megapolitan', 'regional', 'milu', 'ikn', 'bola', 'tekno', 'otomotif', 'entertainment', 'sains', 'health', 'money', 'tren', 'properti', 'lifestyle', 'hype', 'travel', 'homey', 'food', 'umkm', 'edukasi', 'parapuan', 'foto', 'video', 'kolom', 'vik', 'jeo', 'lestari', 'ohayo', 'jepang', 'pesona', 'indonesia', 'play', 'artikel', 'populer', 'artikel', 'topik', 'pilih', 'artikel', 'headline', 'network', 'kompascom', 'kompas', 'kompastv', 'kompasiana', 'kg', 'media', 'kgnow', 'pasangiklancom', 'kontan', 'sonora', 'gridid', 'gridotocom', 'bolasportcom', 'parapuan', 'tribunnews', 'gramediacom', 'gramedia', 'digital', 'kabar', 'palmerah', 'about', 'us', 'advertise', 'bijak', 'data', 'pribadi', 'pedoman', 'media', 'siber', 'career', 'contact', 'us', 'copyright', 'pt', 'kompas', 'cyber', 'media', 'kompas', 'gramedia', 'digital', 'group', 'all', 'rights', 'reserved', 'artikel', 'facebook', 'x', 'whatsapp', 'line', 'telegram', 'copy', 'link', 'oke', 'living', 'assistance', 'cuaca', 'emas', 'plus', 'baca', 'cepat', 'cek', 'sehat', 'atur', 'uang', 'klasemen', 'olahraga', 'jadwal', 'salat', 'game', 'kuis', 'masuk', 'atur', 'minat']\n"
     ]
    },
    {
     "name": "stderr",
     "output_type": "stream",
     "text": [
      "[nltk_data] Downloading package stopwords to\n",
      "[nltk_data]     C:\\Users\\hp\\AppData\\Roaming\\nltk_data...\n",
      "[nltk_data]   Package stopwords is already up-to-date!\n"
     ]
    }
   ],
   "source": [
    "# menghapus stopwords dari tokens\n",
    "nltk.download('stopwords')\n",
    "stop_words = set(stopwords.words('indonesian'))\n",
    "filtered_tokens = [word for word in tokens if word not in stop_words]\n",
    "print(filtered_tokens)"
   ]
  },
  {
   "cell_type": "markdown",
   "metadata": {},
   "source": [
    "### tf-idf\n",
    "TF-IDF (Term Frequency-Inverse Document Frequency): TF-IDF menghitung seberapa penting sebuah kata dalam sebuah dokumen relatif terhadap seluruh koleksi dokumen. Outputnya adalah matriks di mana setiap baris mewakili dokumen dan setiap kolom mewakili kata unik dalam seluruh koleksi. Nilai di dalam sel menunjukkan skor TF-IDF kata tersebut dalam dokumen. Karena setiap kolom mewakili sebuah kata, maka header kolomnya adalah kata-kata itu sendiri."
   ]
  },
  {
   "cell_type": "code",
   "execution_count": 18,
   "metadata": {},
   "outputs": [
    {
     "name": "stdout",
     "output_type": "stream",
     "text": [
      "\n",
      "TF-IDF shape: (1456, 796)\n",
      "   abdullah  about  absen  adik  ads  adu  advertise  agama  agri  agustus  \\\n",
      "0       0.0    0.0    0.0   0.0  0.0  0.0        0.0    0.0   0.0      0.0   \n",
      "1       0.0    0.0    0.0   0.0  0.0  0.0        0.0    0.0   0.0      0.0   \n",
      "2       0.0    0.0    0.0   0.0  0.0  0.0        0.0    0.0   0.0      0.0   \n",
      "3       0.0    0.0    0.0   0.0  0.0  0.0        0.0    0.0   0.0      0.0   \n",
      "4       0.0    0.0    0.0   0.0  0.0  0.0        0.0    0.0   0.0      0.0   \n",
      "\n",
      "   ...  wilayah  wirausahawan  wisata  wujud  wuk  wur  xiaomi  yogyakarta  \\\n",
      "0  ...      0.0           0.0     0.0    0.0  0.0  0.0     0.0         0.0   \n",
      "1  ...      0.0           0.0     0.0    0.0  0.0  0.0     0.0         0.0   \n",
      "2  ...      0.0           0.0     0.0    0.0  0.0  0.0     0.0         0.0   \n",
      "3  ...      0.0           0.0     0.0    0.0  0.0  0.0     0.0         0.0   \n",
      "4  ...      0.0           0.0     0.0    0.0  0.0  0.0     0.0         0.0   \n",
      "\n",
      "   youtuber  zoni  \n",
      "0       0.0   0.0  \n",
      "1       0.0   0.0  \n",
      "2       0.0   0.0  \n",
      "3       0.0   0.0  \n",
      "4       0.0   0.0  \n",
      "\n",
      "[5 rows x 796 columns]\n"
     ]
    }
   ],
   "source": [
    "from sklearn.feature_extraction.text import TfidfVectorizer\n",
    "import pandas as pd\n",
    "\n",
    "vectorizer = TfidfVectorizer()\n",
    "tfidf_matrix = vectorizer.fit_transform(filtered_tokens)\n",
    "\n",
    "# ubah ke DataFrame biar keliatan\n",
    "tfidf_df = pd.DataFrame(\n",
    "    tfidf_matrix.toarray(),\n",
    "    columns=vectorizer.get_feature_names_out()\n",
    ")\n",
    "\n",
    "print(\"\\nTF-IDF shape:\", tfidf_df.shape)\n",
    "print(tfidf_df.head())\n",
    "\n",
    "# Simpan hasil TF-IDF ke CSV\n",
    "# Jika Anda ingin menyimpan dokumen x fitur, indeks baris mewakili dokumen yang diberikan ke fit_transform\n",
    "tfidf_df.to_csv('tfidf.csv', index=False, float_format='%.6f', encoding='utf-8')"
   ]
  },
  {
   "cell_type": "markdown",
   "metadata": {},
   "source": [
    "## word embedding\n",
    "\n",
    "Word2Vec: Word2Vec adalah teknik word embedding yang memetakan setiap kata ke dalam sebuah vektor numerik dalam ruang berdimensi rendah (dalam kasus Anda, 56 dimensi). Outputnya adalah sekumpulan vektor, satu untuk setiap kata. Tabel yang Anda lihat menampilkan vektor-vektor ini. Setiap baris adalah kata, dan setiap kolom adalah salah satu dari 56 dimensi vektor tersebut. Oleh karena itu, header kolomnya adalah indeks dimensi (0 hingga 55), bukan kata-kata itu sendiri.\n",
    "Singkatnya, TF-IDF menggunakan kata sebagai fitur, sedangkan Word2Vec menggunakan dimensi vektor sebagai fitur untuk merepresentasikan kata."
   ]
  },
  {
   "cell_type": "code",
   "execution_count": 19,
   "metadata": {},
   "outputs": [
    {
     "name": "stdout",
     "output_type": "stream",
     "text": [
      "Word2Vec<vocab=800, vector_size=56, alpha=0.025>\n"
     ]
    }
   ],
   "source": [
    "corpus = []\n",
    "for col in filtered_tokens:\n",
    "   word_list = col.split(\" \")\n",
    "   corpus.append(word_list)\n",
    "\n",
    "#show first value\n",
    "corpus[0:1]\n",
    "\n",
    "#generate vectors from corpus\n",
    "model = Word2Vec(corpus, min_count=1, vector_size = 56)\n",
    "print(model)"
   ]
  },
  {
   "cell_type": "code",
   "execution_count": 20,
   "metadata": {},
   "outputs": [],
   "source": [
    "class MyTokenizer:\n",
    "    def fit_transform(self, texts):\n",
    "        # Tokenisasi sederhana: lowercase + split\n",
    "        return [str(text).lower().split() for text in texts]\n",
    "\n",
    "class MeanEmbeddingVectorizer:\n",
    "    def __init__(self, word2vec_model):\n",
    "        self.word2vec = word2vec_model\n",
    "        # Perbaikan: gunakan vector_size (Gensim ≥ 4.0)\n",
    "        self.dim = word2vec_model.wv.vector_size\n",
    "\n",
    "    def fit(self, X, y=None):\n",
    "        return self\n",
    "\n",
    "    def transform(self, X):\n",
    "        X_tokenized = MyTokenizer().fit_transform(X)\n",
    "        embeddings = []\n",
    "        for words in X_tokenized:\n",
    "            # Ambil vektor hanya untuk kata yang ada di vocab\n",
    "            valid_vectors = [\n",
    "                self.word2vec.wv[word] for word in words\n",
    "                if word in self.word2vec.wv\n",
    "            ]\n",
    "            if valid_vectors:\n",
    "                embeddings.append(np.mean(valid_vectors, axis=0))\n",
    "            else:\n",
    "                embeddings.append(np.zeros(self.dim))\n",
    "        return np.array(embeddings)\n",
    "\n",
    "    def fit_transform(self, X, y=None):\n",
    "        return self.transform(X)"
   ]
  },
  {
   "cell_type": "code",
   "execution_count": 21,
   "metadata": {},
   "outputs": [
    {
     "name": "stdout",
     "output_type": "stream",
     "text": [
      "[[-2.7003392e-04  4.2531066e-04  4.4232607e-04  4.2322406e-04\n",
      "   7.7212469e-05 -7.8060210e-04  4.6681592e-04 -8.3155493e-04\n",
      "  -1.0894785e-03 -8.0118043e-04 -7.6753751e-04 -9.3880153e-05\n",
      "  -4.6876841e-05 -4.1861497e-04  2.8906083e-05  1.2218597e-03\n",
      "  -2.7702877e-04  2.4325485e-04  4.1746885e-06 -4.0944316e-05\n",
      "   5.2286213e-04  4.8105698e-04  5.1001966e-04 -7.3930481e-04\n",
      "   7.2097656e-04 -3.5313162e-04  1.2111743e-03  7.7221193e-04\n",
      "  -1.6289912e-04 -5.9976231e-04 -5.7370332e-04  2.9825687e-04\n",
      "   1.3926017e-04 -5.5644003e-05 -7.7885552e-04 -5.6212716e-04\n",
      "   7.7202480e-04 -2.4221546e-04  7.2814245e-04 -4.2646125e-04\n",
      "  -6.7524007e-04 -1.8738526e-04  3.0446419e-05  4.7901477e-04\n",
      "  -1.8967327e-04  4.5508673e-04  5.8436219e-04  7.4628787e-04\n",
      "   2.8179557e-04  5.2998320e-04 -5.3852674e-04  7.1011134e-04\n",
      "  -2.6477117e-04  9.3438757e-05  2.0440969e-04 -4.8174334e-04]]\n"
     ]
    }
   ],
   "source": [
    "mean_embedding_vectorizer = MeanEmbeddingVectorizer(model)\n",
    "mean_embedded = mean_embedding_vectorizer.fit_transform([' '.join(filtered_tokens)])\n",
    "print(mean_embedded)"
   ]
  },
  {
   "cell_type": "code",
   "execution_count": 22,
   "metadata": {},
   "outputs": [
    {
     "name": "stdout",
     "output_type": "stream",
     "text": [
      "                     0         1         2         3         4         5   \\\n",
      "fitur                                                                       \n",
      "jam           -0.000958  0.000422  0.009113  0.016088 -0.016612 -0.012709   \n",
      "menit          0.008067 -0.012120 -0.006337  0.016783 -0.002817  0.000574   \n",
      "indonesia     -0.010000  0.012687  0.005987  0.012903  0.012143  0.013448   \n",
      "kilas          0.013274  0.011831 -0.006625 -0.015617  0.009710  0.011625   \n",
      "news           0.014206 -0.008650  0.015042  0.009397 -0.011696  0.007068   \n",
      "...                 ...       ...       ...       ...       ...       ...   \n",
      "kotakabupaten  0.013327  0.002652  0.002008  0.003133 -0.013068 -0.015387   \n",
      "libur         -0.005501 -0.004963  0.015005  0.005179  0.016734  0.009346   \n",
      "hktb          -0.014825  0.012826  0.009712 -0.004105  0.017197 -0.010001   \n",
      "jelajah       -0.012210 -0.003749 -0.000723 -0.010214 -0.012091 -0.014488   \n",
      "aschina       -0.011090 -0.010163  0.012937  0.013762 -0.016622  0.002457   \n",
      "\n",
      "                     6         7         8         9   ...        46  \\\n",
      "fitur                                                  ...             \n",
      "jam            0.011534  0.016023 -0.008956 -0.006720  ... -0.013681   \n",
      "menit         -0.007394 -0.013719 -0.002693  0.004410  ...  0.009268   \n",
      "indonesia     -0.006766 -0.001003  0.004194 -0.008070  ... -0.001271   \n",
      "kilas         -0.001406 -0.011982 -0.012653 -0.004459  ...  0.013376   \n",
      "news           0.009768 -0.013262 -0.013224 -0.004420  ...  0.007159   \n",
      "...                 ...       ...       ...       ...  ...       ...   \n",
      "kotakabupaten -0.016092 -0.004357  0.017350 -0.002217  ...  0.013296   \n",
      "libur         -0.012750  0.017845  0.008450  0.010547  ...  0.005180   \n",
      "hktb           0.017261 -0.007753  0.010304  0.016148  ... -0.008731   \n",
      "jelajah       -0.017403 -0.004692  0.016214  0.000006  ... -0.014288   \n",
      "aschina       -0.000359  0.001201 -0.014816 -0.010232  ...  0.004290   \n",
      "\n",
      "                     47        48        49        50        51        52  \\\n",
      "fitur                                                                       \n",
      "jam            0.017169  0.008897  0.016488 -0.014568  0.008028 -0.007388   \n",
      "menit          0.010253  0.013334 -0.011014  0.001974  0.010799 -0.005072   \n",
      "indonesia      0.013769 -0.015240  0.005727 -0.008282 -0.009087  0.006410   \n",
      "kilas         -0.010847  0.009215  0.017719 -0.015102 -0.009171 -0.012616   \n",
      "news           0.009260  0.007600  0.003464 -0.005661  0.014918  0.017165   \n",
      "...                 ...       ...       ...       ...       ...       ...   \n",
      "kotakabupaten -0.010542 -0.012573  0.017822  0.008691  0.002535 -0.013751   \n",
      "libur         -0.012284  0.005541 -0.007483  0.011931  0.014473  0.001368   \n",
      "hktb          -0.013430  0.000492  0.006636  0.001952 -0.009912 -0.014943   \n",
      "jelajah        0.016175 -0.003430  0.000780 -0.005616  0.016072  0.000579   \n",
      "aschina        0.008589 -0.000431 -0.003260  0.004620  0.003257  0.011345   \n",
      "\n",
      "                     53        54        55  \n",
      "fitur                                        \n",
      "jam            0.001472  0.015176 -0.007968  \n",
      "menit         -0.011024 -0.000733 -0.014945  \n",
      "indonesia      0.009590  0.013874 -0.010297  \n",
      "kilas         -0.008683 -0.006747 -0.015243  \n",
      "news           0.006773 -0.005066  0.000013  \n",
      "...                 ...       ...       ...  \n",
      "kotakabupaten  0.017420 -0.017000  0.009128  \n",
      "libur          0.002353 -0.000511  0.006060  \n",
      "hktb           0.001973 -0.009549 -0.010506  \n",
      "jelajah        0.006629 -0.000731 -0.014785  \n",
      "aschina       -0.013501 -0.016358  0.008256  \n",
      "\n",
      "[800 rows x 56 columns]\n",
      "Saved cbow_terms.csv\n"
     ]
    }
   ],
   "source": [
    "# Ambil semua fitur (kata unik) dari model\n",
    "features = list(model.wv.index_to_key)\n",
    "\n",
    "# Ambil vektor embedding untuk setiap fitur\n",
    "embedding_vectors = [model.wv[word] for word in features]\n",
    "\n",
    "# Buat DataFrame, setiap kolom adalah dimensi vektor\n",
    "embedding_df = pd.DataFrame(embedding_vectors, index=features)\n",
    "embedding_df.index.name = 'fitur'\n",
    "print(embedding_df)\n",
    "\n",
    "# Simpan per-term embeddings ke CSV\n",
    "embedding_df.reset_index().to_csv('cbow_terms.csv', index=False, float_format='%.6f', encoding='utf-8')\n",
    "print('Saved cbow_terms.csv')"
   ]
  }
 ],
 "metadata": {
  "colab": {
   "provenance": []
  },
  "kernelspec": {
   "display_name": "Python 3",
   "name": "python3"
  },
  "language_info": {
   "codemirror_mode": {
    "name": "ipython",
    "version": 3
   },
   "file_extension": ".py",
   "mimetype": "text/x-python",
   "name": "python",
   "nbconvert_exporter": "python",
   "pygments_lexer": "ipython3",
   "version": "3.11.9"
  }
 },
 "nbformat": 4,
 "nbformat_minor": 0
}