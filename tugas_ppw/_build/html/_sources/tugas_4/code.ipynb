{
 "cells": [
  {
   "cell_type": "code",
   "execution_count": 12,
   "metadata": {
    "colab": {
     "base_uri": "https://localhost:8080/"
    },
    "id": "33OZHzkLJrts",
    "outputId": "37adac86-13d8-41ea-f4a7-9c0e69fe5944"
   },
   "outputs": [
    {
     "name": "stdout",
     "output_type": "stream",
     "text": [
      "Requirement already satisfied: Sastrawi in c:\\users\\hp\\appdata\\local\\programs\\python\\python311\\lib\\site-packages (1.0.1)\n",
      "Note: you may need to restart the kernel to use updated packages.\n",
      "Requirement already satisfied: plotly in c:\\users\\hp\\appdata\\local\\programs\\python\\python311\\lib\\site-packages (6.3.1)\n",
      "Requirement already satisfied: narwhals>=1.15.1 in c:\\users\\hp\\appdata\\local\\programs\\python\\python311\\lib\\site-packages (from plotly) (2.7.0)\n",
      "Requirement already satisfied: packaging in c:\\users\\hp\\appdata\\local\\programs\\python\\python311\\lib\\site-packages (from plotly) (24.2)\n",
      "Note: you may need to restart the kernel to use updated packages.\n",
      "Requirement already satisfied: plotly in c:\\users\\hp\\appdata\\local\\programs\\python\\python311\\lib\\site-packages (6.3.1)\n",
      "Requirement already satisfied: narwhals>=1.15.1 in c:\\users\\hp\\appdata\\local\\programs\\python\\python311\\lib\\site-packages (from plotly) (2.7.0)\n",
      "Requirement already satisfied: packaging in c:\\users\\hp\\appdata\\local\\programs\\python\\python311\\lib\\site-packages (from plotly) (24.2)\n",
      "Note: you may need to restart the kernel to use updated packages.\n",
      "Requirement already satisfied: gensim in c:\\users\\hp\\appdata\\local\\programs\\python\\python311\\lib\\site-packages (4.3.3)\n",
      "Requirement already satisfied: numpy<2.0,>=1.18.5 in c:\\users\\hp\\appdata\\local\\programs\\python\\python311\\lib\\site-packages (from gensim) (1.24.4)\n",
      "Requirement already satisfied: scipy<1.14.0,>=1.7.0 in c:\\users\\hp\\appdata\\local\\programs\\python\\python311\\lib\\site-packages (from gensim) (1.10.1)\n",
      "Requirement already satisfied: smart-open>=1.8.1 in c:\\users\\hp\\appdata\\local\\programs\\python\\python311\\lib\\site-packages (from gensim) (7.3.1)\n",
      "Requirement already satisfied: wrapt in c:\\users\\hp\\appdata\\local\\programs\\python\\python311\\lib\\site-packages (from smart-open>=1.8.1->gensim) (1.17.3)\n",
      "Note: you may need to restart the kernel to use updated packages.\n",
      "Requirement already satisfied: gensim in c:\\users\\hp\\appdata\\local\\programs\\python\\python311\\lib\\site-packages (4.3.3)\n",
      "Requirement already satisfied: numpy<2.0,>=1.18.5 in c:\\users\\hp\\appdata\\local\\programs\\python\\python311\\lib\\site-packages (from gensim) (1.24.4)\n",
      "Requirement already satisfied: scipy<1.14.0,>=1.7.0 in c:\\users\\hp\\appdata\\local\\programs\\python\\python311\\lib\\site-packages (from gensim) (1.10.1)\n",
      "Requirement already satisfied: smart-open>=1.8.1 in c:\\users\\hp\\appdata\\local\\programs\\python\\python311\\lib\\site-packages (from gensim) (7.3.1)\n",
      "Requirement already satisfied: wrapt in c:\\users\\hp\\appdata\\local\\programs\\python\\python311\\lib\\site-packages (from smart-open>=1.8.1->gensim) (1.17.3)\n",
      "Note: you may need to restart the kernel to use updated packages.\n"
     ]
    }
   ],
   "source": [
    "import requests\n",
    "import string\n",
    "import re\n",
    "\n",
    "from bs4 import BeautifulSoup #untuk memisahkan teks yang ingin diambil dengan struktur html\n",
    "import nltk\n",
    "from nltk.corpus import stopwords\n",
    "\n",
    "%pip install Sastrawi\n",
    "from Sastrawi.Stemmer.StemmerFactory import StemmerFactory\n",
    "\n",
    "%pip install plotly\n",
    "%pip install --upgrade gensim\n",
    "from gensim.models import Word2Vec, FastText\n",
    "\n",
    "import numpy as np"
   ]
  },
  {
   "cell_type": "code",
   "execution_count": 13,
   "metadata": {},
   "outputs": [
    {
     "name": "stdout",
     "output_type": "stream",
     "text": [
      "Berita Terkini Hari Ini, Kabar Akurat Terpercaya - Kompas.com Otomatis Mode Gelap Mode Terang Login Gabung KOMPAS.com+ Konten yang disimpan Konten yang disukai Atur Minat Berikan Masukanmu Langganan Kompas One News Nasional Global Megapolitan Regional Pemilu Hype Konsultasi Hukum Cek Fakta Surat Pembaca Indeks Kilas Daerah Kilas Korporasi Kilas Kementerian Sorot Politik Kilas Badan Negara Kelana Indonesia Kalbe Health Corner Kilas Parlemen Kilas BUMN Nusaraya Sumatera Utara Sumatera Selatan Sumatera Barat Riau Lampung Banten Yogyakarta Jawa Barat Jawa Tengah Jawa Timur Kalimantan Barat Kalimantan Timur Sulawesi Selatan Bali Indeks Jagat Literasi Artikel Foto Video Rolls Donasi STEM Cahaya Aktual Doa dan Niat Jadwal Sholat Tekno Apps & OS Gadget Internet Hardware Business Game Galeri Indeks Tech Innovation Kilas Internet Otomotif Motor Mobil Sport Niaga Komunitas Otopedia Merapah EV Leadership Elektrifikasi Pameran Bola Timnas Indonesia Liga Indonesia Liga Inggris Liga Italia Liga Champions Klasemen Sports Motogp Badminton Indeks Lifestyle Wellness Fashion Relationship Parenting Beauty & Grooming Buku Indeks Sadar Stunting Kilas Lifestyle Tren Lestari Health Penyakit A-Z Kilas Kesehatan Money Ekbis Keuangan Syariah Industri Energi Karier Cuan Belanja Tanya Pajak Indeks Kilas Badan Kilas Transportasi Kilas Fintech Kilas Perbankan Kilas Investasi Transaksi Digital Jejak UMKM Properti News Listing Properti Arsitektur Konstruksi Tips Properti IKN Homey Indeks Sorot Properti Edukasi Sekolah Edu News Perguruan Tinggi Pendidikan Khusus Beasiswa Literasi Skola Kilas Pendidikan IdeAksi Travel Travel News Travel Ideas Hotel Story Travelpedia Food Ohayo Jepang Indeks Video Parapuan Kolom Sains JEO Foto VIK Kata Netizen Warta Membership KOMPAS.com+ Pemerintah Swasta LSM/Figur BUMN UMKM Nusatirta Mulai Dari Kamu Kesehatan Kehidupan sehat dan sejahtera Air bersih dan sanitasi layak Pendidikan Pendidikan Berkualitas Lingkungan Energi Bersih dan Terjangkau Penanganan Perubahan Iklim Ekosistem Lautan Ekosistem Daratan Ekonomi dan UMKM Tanpa Kemiskinan Tanpa Kelaparan Kesetaraan Gender Pekerjaan Layak dan Pertumbuhan ekonomi Industri, Inovasi & Infrastruktur Berkurangnya Kesenjangan Kota & Pemukiman yang Berkelanjutan Konsumsi & Produksi yang bertanggungjawab PROGRAM LESTARI Lihat semua Baca berita tanpa iklan. Gabung Kompas.com+ Trending: Timnas Indonesia Ponpes Al Khoziny Donald Trump Gencatan Senjata Grand Mall Bekasi Etanol Pada BBM Timnas Indonesia Irak pelat nomor Indonesia Living Assistance - - °C Kualitas Udara - - Harga Beli Emas 0 Jt /gr (0%) Jadwal Sholat - - -:- Headline Usai BATA Stop Produksi Sepatu, Menaker Akan Monitor Potensi PHK Seskab: Peserta Magang Nasional Digaji Setara Upah Minimun, Jakarta Bisa Rp 5,5 Juta News Israel Siapkan Operasi Hancurkan Terowongan Hamas di Bawah Gaza Global Ammar Zoni Edarkan Narkoba di Rutan, Ditjen PAS Pastikan Napi yang Terlibat Disanksi News Ole Romeny: Sulit Gambarkan Rasa Sakit Gagal ke Piala Dunia 2026 Bola Mendikdasmen: Mulai Tahun 2027, Bahasa Inggris Jadi Mapel Wajib Edukasi Kesaksian Warga Soal Tawuran Remaja Tiap Pekan di Rorotan: Bawa Parang dan Saling Kejar News Terpopuler 1 Stafsus Kemenko Infrastruktur Bantah Rombongan AHY Susul Sultan HB X Pakai “Tot Tot Wuk Wuk” di Jalan Regional 2 Mendikdasmen: Mulai Tahun 2027, Bahasa Inggris Jadi Mapel Wajib Edukasi 3 “Gak Mau Sekolah…” Isyarat Terakhir Angga Sebelum Tewas Dibully Teman-temannya Regional 4 Israel Siapkan Operasi Hancurkan Terowongan Hamas di Bawah Gaza Global 5 Usai BATA Stop Produksi Sepatu, Menaker Akan Monitor Potensi PHK Money Terpopuler Lainnya Sorotan Cek Tanah Kini Bisa Lewat Aplikasi Sentuh Tanahku, Begini Caranya Properti Barus: Rempah Nusantara yang Terlupakan Agri Stafsus Kemenko Infrastruktur Bantah Rombongan AHY Susul Sultan HB X Pakai “Tot Tot Wuk Wuk” di Jalan Regional Butuh Biaya Pengobatan untuk Ibu, Eks Karyawan Bobol Brankas Restoran di Halim News Harga Emas Terus Naik, Tepatkah Berinvestasi Saat Ini? Tren Atur pilihan kontenmu Otomotif 19 menit lalu Alva Sedang Sertifikasi Homologasi Cervo dan N3 untuk Ekspor Tren 20 menit lalu Potret Satu-satunya Warung yang Berjualan di Dekat Rumah Jokowi... Bola 21 menit lalu Reaksi Eks Asisten Shin Tae-yong Usai Indonesia Gagal Lolos Piala Dunia 2026 Regional 22 menit lalu 3 Kakak Beradik Tewas Ditabrak Truk di Taput, Begini Kronologinya Regional 25 menit lalu Dinkes Ungkap SPPG Penyalur MBG yang Bikin Murid SDN 6 Matangkuli Muntah Belum Laik Higiene Reaksi Patrick Kluivert Usai Timnas Indonesia Kalah dari Irak dan Tak Lolos Piala Dunia 1 jam lalu 02:01 Prabowo Rapat Bareng Ketua MPR dan Kepala BIN di Hambalang, Bahas Apa? Video 2 jam lalu 05:09 Hamas Absen dari Perjanjian Damai Gaza, Mesir Tetap Siap Gelar KTT Video 3 jam lalu 02:33 Banyak Santri Ponpes Al Khoziny Diamputasi, Pemerintah Siapkan Santunan dan Beasiswa Video 3 jam lalu 03:30 Parade Militer Korut Pamerkan Nuklir Tercanggih, Warga Bersorak-sorai Video 3 jam lalu 03:03 Sepakat dengan Israel, Besok Hamas Akan Bebaskan Sandera Video 3 jam lalu 06:10 Babak Baru Perang Dagang Dimulai, Hubungan AS-China Retak Lagi? Video 3 jam lalu 00:56 Tentara Madagaskar Berbalik Gabung Demonstran, Tolak Perintah Tembaki Warga Video 4 jam lalu Regional 30 menit lalu “Gak Mau Sekolah…” Isyarat Terakhir Angga Sebelum Tewas Dibully Teman-temannya Global 33 menit lalu Gaza dari Pandangan Drone: Kota Tanpa Warna, Hanya Puing dan Debu Money 33 menit lalu Belajar dari Sipadan dan Ligitan, Saat Pulau di Indonesia Lepas karena Tak Ada Peredaran Rupiah… News 34 menit lalu Pelaku Tawuran di Rorotan Rusak Jemuran hingga Rumah Warga Hype 39 menit lalu Warganet Menangis Minta Maaf ke Ruben Onsu Usai Sebut Orang Terbodoh karena Tinggalkan Sarwendah Baca berita tanpa iklan. Gabung Kompas.com+ Unduh Kompas.com App untuk berita terkini, akurat, dan tepercaya setiap saat Arahkan kamera ke kode QR ini untuk download app Follow us: Kompas.id Premium Cinta pada Pandangan Pertama Itu Hanya Ilusi Baca selengkapnya di Kompas.id. Dapatkan akses penuh berita Kompas.id dengan berlangganan. Baca berita tanpa iklan. Gabung Kompas.com+ Kilas Layani 18,23 Juta Penumpang, Bandara I Gusti Ngurah Rai Sukseskan Bali Jadi Pulau Terindah Asia 2025 Wujud Pertanggungjawaban dan Keterbukaan Publik, Kementrans Akan \"Open House\" Dengan \"Live\" Media Sosial 24 Jam Jajaki Peluang Investasi dari Tiongkok, Kementerian Transmigrasi Akan Fokuskan Pada Papua Kolom Kegagalan Timnas ke Piala Dunia 2026 dan Kisah Bodoh Penambang Emas Abdullah Sammy Peneliti dan Pengamat Barus: Rempah Nusantara yang Terlupakan Kuntoro Boga Direktur Hilirisasi Hasil Perkebunan, Kementan Tak Perlu Disesali, Toh Pemainnya Juga Naturalisasi Silahudin Dosen Fenomena \"Dead Horse\" PT Sepatu Bata Tbk. Mochammad Mukti Ali Rektor dan Wirausahawan Politik Olahraga, Naturalisasi, dan Disorientasi Tujuan Bernegara Dwi Munthaha Peneliti, Konsultan Lihat lainnya Bertualang Menjelajahi Hidden Gems di Hong Kong Hong Kong memiliki banyak spot wisata menarik. Jelajahi hidden gems di Hong Kong rekomendasi HKTB dan dapatkan pengalaman liburan tak terlupakan. 03/11/2024, 10:23 WIB Mewujudkan Kota/Kabupaten HAM Sepantasnya kota bisa menjadi ruang aman bagi siapa pun. Apa bisa mencapai kota HAM? 09/10/2024, 12:04 WIB TIRTA DAN EMILIANA Banyak wilayah Indonesia mengalami krisis air. Ternyata, masalahnya tak selalu soal air tak ada, tetapi tata kelolanya. Pengalaman Wahana Visi Indonesia memberi gambaran upaya penyelesaiannya. 02/10/2025, 07:45 WIB Merapah Trans-Jawa 2024 Eksplorasi 2.290 km Jalur Pansela. Rekaman pesona mudik dari Jakarta ke Banyuwangi, menikmati panorama alam dan budaya di jalur Trans-Jawa. 17/07/2024, 15:56 WIB Otomotif 39 menit lalu Rapor Penjualan Motor Listrik di Indonesia News 40 menit lalu Polisi Tangkap Eks Karyawan yang Bobol Brankas Restoran di Halim Bola 41 menit lalu Usai Indonesia Gagal, Jurnalis Malaysia Ungkit Lagi Pergantian STY ke Kluivert Tekno 45 menit lalu Cara Membatasi Pengguna WiFi agar Kecepatan Internet Stabil, Mudah Tren 50 menit lalu 10 Prompt AI Ubah Foto Jadi Animasi, Bisa di Gemini dan ChatGPT Inspirasi Modifikasi Mobil Suzuki: Dari Simpel Sampai Ekstrem 11:33 Edukasi 50 menit lalu 20 Sekolah Terbaik di Bogor, Referensi Ikut SPMB 2026 Otomotif 52 menit lalu Honda CB1000F Siap Meluncur, Harga mulai Rp 140 Jutaan Money 56 menit lalu Khofifah: Produksi Padi Jatim 2025 Lebih dari 12 Juta Ton, Tertinggi se-Indonesia News 57 menit lalu Warga Rorotan Resah Usai Marak Tawuran Remaja Bersajam Hype 1 jam lalu One Punch Man Season 3 Rilis, Jadwal Tayang dan Link Nonton Resmi Menjajal Bus Trans Jatim Koridor 7 Rute Lamongan-Paciran Sembari Memaknai Ajaran Sunan Drajat Viral di TikTok, Lagu “Timing” Jadi Cara Asyik Belajar Kata Jepang Sukkari Kini Tak Berdaya, Pedagang Buku Bekas Pasar Blauran Surabaya Ditinggal Pembeli Meraba Masa Depan dengan AI sebagai Copilot Close Ads Baca berita tanpa iklan. Gabung Kompas.com+ Bola 1 jam lalu Maarten Paes Pulang ke AS Usai Membela Indonesia di Kualifikasi Piala Dunia 2026 News 1 jam lalu Pengiriman 80 Bus Listrik Transjakarta Ditargetkan Rampung Akhir 2025 Properti 1 jam lalu Cek Tanah Kini Bisa Lewat Aplikasi Sentuh Tanahku, Begini Caranya Bola 1 jam lalu Andre Rosiade: Kluivert Silahkan Mundur Usai Gagal ke Piala Dunia Hype 1 jam lalu Axl Ramanda Kemas Ulang Lagu Kirana Ciptaan Ahmad Dhani dan Erwin Prasetya Topik Pilihan 1 Tahun Pemerintahan Prabowo-Gibran Satu Tahun Pemerintahan Prabowo-Gibran: Hukum yang Belum Berdaulat 1 Tahun Pemerintahan Prabowo, Bahlil Ungkap 2 Capaian Swasembada Energi Satu Tahun Komunikasi Publik Presiden Prabowo Lihat semua Keracunan MBG Soroti MBG, LP2K Jateng: Para Siswa Juga Konsumen karena Sebenarnya Tidak Makan Gratis Pemprov Jateng Bagikan Nomor Hotline Aduan Keracunan MBG: 08112622000 Temuan Kadinkes Kota Malang: SPPG MBG di SDN 2 Dinoyo Belum Kantongi Sertifikat Lihat semua Ponpes Al Khoziny Sidoarjo Ambruk HUT ke 80 Jatim, Khofifah Doa untuk Korban Ponpes Al Khoziny Pasca-tragedi Al Khoziny, Eri Cahyadi Bakal Cek Struktur Bangunan Ponpes di Surabaya Santri Diduga Ikut Ngecor Ponpes Al Khoziny, Pakar Hukum Unair: Pemberi Perintah Bisa Kena Sanksi Hukum Lihat semua Edukasi 1 jam lalu Khofifah Sebut Jumlah Sekolah Rakyat Jatim Terbanyak se-Indonesia Tekno 1 jam lalu Youtuber MrBeast Cemas dan Khawatir AI Makin Canggih Regional 1 jam lalu Stafsus Kemenko Infrastruktur Bantah Rombongan AHY Susul Sultan HB X Pakai “Tot Tot Wuk Wuk” di Jalan News 1 jam lalu Ammar Zoni Edarkan Narkoba di Rutan, Ditjen PAS Pastikan Napi yang Terlibat Disanksi Tren 1 jam lalu Pendaftaran Magang Kemnaker 2025 Diperpanjang, Ini Cara Daftarnya Foto Lihat semua BERITA FOTO: Lion City Sailors Pupus Kemenangan Persib di Menit Akhir BERITA FOTO: Debut Thom Haye dan Eliano Reijnders di Persib BERITA FOTO: Unisba dan Unpas Ditembaki Gas Air Mata, Puluhan Proyektil Berserakan BERITA FOTO: Menilik Sumur Minyak Ilegal di Blora, Sumber Petaka di Tengah Permukiman BERITA FOTO: Suasana Demo Pati 13 Agustus 2025 Travel 1 jam lalu Asal Usul Jalan Harmoni, Pusat Rumah Ibadah Lintas Agama di Melaka Money 1 jam lalu Usai BATA Stop Produksi Sepatu, Menaker Akan Monitor Potensi PHK News 1 jam lalu Butuh Biaya Pengobatan untuk Ibu, Eks Karyawan Bobol Brankas Restoran di Halim Video 1 jam lalu Reaksi Patrick Kluivert Usai Timnas Indonesia Kalah dari Irak dan Tak Lolos Piala Dunia Health 1 jam lalu Aktivitas Luar Ruang Bantu Cegah Mata Minus pada Anak Warga Gaza Ramai-ramai Pulang ke Rumah yang Hancur di Hari Kedua Gencatan Senjata 02:01 Bola 1 jam lalu Djanur Soal Garuda: Timnas Indonesia Belum Siap ke Piala Dunia 2026 Regional 2 jam lalu 4 Turis Surabaya Terseret Ombak di Pantai Modangan Malang, 2 Hilang, 1 Tewas Bola 2 jam lalu Maarten Paes Patah Hati Garuda Gagal Lolos, tapi Janji Berjuang Lagi Otomotif 2 jam lalu Mengenal Xiaomi SU7, Sedan Listrik Pintar yang Dilirik Pemerintah Edukasi 2 jam lalu 20 Universitas Terbaik di Jepang Versi THE WUR 2026, Referensi Kuliah ke Luar Negeri 1 2 3 Next Produk Rekomendasi Baca berita tanpa iklan. Gabung Kompas.com+ Komentar Klik untuk berita terbaru Penghargaan dan sertifikat: Dapatkan informasi dan insight pilihan redaksi Kompas.com Daftarkan Email Kanal News Nasional Global Megapolitan Regional Pemilu IKN Bola Tekno Otomotif Entertainment Sains Health Money Tren Properti Lifestyle Hype Travel Homey Food UMKM Edukasi Parapuan Foto Video Kolom VIK JEO Lestari Ohayo Jepang Pesona Indonesia Play Artikel Terpopuler Artikel Terkini Topik Pilihan Artikel Headline Network Kompas.com Harian KOMPAS KompasTV Kompasiana KG Media KGNow! Pasangiklan.com Kontan Sonora Grid.ID GridOto.com BolaSport.com Parapuan Tribunnews Gramedia.com Gramedia Digital Kabar Palmerah About Us Advertise Ketentuan Penggunaan Kebijakan Data Pribadi Pedoman Media Siber Career Contact Us Copyright 2008 - 2025 PT. Kompas Cyber Media (Kompas Gramedia Digital Group). All Rights Reserved. Bagikan artikel ini melalui Facebook X Whatsapp Line Telegram Copy Link Oke Living Assistance Cuaca Emas Plus Baca Cepat Cek Kesehatan Atur Keuangan Klasemen Olahraga Jadwal Salat Game & Kuis Beri Masukan Atur Minat\n"
     ]
    }
   ],
   "source": [
    "web = requests.get(\"https://kompas.com\")\n",
    "soup = BeautifulSoup(web.content, 'html.parser')\n",
    "for a in soup(['script', 'style']):\n",
    "    a.decompose()\n",
    "text = ' '.join(soup.stripped_strings)\n",
    "print(text)"
   ]
  },
  {
   "cell_type": "code",
   "execution_count": 14,
   "metadata": {},
   "outputs": [],
   "source": [
    "teks = text.lower()\n",
    "teks = re.sub(r'\\d+', '', teks)\n",
    "teks = teks.translate(str.maketrans('', '', string.punctuation))\n",
    "teks = re.sub(r'\\s+', ' ', teks)\n",
    "teks = teks.strip()"
   ]
  },
  {
   "cell_type": "code",
   "execution_count": 15,
   "metadata": {
    "colab": {
     "base_uri": "https://localhost:8080/"
    },
    "id": "QsC5GUtcWBEL",
    "outputId": "04981d7b-7221-41f7-9913-abc7f95d1248"
   },
   "outputs": [
    {
     "name": "stdout",
     "output_type": "stream",
     "text": [
      "Hasil stemming/lemmatization (Bahasa Indonesia): berita kini hari ini kabar akurat percaya kompascom otomatis mode gelap mode terang login gabung kompascom konten yang simpan konten yang suka atur minat ikan masuk langgan kompas one news nasional global megapolitan regional milu hype konsultasi hukum cek fakta surat baca indeks kilas daerah kilas korporasi kilas menteri sorot politik kilas badan negara kelana indonesia kalbe health corner kilas parlemen kilas bumn nusaraya sumatera utara sumatera selatan sumatera barat riau lampung banten yogyakarta jawa barat jawa tengah jawa timur kalimantan barat kalimantan timur sulawesi selatan bal indeks jagat literasi artikel foto video rolls donasi stem cahaya aktual doa dan niat jadwal sholat tekno apps os gadget internet hardware business game galeri indeks tech innovation kilas internet otomotif motor mobil sport niaga komunitas otopedia rapah ev leadership elektrifikasi pamer bola timnas indonesia liga indonesia liga inggris liga italia liga champions klasemen sports motogp badminton indeks lifestyle wellness fashion relationship parenting beauty grooming buku indeks sadar stunting kilas lifestyle tren lestari health sakit az kilas sehat money ekbis uang syariah industri energi karier cuan belanja tanya pajak indeks kilas badan kilas transportasi kilas fintech kilas perban kilas investasi transaksi digital jejak umkm properti news listing properti arsitektur konstruksi tips properti ikn homey indeks sorot properti edukasi sekolah edu news guru tinggi didik khusus beasiswa literasi skola kilas didik ideaksi travel travel news travel ideas hotel story travelpedia food ohayo jepang indeks video parapuan kolom sains jeo foto vik kata netizen warta membership kompascom perintah swasta lsmfigur bumn umkm nusatirta mulai dari kamu sehat hidup sehat dan sejahtera air bersih dan sanitasi layak didik didik kualitas lingkung energi bersih dan jangkau tangan ubah iklim ekosistem laut ekosistem darat ekonomi dan umkm tanpa miskin tanpa lapar tara gender kerja layak dan tumbuh ekonomi industri inovasi infrastruktur kurang senjang kota mukim yang lanjut konsumsi produksi yang bertanggungjawab program lestari lihat semua baca berita tanpa iklan gabung kompascom trending timnas indonesia ponpes al khoziny donald trump gencat senjata grand mall bekas etanol pada bbm timnas indonesia irak pelat nomor indonesia living assistance c kualitas udara harga beli emas jt gr jadwal sholat headline usai bata stop produksi sepatu menaker akan monitor potensi phk seskab serta magang nasional gaji tara upah minimun jakarta bisa rp juta news israel siap operasi hancur terowongan hamas di bawah gaza global ammar zoni edar narkoba di rutan ditjen pas pasti napi yang libat sanksi news ole romeny sulit gambar rasa sakit gagal ke piala dunia bola mendikdasmen mulai tahun bahasa inggris jadi mapel wajib edukasi saksi warga soal tawur remaja tiap pekan di rorotan bawa parang dan saling kejar news populer stafsus kemenko infrastruktur bantah rombong ahy susul sultan hb x pakai tot tot wuk wuk di jalan regional mendikdasmen mulai tahun bahasa inggris jadi mapel wajib edukasi gak mau sekolah isyarat akhir angga belum tewas dibully temantemannya regional israel siap operasi hancur terowongan hamas di bawah gaza global usai bata stop produksi sepatu menaker akan monitor potensi phk money populer lain sorot cek tanah kini bisa lewat aplikasi sentuh tanah begini cara properti barus rempah nusantara yang lupa agri stafsus kemenko infrastruktur bantah rombong ahy susul sultan hb x pakai tot tot wuk wuk di jalan regional butuh biaya obat untuk ibu eks karyawan bobol brankas restoran di halim news harga emas terus naik tepat investasi saat ini tren atur pilih konten otomotif menit lalu alva sedang sertifikasi homologasi cervo dan n untuk ekspor tren menit lalu potret satusatunya warung yang jual di dekat rumah jokowi bola menit lalu reaksi eks asisten shin taeyong usai indonesia gagal lolos piala dunia regional menit lalu kakak adik tewas tabrak truk di taput begini kronologi regional menit lalu dinkes ungkap sppg salur mbg yang bikin murid sdn matangkuli muntah belum laik higiene reaksi patrick kluivert usai timnas indonesia kalah dari irak dan tak lolos piala dunia jam lalu prabowo rapat bareng ketua mpr dan kepala bin di hambalang bahas apa video jam lalu hamas absen dari janji damai gaza mesir tetap siap gelar ktt video jam lalu banyak santri ponpes al khoziny amputasi perintah siap santun dan beasiswa video jam lalu parade militer korut pamer nuklir canggih warga bersoraksorai video jam lalu sepakat dengan israel besok hamas akan bebas sandera video jam lalu babak baru perang dagang mulai hubung aschina retak lagi video jam lalu tentara madagaskar balik gabung demonstran tolak perintah tembak warga video jam lalu regional menit lalu gak mau sekolah isyarat akhir angga belum tewas dibully temantemannya global menit lalu gaza dari pandang drone kota tanpa warna hanya puing dan debu money menit lalu ajar dari sipadan dan ligitan saat pulau di indonesia lepas karena tak ada edar rupiah news menit lalu laku tawur di rorotan rusak jemur hingga rumah warga hype menit lalu warganet menang minta maaf ke ruben onsu usai sebut orang bodoh karena tinggal sarwendah baca berita tanpa iklan gabung kompascom unduh kompascom app untuk berita kini akurat dan percaya tiap saat arah kamera ke kode qr ini untuk download app follow us kompasid premium cinta pada pandang pertama itu hanya ilusi baca lengkap di kompasid dapat akses penuh berita kompasid dengan langgan baca berita tanpa iklan gabung kompascom kilas layan juta tumpang bandara i gusti ngurah rai sukses bal jadi pulau indah asia wujud pertanggungjawaban dan buka publik trans akan open house dengan live media sosial jam jajak peluang investasi dari tiongkok menteri transmigrasi akan fokus pada papua kolom gagal timnas ke piala dunia dan kisah bodoh tambang emas abdullah sammy teliti dan amat barus rempah nusantara yang lupa kuntoro boga direktur hilir hasil kebun tan tak perlu sali toh main juga naturalisasi silahudin dosen fenomena dead horse pt sepatu bata tbk mochammad mukti ali rektor dan wirausahawan politik olahraga naturalisasi dan disorientasi tuju negara dwi munthaha teliti konsultan lihat lain tualang jajah hidden gems di hong kong hong kong milik banyak spot wisata tarik jelajah hidden gems di hong kong rekomendasi hktb dan dapat alam libur tak lupa wib wujud kotakabupaten ham pantas kota bisa jadi ruang aman bagi siapa pun apa bisa capai kota ham wib tirta dan emiliana banyak wilayah indonesia alami krisis air nyata masalah tak selalu soal air tak ada tetapi tata kelola alam wahana visi indonesia beri gambar upaya selesai wib rapah transjawa eksplorasi km jalur pansela rekam pesona mudik dari jakarta ke banyuwangi nikmat panorama alam dan budaya di jalur transjawa wib otomotif menit lalu rapor jual motor listrik di indonesia news menit lalu polisi tangkap eks karyawan yang bobol brankas restoran di halim bola menit lalu usai indonesia gagal jurnalis malaysia ungkit lagi ganti sty ke kluivert tekno menit lalu cara batas guna wifi agar cepat internet stabil mudah tren menit lalu prompt ai ubah foto jadi animasi bisa di gemini dan chatgpt inspirasi modifikasi mobil suzuki dari simpel sampai ekstrem edukasi menit lalu sekolah baik di bogor referensi ikut spmb otomotif menit lalu honda cbf siap luncur harga mulai rp juta money menit lalu khofifah produksi padi jatim lebih dari juta ton tinggi indonesia news menit lalu warga rorotan resah usai marak tawur remaja bersajam hype jam lalu one punch man season rilis jadwal tayang dan link nonton resmi jajal bus trans jatim koridor rute lamonganpaciran sembari makna ajar sunan drajat viral di tiktok lagu timing jadi cara asyik ajar kata jepang sukkari kini tak daya dagang buku bekas pasar blauran surabaya tinggal beli raba masa depan dengan ai bagai copilot close ads baca berita tanpa iklan gabung kompascom bola jam lalu maarten paes pulang ke as usai bela indonesia di kualifikasi piala dunia news jam lalu kirim bus listrik transjakarta target rampung akhir properti jam lalu cek tanah kini bisa lewat aplikasi sentuh tanah begini cara bola jam lalu andre rosiade kluivert silah mundur usai gagal ke piala dunia hype jam lalu axl ramanda kemas ulang lagu kirana cipta ahmad dhani dan erwin prasetya topik pilih tahun perintah prabowogibran satu tahun perintah prabowogibran hukum yang belum daulat tahun perintah prabowo bahlil ungkap capai swasembada energi satu tahun komunikasi publik presiden prabowo lihat semua racun mbg sorot mbg lpk jateng para siswa juga konsumen karena benar tidak makan gratis pemprov jateng bagi nomor hotline adu racun mbg temu kadinkes kota malang sppg mbg di sdn dinoyo belum kantong sertifikat lihat semua ponpes al khoziny sidoarjo ambruk hut ke jatim khofifah doa untuk korban ponpes al khoziny pascatragedi al khoziny eri cahyadi bakal cek struktur bangun ponpes di surabaya santri duga ikut ngecor ponpes al khoziny pakar hukum unair beri perintah bisa kena sanksi hukum lihat semua edukasi jam lalu khofifah sebut jumlah sekolah rakyat jatim banyak indonesia tekno jam lalu youtuber mrbeast cemas dan khawatir ai makin canggih regional jam lalu stafsus kemenko infrastruktur bantah rombong ahy susul sultan hb x pakai tot tot wuk wuk di jalan news jam lalu ammar zoni edar narkoba di rutan ditjen pas pasti napi yang libat sanksi tren jam lalu daftar magang kemnaker panjang ini cara daftar foto lihat semua berita foto lion city sailors pupus menang persib di menit akhir berita foto debut thom haye dan eliano reijnders di persib berita foto unisba dan unpas tembak gas air mata puluh proyektil sera berita foto tilik sumur minyak ilegal di blora sumber petaka di tengah mukim berita foto suasana demo pati agustus travel jam lalu asal usul jalan harmoni pusat rumah ibadah lintas agama di melaka money jam lalu usai bata stop produksi sepatu menaker akan monitor potensi phk news jam lalu butuh biaya obat untuk ibu eks karyawan bobol brankas restoran di halim video jam lalu reaksi patrick kluivert usai timnas indonesia kalah dari irak dan tak lolos piala dunia health jam lalu aktivitas luar ruang bantu cegah mata minus pada anak warga gaza ramairamai pulang ke rumah yang hancur di hari dua gencat senjata bola jam lalu djanur soal garuda timnas indonesia belum siap ke piala dunia regional jam lalu turis surabaya seret ombak di pantai modangan malang hilang tewas bola jam lalu maarten paes patah hati garuda gagal lolos tapi janji juang lagi otomotif jam lalu kenal xiaomi su sedan listrik pintar yang lirik perintah edukasi jam lalu universitas baik di jepang versi the wur referensi kuliah ke luar negeri next produk rekomendasi baca berita tanpa iklan gabung kompascom komentar klik untuk berita baru harga dan sertifikat dapat informasi dan insight pilih redaksi kompascom daftar email kanal news nasional global megapolitan regional milu ikn bola tekno otomotif entertainment sains health money tren properti lifestyle hype travel homey food umkm edukasi parapuan foto video kolom vik jeo lestari ohayo jepang pesona indonesia play artikel populer artikel kini topik pilih artikel headline network kompascom hari kompas kompastv kompasiana kg media kgnow pasangiklancom kontan sonora gridid gridotocom bolasportcom parapuan tribunnews gramediacom gramedia digital kabar palmerah about us advertise tentu guna bijak data pribadi pedoman media siber career contact us copyright pt kompas cyber media kompas gramedia digital group all rights reserved bagi artikel ini lalu facebook x whatsapp line telegram copy link oke living assistance cuaca emas plus baca cepat cek sehat atur uang klasemen olahraga jadwal salat game kuis beri masuk atur minat\n"
     ]
    }
   ],
   "source": [
    "# stemming/lemmatization (mengembalikan kata ke bentuk dasar) untuk Bahasa Indonesia\n",
    "\n",
    "# Stemming\n",
    "factory = StemmerFactory()\n",
    "stemmer = factory.create_stemmer()\n",
    "stemmed = stemmer.stem(teks)\n",
    "\n",
    "# Lemmatization (menggunakan stemming hasil Sastrawi, karena lemmatizer khusus Indonesia belum tersedia)\n",
    "output = stemmed\n",
    "factory = StemmerFactory()\n",
    "stemmer = factory.create_stemmer()\n",
    "output = stemmer.stem(teks)\n",
    "\n",
    "print(\"Hasil stemming/lemmatization (Bahasa Indonesia):\", output)\n"
   ]
  },
  {
   "cell_type": "code",
   "execution_count": 16,
   "metadata": {
    "colab": {
     "base_uri": "https://localhost:8080/"
    },
    "id": "2oriBqcCZ3zz",
    "outputId": "14dcc0ee-8b7c-4d27-9073-fa724d521ebf"
   },
   "outputs": [
    {
     "name": "stdout",
     "output_type": "stream",
     "text": [
      "['berita', 'kini', 'hari', 'ini', 'kabar', 'akurat', 'percaya', 'kompascom', 'otomatis', 'mode', 'gelap', 'mode', 'terang', 'login', 'gabung', 'kompascom', 'konten', 'yang', 'simpan', 'konten', 'yang', 'suka', 'atur', 'minat', 'ikan', 'masuk', 'langgan', 'kompas', 'one', 'news', 'nasional', 'global', 'megapolitan', 'regional', 'milu', 'hype', 'konsultasi', 'hukum', 'cek', 'fakta', 'surat', 'baca', 'indeks', 'kilas', 'daerah', 'kilas', 'korporasi', 'kilas', 'menteri', 'sorot', 'politik', 'kilas', 'badan', 'negara', 'kelana', 'indonesia', 'kalbe', 'health', 'corner', 'kilas', 'parlemen', 'kilas', 'bumn', 'nusaraya', 'sumatera', 'utara', 'sumatera', 'selatan', 'sumatera', 'barat', 'riau', 'lampung', 'banten', 'yogyakarta', 'jawa', 'barat', 'jawa', 'tengah', 'jawa', 'timur', 'kalimantan', 'barat', 'kalimantan', 'timur', 'sulawesi', 'selatan', 'bal', 'indeks', 'jagat', 'literasi', 'artikel', 'foto', 'video', 'rolls', 'donasi', 'stem', 'cahaya', 'aktual', 'doa', 'dan', 'niat', 'jadwal', 'sholat', 'tekno', 'apps', 'os', 'gadget', 'internet', 'hardware', 'business', 'game', 'galeri', 'indeks', 'tech', 'innovation', 'kilas', 'internet', 'otomotif', 'motor', 'mobil', 'sport', 'niaga', 'komunitas', 'otopedia', 'rapah', 'ev', 'leadership', 'elektrifikasi', 'pamer', 'bola', 'timnas', 'indonesia', 'liga', 'indonesia', 'liga', 'inggris', 'liga', 'italia', 'liga', 'champions', 'klasemen', 'sports', 'motogp', 'badminton', 'indeks', 'lifestyle', 'wellness', 'fashion', 'relationship', 'parenting', 'beauty', 'grooming', 'buku', 'indeks', 'sadar', 'stunting', 'kilas', 'lifestyle', 'tren', 'lestari', 'health', 'sakit', 'az', 'kilas', 'sehat', 'money', 'ekbis', 'uang', 'syariah', 'industri', 'energi', 'karier', 'cuan', 'belanja', 'tanya', 'pajak', 'indeks', 'kilas', 'badan', 'kilas', 'transportasi', 'kilas', 'fintech', 'kilas', 'perban', 'kilas', 'investasi', 'transaksi', 'digital', 'jejak', 'umkm', 'properti', 'news', 'listing', 'properti', 'arsitektur', 'konstruksi', 'tips', 'properti', 'ikn', 'homey', 'indeks', 'sorot', 'properti', 'edukasi', 'sekolah', 'edu', 'news', 'guru', 'tinggi', 'didik', 'khusus', 'beasiswa', 'literasi', 'skola', 'kilas', 'didik', 'ideaksi', 'travel', 'travel', 'news', 'travel', 'ideas', 'hotel', 'story', 'travelpedia', 'food', 'ohayo', 'jepang', 'indeks', 'video', 'parapuan', 'kolom', 'sains', 'jeo', 'foto', 'vik', 'kata', 'netizen', 'warta', 'membership', 'kompascom', 'perintah', 'swasta', 'lsmfigur', 'bumn', 'umkm', 'nusatirta', 'mulai', 'dari', 'kamu', 'sehat', 'hidup', 'sehat', 'dan', 'sejahtera', 'air', 'bersih', 'dan', 'sanitasi', 'layak', 'didik', 'didik', 'kualitas', 'lingkung', 'energi', 'bersih', 'dan', 'jangkau', 'tangan', 'ubah', 'iklim', 'ekosistem', 'laut', 'ekosistem', 'darat', 'ekonomi', 'dan', 'umkm', 'tanpa', 'miskin', 'tanpa', 'lapar', 'tara', 'gender', 'kerja', 'layak', 'dan', 'tumbuh', 'ekonomi', 'industri', 'inovasi', 'infrastruktur', 'kurang', 'senjang', 'kota', 'mukim', 'yang', 'lanjut', 'konsumsi', 'produksi', 'yang', 'bertanggungjawab', 'program', 'lestari', 'lihat', 'semua', 'baca', 'berita', 'tanpa', 'iklan', 'gabung', 'kompascom', 'trending', 'timnas', 'indonesia', 'ponpes', 'al', 'khoziny', 'donald', 'trump', 'gencat', 'senjata', 'grand', 'mall', 'bekas', 'etanol', 'pada', 'bbm', 'timnas', 'indonesia', 'irak', 'pelat', 'nomor', 'indonesia', 'living', 'assistance', 'c', 'kualitas', 'udara', 'harga', 'beli', 'emas', 'jt', 'gr', 'jadwal', 'sholat', 'headline', 'usai', 'bata', 'stop', 'produksi', 'sepatu', 'menaker', 'akan', 'monitor', 'potensi', 'phk', 'seskab', 'serta', 'magang', 'nasional', 'gaji', 'tara', 'upah', 'minimun', 'jakarta', 'bisa', 'rp', 'juta', 'news', 'israel', 'siap', 'operasi', 'hancur', 'terowongan', 'hamas', 'di', 'bawah', 'gaza', 'global', 'ammar', 'zoni', 'edar', 'narkoba', 'di', 'rutan', 'ditjen', 'pas', 'pasti', 'napi', 'yang', 'libat', 'sanksi', 'news', 'ole', 'romeny', 'sulit', 'gambar', 'rasa', 'sakit', 'gagal', 'ke', 'piala', 'dunia', 'bola', 'mendikdasmen', 'mulai', 'tahun', 'bahasa', 'inggris', 'jadi', 'mapel', 'wajib', 'edukasi', 'saksi', 'warga', 'soal', 'tawur', 'remaja', 'tiap', 'pekan', 'di', 'rorotan', 'bawa', 'parang', 'dan', 'saling', 'kejar', 'news', 'populer', 'stafsus', 'kemenko', 'infrastruktur', 'bantah', 'rombong', 'ahy', 'susul', 'sultan', 'hb', 'x', 'pakai', 'tot', 'tot', 'wuk', 'wuk', 'di', 'jalan', 'regional', 'mendikdasmen', 'mulai', 'tahun', 'bahasa', 'inggris', 'jadi', 'mapel', 'wajib', 'edukasi', 'gak', 'mau', 'sekolah', 'isyarat', 'akhir', 'angga', 'belum', 'tewas', 'dibully', 'temantemannya', 'regional', 'israel', 'siap', 'operasi', 'hancur', 'terowongan', 'hamas', 'di', 'bawah', 'gaza', 'global', 'usai', 'bata', 'stop', 'produksi', 'sepatu', 'menaker', 'akan', 'monitor', 'potensi', 'phk', 'money', 'populer', 'lain', 'sorot', 'cek', 'tanah', 'kini', 'bisa', 'lewat', 'aplikasi', 'sentuh', 'tanah', 'begini', 'cara', 'properti', 'barus', 'rempah', 'nusantara', 'yang', 'lupa', 'agri', 'stafsus', 'kemenko', 'infrastruktur', 'bantah', 'rombong', 'ahy', 'susul', 'sultan', 'hb', 'x', 'pakai', 'tot', 'tot', 'wuk', 'wuk', 'di', 'jalan', 'regional', 'butuh', 'biaya', 'obat', 'untuk', 'ibu', 'eks', 'karyawan', 'bobol', 'brankas', 'restoran', 'di', 'halim', 'news', 'harga', 'emas', 'terus', 'naik', 'tepat', 'investasi', 'saat', 'ini', 'tren', 'atur', 'pilih', 'konten', 'otomotif', 'menit', 'lalu', 'alva', 'sedang', 'sertifikasi', 'homologasi', 'cervo', 'dan', 'n', 'untuk', 'ekspor', 'tren', 'menit', 'lalu', 'potret', 'satusatunya', 'warung', 'yang', 'jual', 'di', 'dekat', 'rumah', 'jokowi', 'bola', 'menit', 'lalu', 'reaksi', 'eks', 'asisten', 'shin', 'taeyong', 'usai', 'indonesia', 'gagal', 'lolos', 'piala', 'dunia', 'regional', 'menit', 'lalu', 'kakak', 'adik', 'tewas', 'tabrak', 'truk', 'di', 'taput', 'begini', 'kronologi', 'regional', 'menit', 'lalu', 'dinkes', 'ungkap', 'sppg', 'salur', 'mbg', 'yang', 'bikin', 'murid', 'sdn', 'matangkuli', 'muntah', 'belum', 'laik', 'higiene', 'reaksi', 'patrick', 'kluivert', 'usai', 'timnas', 'indonesia', 'kalah', 'dari', 'irak', 'dan', 'tak', 'lolos', 'piala', 'dunia', 'jam', 'lalu', 'prabowo', 'rapat', 'bareng', 'ketua', 'mpr', 'dan', 'kepala', 'bin', 'di', 'hambalang', 'bahas', 'apa', 'video', 'jam', 'lalu', 'hamas', 'absen', 'dari', 'janji', 'damai', 'gaza', 'mesir', 'tetap', 'siap', 'gelar', 'ktt', 'video', 'jam', 'lalu', 'banyak', 'santri', 'ponpes', 'al', 'khoziny', 'amputasi', 'perintah', 'siap', 'santun', 'dan', 'beasiswa', 'video', 'jam', 'lalu', 'parade', 'militer', 'korut', 'pamer', 'nuklir', 'canggih', 'warga', 'bersoraksorai', 'video', 'jam', 'lalu', 'sepakat', 'dengan', 'israel', 'besok', 'hamas', 'akan', 'bebas', 'sandera', 'video', 'jam', 'lalu', 'babak', 'baru', 'perang', 'dagang', 'mulai', 'hubung', 'aschina', 'retak', 'lagi', 'video', 'jam', 'lalu', 'tentara', 'madagaskar', 'balik', 'gabung', 'demonstran', 'tolak', 'perintah', 'tembak', 'warga', 'video', 'jam', 'lalu', 'regional', 'menit', 'lalu', 'gak', 'mau', 'sekolah', 'isyarat', 'akhir', 'angga', 'belum', 'tewas', 'dibully', 'temantemannya', 'global', 'menit', 'lalu', 'gaza', 'dari', 'pandang', 'drone', 'kota', 'tanpa', 'warna', 'hanya', 'puing', 'dan', 'debu', 'money', 'menit', 'lalu', 'ajar', 'dari', 'sipadan', 'dan', 'ligitan', 'saat', 'pulau', 'di', 'indonesia', 'lepas', 'karena', 'tak', 'ada', 'edar', 'rupiah', 'news', 'menit', 'lalu', 'laku', 'tawur', 'di', 'rorotan', 'rusak', 'jemur', 'hingga', 'rumah', 'warga', 'hype', 'menit', 'lalu', 'warganet', 'menang', 'minta', 'maaf', 'ke', 'ruben', 'onsu', 'usai', 'sebut', 'orang', 'bodoh', 'karena', 'tinggal', 'sarwendah', 'baca', 'berita', 'tanpa', 'iklan', 'gabung', 'kompascom', 'unduh', 'kompascom', 'app', 'untuk', 'berita', 'kini', 'akurat', 'dan', 'percaya', 'tiap', 'saat', 'arah', 'kamera', 'ke', 'kode', 'qr', 'ini', 'untuk', 'download', 'app', 'follow', 'us', 'kompasid', 'premium', 'cinta', 'pada', 'pandang', 'pertama', 'itu', 'hanya', 'ilusi', 'baca', 'lengkap', 'di', 'kompasid', 'dapat', 'akses', 'penuh', 'berita', 'kompasid', 'dengan', 'langgan', 'baca', 'berita', 'tanpa', 'iklan', 'gabung', 'kompascom', 'kilas', 'layan', 'juta', 'tumpang', 'bandara', 'i', 'gusti', 'ngurah', 'rai', 'sukses', 'bal', 'jadi', 'pulau', 'indah', 'asia', 'wujud', 'pertanggungjawaban', 'dan', 'buka', 'publik', 'trans', 'akan', 'open', 'house', 'dengan', 'live', 'media', 'sosial', 'jam', 'jajak', 'peluang', 'investasi', 'dari', 'tiongkok', 'menteri', 'transmigrasi', 'akan', 'fokus', 'pada', 'papua', 'kolom', 'gagal', 'timnas', 'ke', 'piala', 'dunia', 'dan', 'kisah', 'bodoh', 'tambang', 'emas', 'abdullah', 'sammy', 'teliti', 'dan', 'amat', 'barus', 'rempah', 'nusantara', 'yang', 'lupa', 'kuntoro', 'boga', 'direktur', 'hilir', 'hasil', 'kebun', 'tan', 'tak', 'perlu', 'sali', 'toh', 'main', 'juga', 'naturalisasi', 'silahudin', 'dosen', 'fenomena', 'dead', 'horse', 'pt', 'sepatu', 'bata', 'tbk', 'mochammad', 'mukti', 'ali', 'rektor', 'dan', 'wirausahawan', 'politik', 'olahraga', 'naturalisasi', 'dan', 'disorientasi', 'tuju', 'negara', 'dwi', 'munthaha', 'teliti', 'konsultan', 'lihat', 'lain', 'tualang', 'jajah', 'hidden', 'gems', 'di', 'hong', 'kong', 'hong', 'kong', 'milik', 'banyak', 'spot', 'wisata', 'tarik', 'jelajah', 'hidden', 'gems', 'di', 'hong', 'kong', 'rekomendasi', 'hktb', 'dan', 'dapat', 'alam', 'libur', 'tak', 'lupa', 'wib', 'wujud', 'kotakabupaten', 'ham', 'pantas', 'kota', 'bisa', 'jadi', 'ruang', 'aman', 'bagi', 'siapa', 'pun', 'apa', 'bisa', 'capai', 'kota', 'ham', 'wib', 'tirta', 'dan', 'emiliana', 'banyak', 'wilayah', 'indonesia', 'alami', 'krisis', 'air', 'nyata', 'masalah', 'tak', 'selalu', 'soal', 'air', 'tak', 'ada', 'tetapi', 'tata', 'kelola', 'alam', 'wahana', 'visi', 'indonesia', 'beri', 'gambar', 'upaya', 'selesai', 'wib', 'rapah', 'transjawa', 'eksplorasi', 'km', 'jalur', 'pansela', 'rekam', 'pesona', 'mudik', 'dari', 'jakarta', 'ke', 'banyuwangi', 'nikmat', 'panorama', 'alam', 'dan', 'budaya', 'di', 'jalur', 'transjawa', 'wib', 'otomotif', 'menit', 'lalu', 'rapor', 'jual', 'motor', 'listrik', 'di', 'indonesia', 'news', 'menit', 'lalu', 'polisi', 'tangkap', 'eks', 'karyawan', 'yang', 'bobol', 'brankas', 'restoran', 'di', 'halim', 'bola', 'menit', 'lalu', 'usai', 'indonesia', 'gagal', 'jurnalis', 'malaysia', 'ungkit', 'lagi', 'ganti', 'sty', 'ke', 'kluivert', 'tekno', 'menit', 'lalu', 'cara', 'batas', 'guna', 'wifi', 'agar', 'cepat', 'internet', 'stabil', 'mudah', 'tren', 'menit', 'lalu', 'prompt', 'ai', 'ubah', 'foto', 'jadi', 'animasi', 'bisa', 'di', 'gemini', 'dan', 'chatgpt', 'inspirasi', 'modifikasi', 'mobil', 'suzuki', 'dari', 'simpel', 'sampai', 'ekstrem', 'edukasi', 'menit', 'lalu', 'sekolah', 'baik', 'di', 'bogor', 'referensi', 'ikut', 'spmb', 'otomotif', 'menit', 'lalu', 'honda', 'cbf', 'siap', 'luncur', 'harga', 'mulai', 'rp', 'juta', 'money', 'menit', 'lalu', 'khofifah', 'produksi', 'padi', 'jatim', 'lebih', 'dari', 'juta', 'ton', 'tinggi', 'indonesia', 'news', 'menit', 'lalu', 'warga', 'rorotan', 'resah', 'usai', 'marak', 'tawur', 'remaja', 'bersajam', 'hype', 'jam', 'lalu', 'one', 'punch', 'man', 'season', 'rilis', 'jadwal', 'tayang', 'dan', 'link', 'nonton', 'resmi', 'jajal', 'bus', 'trans', 'jatim', 'koridor', 'rute', 'lamonganpaciran', 'sembari', 'makna', 'ajar', 'sunan', 'drajat', 'viral', 'di', 'tiktok', 'lagu', 'timing', 'jadi', 'cara', 'asyik', 'ajar', 'kata', 'jepang', 'sukkari', 'kini', 'tak', 'daya', 'dagang', 'buku', 'bekas', 'pasar', 'blauran', 'surabaya', 'tinggal', 'beli', 'raba', 'masa', 'depan', 'dengan', 'ai', 'bagai', 'copilot', 'close', 'ads', 'baca', 'berita', 'tanpa', 'iklan', 'gabung', 'kompascom', 'bola', 'jam', 'lalu', 'maarten', 'paes', 'pulang', 'ke', 'as', 'usai', 'bela', 'indonesia', 'di', 'kualifikasi', 'piala', 'dunia', 'news', 'jam', 'lalu', 'kirim', 'bus', 'listrik', 'transjakarta', 'target', 'rampung', 'akhir', 'properti', 'jam', 'lalu', 'cek', 'tanah', 'kini', 'bisa', 'lewat', 'aplikasi', 'sentuh', 'tanah', 'begini', 'cara', 'bola', 'jam', 'lalu', 'andre', 'rosiade', 'kluivert', 'silah', 'mundur', 'usai', 'gagal', 'ke', 'piala', 'dunia', 'hype', 'jam', 'lalu', 'axl', 'ramanda', 'kemas', 'ulang', 'lagu', 'kirana', 'cipta', 'ahmad', 'dhani', 'dan', 'erwin', 'prasetya', 'topik', 'pilih', 'tahun', 'perintah', 'prabowogibran', 'satu', 'tahun', 'perintah', 'prabowogibran', 'hukum', 'yang', 'belum', 'daulat', 'tahun', 'perintah', 'prabowo', 'bahlil', 'ungkap', 'capai', 'swasembada', 'energi', 'satu', 'tahun', 'komunikasi', 'publik', 'presiden', 'prabowo', 'lihat', 'semua', 'racun', 'mbg', 'sorot', 'mbg', 'lpk', 'jateng', 'para', 'siswa', 'juga', 'konsumen', 'karena', 'benar', 'tidak', 'makan', 'gratis', 'pemprov', 'jateng', 'bagi', 'nomor', 'hotline', 'adu', 'racun', 'mbg', 'temu', 'kadinkes', 'kota', 'malang', 'sppg', 'mbg', 'di', 'sdn', 'dinoyo', 'belum', 'kantong', 'sertifikat', 'lihat', 'semua', 'ponpes', 'al', 'khoziny', 'sidoarjo', 'ambruk', 'hut', 'ke', 'jatim', 'khofifah', 'doa', 'untuk', 'korban', 'ponpes', 'al', 'khoziny', 'pascatragedi', 'al', 'khoziny', 'eri', 'cahyadi', 'bakal', 'cek', 'struktur', 'bangun', 'ponpes', 'di', 'surabaya', 'santri', 'duga', 'ikut', 'ngecor', 'ponpes', 'al', 'khoziny', 'pakar', 'hukum', 'unair', 'beri', 'perintah', 'bisa', 'kena', 'sanksi', 'hukum', 'lihat', 'semua', 'edukasi', 'jam', 'lalu', 'khofifah', 'sebut', 'jumlah', 'sekolah', 'rakyat', 'jatim', 'banyak', 'indonesia', 'tekno', 'jam', 'lalu', 'youtuber', 'mrbeast', 'cemas', 'dan', 'khawatir', 'ai', 'makin', 'canggih', 'regional', 'jam', 'lalu', 'stafsus', 'kemenko', 'infrastruktur', 'bantah', 'rombong', 'ahy', 'susul', 'sultan', 'hb', 'x', 'pakai', 'tot', 'tot', 'wuk', 'wuk', 'di', 'jalan', 'news', 'jam', 'lalu', 'ammar', 'zoni', 'edar', 'narkoba', 'di', 'rutan', 'ditjen', 'pas', 'pasti', 'napi', 'yang', 'libat', 'sanksi', 'tren', 'jam', 'lalu', 'daftar', 'magang', 'kemnaker', 'panjang', 'ini', 'cara', 'daftar', 'foto', 'lihat', 'semua', 'berita', 'foto', 'lion', 'city', 'sailors', 'pupus', 'menang', 'persib', 'di', 'menit', 'akhir', 'berita', 'foto', 'debut', 'thom', 'haye', 'dan', 'eliano', 'reijnders', 'di', 'persib', 'berita', 'foto', 'unisba', 'dan', 'unpas', 'tembak', 'gas', 'air', 'mata', 'puluh', 'proyektil', 'sera', 'berita', 'foto', 'tilik', 'sumur', 'minyak', 'ilegal', 'di', 'blora', 'sumber', 'petaka', 'di', 'tengah', 'mukim', 'berita', 'foto', 'suasana', 'demo', 'pati', 'agustus', 'travel', 'jam', 'lalu', 'asal', 'usul', 'jalan', 'harmoni', 'pusat', 'rumah', 'ibadah', 'lintas', 'agama', 'di', 'melaka', 'money', 'jam', 'lalu', 'usai', 'bata', 'stop', 'produksi', 'sepatu', 'menaker', 'akan', 'monitor', 'potensi', 'phk', 'news', 'jam', 'lalu', 'butuh', 'biaya', 'obat', 'untuk', 'ibu', 'eks', 'karyawan', 'bobol', 'brankas', 'restoran', 'di', 'halim', 'video', 'jam', 'lalu', 'reaksi', 'patrick', 'kluivert', 'usai', 'timnas', 'indonesia', 'kalah', 'dari', 'irak', 'dan', 'tak', 'lolos', 'piala', 'dunia', 'health', 'jam', 'lalu', 'aktivitas', 'luar', 'ruang', 'bantu', 'cegah', 'mata', 'minus', 'pada', 'anak', 'warga', 'gaza', 'ramairamai', 'pulang', 'ke', 'rumah', 'yang', 'hancur', 'di', 'hari', 'dua', 'gencat', 'senjata', 'bola', 'jam', 'lalu', 'djanur', 'soal', 'garuda', 'timnas', 'indonesia', 'belum', 'siap', 'ke', 'piala', 'dunia', 'regional', 'jam', 'lalu', 'turis', 'surabaya', 'seret', 'ombak', 'di', 'pantai', 'modangan', 'malang', 'hilang', 'tewas', 'bola', 'jam', 'lalu', 'maarten', 'paes', 'patah', 'hati', 'garuda', 'gagal', 'lolos', 'tapi', 'janji', 'juang', 'lagi', 'otomotif', 'jam', 'lalu', 'kenal', 'xiaomi', 'su', 'sedan', 'listrik', 'pintar', 'yang', 'lirik', 'perintah', 'edukasi', 'jam', 'lalu', 'universitas', 'baik', 'di', 'jepang', 'versi', 'the', 'wur', 'referensi', 'kuliah', 'ke', 'luar', 'negeri', 'next', 'produk', 'rekomendasi', 'baca', 'berita', 'tanpa', 'iklan', 'gabung', 'kompascom', 'komentar', 'klik', 'untuk', 'berita', 'baru', 'harga', 'dan', 'sertifikat', 'dapat', 'informasi', 'dan', 'insight', 'pilih', 'redaksi', 'kompascom', 'daftar', 'email', 'kanal', 'news', 'nasional', 'global', 'megapolitan', 'regional', 'milu', 'ikn', 'bola', 'tekno', 'otomotif', 'entertainment', 'sains', 'health', 'money', 'tren', 'properti', 'lifestyle', 'hype', 'travel', 'homey', 'food', 'umkm', 'edukasi', 'parapuan', 'foto', 'video', 'kolom', 'vik', 'jeo', 'lestari', 'ohayo', 'jepang', 'pesona', 'indonesia', 'play', 'artikel', 'populer', 'artikel', 'kini', 'topik', 'pilih', 'artikel', 'headline', 'network', 'kompascom', 'hari', 'kompas', 'kompastv', 'kompasiana', 'kg', 'media', 'kgnow', 'pasangiklancom', 'kontan', 'sonora', 'gridid', 'gridotocom', 'bolasportcom', 'parapuan', 'tribunnews', 'gramediacom', 'gramedia', 'digital', 'kabar', 'palmerah', 'about', 'us', 'advertise', 'tentu', 'guna', 'bijak', 'data', 'pribadi', 'pedoman', 'media', 'siber', 'career', 'contact', 'us', 'copyright', 'pt', 'kompas', 'cyber', 'media', 'kompas', 'gramedia', 'digital', 'group', 'all', 'rights', 'reserved', 'bagi', 'artikel', 'ini', 'lalu', 'facebook', 'x', 'whatsapp', 'line', 'telegram', 'copy', 'link', 'oke', 'living', 'assistance', 'cuaca', 'emas', 'plus', 'baca', 'cepat', 'cek', 'sehat', 'atur', 'uang', 'klasemen', 'olahraga', 'jadwal', 'salat', 'game', 'kuis', 'beri', 'masuk', 'atur', 'minat']\n"
     ]
    }
   ],
   "source": [
    "#tokenizing\n",
    "tokens = [t for t in output.split()]\n",
    "print(tokens)"
   ]
  },
  {
   "cell_type": "code",
   "execution_count": 17,
   "metadata": {},
   "outputs": [
    {
     "name": "stdout",
     "output_type": "stream",
     "text": [
      "['berita', 'kabar', 'akurat', 'percaya', 'kompascom', 'otomatis', 'mode', 'gelap', 'mode', 'terang', 'login', 'gabung', 'kompascom', 'konten', 'simpan', 'konten', 'suka', 'atur', 'minat', 'ikan', 'masuk', 'langgan', 'kompas', 'one', 'news', 'nasional', 'global', 'megapolitan', 'regional', 'milu', 'hype', 'konsultasi', 'hukum', 'cek', 'fakta', 'surat', 'baca', 'indeks', 'kilas', 'daerah', 'kilas', 'korporasi', 'kilas', 'menteri', 'sorot', 'politik', 'kilas', 'badan', 'negara', 'kelana', 'indonesia', 'kalbe', 'health', 'corner', 'kilas', 'parlemen', 'kilas', 'bumn', 'nusaraya', 'sumatera', 'utara', 'sumatera', 'selatan', 'sumatera', 'barat', 'riau', 'lampung', 'banten', 'yogyakarta', 'jawa', 'barat', 'jawa', 'jawa', 'timur', 'kalimantan', 'barat', 'kalimantan', 'timur', 'sulawesi', 'selatan', 'bal', 'indeks', 'jagat', 'literasi', 'artikel', 'foto', 'video', 'rolls', 'donasi', 'stem', 'cahaya', 'aktual', 'doa', 'niat', 'jadwal', 'sholat', 'tekno', 'apps', 'os', 'gadget', 'internet', 'hardware', 'business', 'game', 'galeri', 'indeks', 'tech', 'innovation', 'kilas', 'internet', 'otomotif', 'motor', 'mobil', 'sport', 'niaga', 'komunitas', 'otopedia', 'rapah', 'ev', 'leadership', 'elektrifikasi', 'pamer', 'bola', 'timnas', 'indonesia', 'liga', 'indonesia', 'liga', 'inggris', 'liga', 'italia', 'liga', 'champions', 'klasemen', 'sports', 'motogp', 'badminton', 'indeks', 'lifestyle', 'wellness', 'fashion', 'relationship', 'parenting', 'beauty', 'grooming', 'buku', 'indeks', 'sadar', 'stunting', 'kilas', 'lifestyle', 'tren', 'lestari', 'health', 'sakit', 'az', 'kilas', 'sehat', 'money', 'ekbis', 'uang', 'syariah', 'industri', 'energi', 'karier', 'cuan', 'belanja', 'pajak', 'indeks', 'kilas', 'badan', 'kilas', 'transportasi', 'kilas', 'fintech', 'kilas', 'perban', 'kilas', 'investasi', 'transaksi', 'digital', 'jejak', 'umkm', 'properti', 'news', 'listing', 'properti', 'arsitektur', 'konstruksi', 'tips', 'properti', 'ikn', 'homey', 'indeks', 'sorot', 'properti', 'edukasi', 'sekolah', 'edu', 'news', 'guru', 'didik', 'khusus', 'beasiswa', 'literasi', 'skola', 'kilas', 'didik', 'ideaksi', 'travel', 'travel', 'news', 'travel', 'ideas', 'hotel', 'story', 'travelpedia', 'food', 'ohayo', 'jepang', 'indeks', 'video', 'parapuan', 'kolom', 'sains', 'jeo', 'foto', 'vik', 'netizen', 'warta', 'membership', 'kompascom', 'perintah', 'swasta', 'lsmfigur', 'bumn', 'umkm', 'nusatirta', 'sehat', 'hidup', 'sehat', 'sejahtera', 'air', 'bersih', 'sanitasi', 'layak', 'didik', 'didik', 'kualitas', 'lingkung', 'energi', 'bersih', 'jangkau', 'tangan', 'ubah', 'iklim', 'ekosistem', 'laut', 'ekosistem', 'darat', 'ekonomi', 'umkm', 'miskin', 'lapar', 'tara', 'gender', 'kerja', 'layak', 'tumbuh', 'ekonomi', 'industri', 'inovasi', 'infrastruktur', 'senjang', 'kota', 'mukim', 'konsumsi', 'produksi', 'bertanggungjawab', 'program', 'lestari', 'lihat', 'baca', 'berita', 'iklan', 'gabung', 'kompascom', 'trending', 'timnas', 'indonesia', 'ponpes', 'al', 'khoziny', 'donald', 'trump', 'gencat', 'senjata', 'grand', 'mall', 'bekas', 'etanol', 'bbm', 'timnas', 'indonesia', 'irak', 'pelat', 'nomor', 'indonesia', 'living', 'assistance', 'c', 'kualitas', 'udara', 'harga', 'beli', 'emas', 'jt', 'gr', 'jadwal', 'sholat', 'headline', 'bata', 'stop', 'produksi', 'sepatu', 'menaker', 'monitor', 'potensi', 'phk', 'seskab', 'magang', 'nasional', 'gaji', 'tara', 'upah', 'minimun', 'jakarta', 'rp', 'juta', 'news', 'israel', 'operasi', 'hancur', 'terowongan', 'hamas', 'gaza', 'global', 'ammar', 'zoni', 'edar', 'narkoba', 'rutan', 'ditjen', 'pas', 'napi', 'libat', 'sanksi', 'news', 'ole', 'romeny', 'sulit', 'gambar', 'sakit', 'gagal', 'piala', 'dunia', 'bola', 'mendikdasmen', 'bahasa', 'inggris', 'mapel', 'wajib', 'edukasi', 'saksi', 'warga', 'tawur', 'remaja', 'pekan', 'rorotan', 'bawa', 'parang', 'kejar', 'news', 'populer', 'stafsus', 'kemenko', 'infrastruktur', 'bantah', 'rombong', 'ahy', 'susul', 'sultan', 'hb', 'x', 'pakai', 'tot', 'tot', 'wuk', 'wuk', 'jalan', 'regional', 'mendikdasmen', 'bahasa', 'inggris', 'mapel', 'wajib', 'edukasi', 'gak', 'sekolah', 'isyarat', 'angga', 'tewas', 'dibully', 'temantemannya', 'regional', 'israel', 'operasi', 'hancur', 'terowongan', 'hamas', 'gaza', 'global', 'bata', 'stop', 'produksi', 'sepatu', 'menaker', 'monitor', 'potensi', 'phk', 'money', 'populer', 'sorot', 'cek', 'tanah', 'aplikasi', 'sentuh', 'tanah', 'properti', 'barus', 'rempah', 'nusantara', 'lupa', 'agri', 'stafsus', 'kemenko', 'infrastruktur', 'bantah', 'rombong', 'ahy', 'susul', 'sultan', 'hb', 'x', 'pakai', 'tot', 'tot', 'wuk', 'wuk', 'jalan', 'regional', 'butuh', 'biaya', 'obat', 'eks', 'karyawan', 'bobol', 'brankas', 'restoran', 'halim', 'news', 'harga', 'emas', 'investasi', 'tren', 'atur', 'pilih', 'konten', 'otomotif', 'menit', 'alva', 'sertifikasi', 'homologasi', 'cervo', 'n', 'ekspor', 'tren', 'menit', 'potret', 'satusatunya', 'warung', 'jual', 'rumah', 'jokowi', 'bola', 'menit', 'reaksi', 'eks', 'asisten', 'shin', 'taeyong', 'indonesia', 'gagal', 'lolos', 'piala', 'dunia', 'regional', 'menit', 'kakak', 'adik', 'tewas', 'tabrak', 'truk', 'taput', 'kronologi', 'regional', 'menit', 'dinkes', 'sppg', 'salur', 'mbg', 'bikin', 'murid', 'sdn', 'matangkuli', 'muntah', 'laik', 'higiene', 'reaksi', 'patrick', 'kluivert', 'timnas', 'indonesia', 'kalah', 'irak', 'lolos', 'piala', 'dunia', 'jam', 'prabowo', 'rapat', 'bareng', 'ketua', 'mpr', 'kepala', 'bin', 'hambalang', 'bahas', 'video', 'jam', 'hamas', 'absen', 'janji', 'damai', 'gaza', 'mesir', 'gelar', 'ktt', 'video', 'jam', 'santri', 'ponpes', 'al', 'khoziny', 'amputasi', 'perintah', 'santun', 'beasiswa', 'video', 'jam', 'parade', 'militer', 'korut', 'pamer', 'nuklir', 'canggih', 'warga', 'bersoraksorai', 'video', 'jam', 'sepakat', 'israel', 'besok', 'hamas', 'bebas', 'sandera', 'video', 'jam', 'babak', 'perang', 'dagang', 'hubung', 'aschina', 'retak', 'video', 'jam', 'tentara', 'madagaskar', 'gabung', 'demonstran', 'tolak', 'perintah', 'tembak', 'warga', 'video', 'jam', 'regional', 'menit', 'gak', 'sekolah', 'isyarat', 'angga', 'tewas', 'dibully', 'temantemannya', 'global', 'menit', 'gaza', 'pandang', 'drone', 'kota', 'warna', 'puing', 'debu', 'money', 'menit', 'ajar', 'sipadan', 'ligitan', 'pulau', 'indonesia', 'lepas', 'edar', 'rupiah', 'news', 'menit', 'laku', 'tawur', 'rorotan', 'rusak', 'jemur', 'rumah', 'warga', 'hype', 'menit', 'warganet', 'menang', 'maaf', 'ruben', 'onsu', 'orang', 'bodoh', 'tinggal', 'sarwendah', 'baca', 'berita', 'iklan', 'gabung', 'kompascom', 'unduh', 'kompascom', 'app', 'berita', 'akurat', 'percaya', 'arah', 'kamera', 'kode', 'qr', 'download', 'app', 'follow', 'us', 'kompasid', 'premium', 'cinta', 'pandang', 'ilusi', 'baca', 'lengkap', 'kompasid', 'akses', 'penuh', 'berita', 'kompasid', 'langgan', 'baca', 'berita', 'iklan', 'gabung', 'kompascom', 'kilas', 'layan', 'juta', 'tumpang', 'bandara', 'i', 'gusti', 'ngurah', 'rai', 'sukses', 'bal', 'pulau', 'indah', 'asia', 'wujud', 'pertanggungjawaban', 'buka', 'publik', 'trans', 'open', 'house', 'live', 'media', 'sosial', 'jam', 'jajak', 'peluang', 'investasi', 'tiongkok', 'menteri', 'transmigrasi', 'fokus', 'papua', 'kolom', 'gagal', 'timnas', 'piala', 'dunia', 'kisah', 'bodoh', 'tambang', 'emas', 'abdullah', 'sammy', 'teliti', 'barus', 'rempah', 'nusantara', 'lupa', 'kuntoro', 'boga', 'direktur', 'hilir', 'hasil', 'kebun', 'tan', 'sali', 'main', 'naturalisasi', 'silahudin', 'dosen', 'fenomena', 'dead', 'horse', 'pt', 'sepatu', 'bata', 'tbk', 'mochammad', 'mukti', 'ali', 'rektor', 'wirausahawan', 'politik', 'olahraga', 'naturalisasi', 'disorientasi', 'tuju', 'negara', 'dwi', 'munthaha', 'teliti', 'konsultan', 'lihat', 'tualang', 'jajah', 'hidden', 'gems', 'hong', 'kong', 'hong', 'kong', 'milik', 'spot', 'wisata', 'tarik', 'jelajah', 'hidden', 'gems', 'hong', 'kong', 'rekomendasi', 'hktb', 'alam', 'libur', 'lupa', 'wib', 'wujud', 'kotakabupaten', 'ham', 'kota', 'ruang', 'aman', 'capai', 'kota', 'ham', 'wib', 'tirta', 'emiliana', 'wilayah', 'indonesia', 'alami', 'krisis', 'air', 'nyata', 'air', 'tata', 'kelola', 'alam', 'wahana', 'visi', 'indonesia', 'gambar', 'upaya', 'selesai', 'wib', 'rapah', 'transjawa', 'eksplorasi', 'km', 'jalur', 'pansela', 'rekam', 'pesona', 'mudik', 'jakarta', 'banyuwangi', 'nikmat', 'panorama', 'alam', 'budaya', 'jalur', 'transjawa', 'wib', 'otomotif', 'menit', 'rapor', 'jual', 'motor', 'listrik', 'indonesia', 'news', 'menit', 'polisi', 'tangkap', 'eks', 'karyawan', 'bobol', 'brankas', 'restoran', 'halim', 'bola', 'menit', 'indonesia', 'gagal', 'jurnalis', 'malaysia', 'ungkit', 'ganti', 'sty', 'kluivert', 'tekno', 'menit', 'batas', 'wifi', 'cepat', 'internet', 'stabil', 'mudah', 'tren', 'menit', 'prompt', 'ai', 'ubah', 'foto', 'animasi', 'gemini', 'chatgpt', 'inspirasi', 'modifikasi', 'mobil', 'suzuki', 'simpel', 'ekstrem', 'edukasi', 'menit', 'sekolah', 'bogor', 'referensi', 'spmb', 'otomotif', 'menit', 'honda', 'cbf', 'luncur', 'harga', 'rp', 'juta', 'money', 'menit', 'khofifah', 'produksi', 'padi', 'jatim', 'juta', 'ton', 'indonesia', 'news', 'menit', 'warga', 'rorotan', 'resah', 'marak', 'tawur', 'remaja', 'bersajam', 'hype', 'jam', 'one', 'punch', 'man', 'season', 'rilis', 'jadwal', 'tayang', 'link', 'nonton', 'resmi', 'jajal', 'bus', 'trans', 'jatim', 'koridor', 'rute', 'lamonganpaciran', 'sembari', 'makna', 'ajar', 'sunan', 'drajat', 'viral', 'tiktok', 'lagu', 'timing', 'asyik', 'ajar', 'jepang', 'sukkari', 'daya', 'dagang', 'buku', 'bekas', 'pasar', 'blauran', 'surabaya', 'tinggal', 'beli', 'raba', 'ai', 'copilot', 'close', 'ads', 'baca', 'berita', 'iklan', 'gabung', 'kompascom', 'bola', 'jam', 'maarten', 'paes', 'pulang', 'as', 'bela', 'indonesia', 'kualifikasi', 'piala', 'dunia', 'news', 'jam', 'kirim', 'bus', 'listrik', 'transjakarta', 'target', 'rampung', 'properti', 'jam', 'cek', 'tanah', 'aplikasi', 'sentuh', 'tanah', 'bola', 'jam', 'andre', 'rosiade', 'kluivert', 'silah', 'mundur', 'gagal', 'piala', 'dunia', 'hype', 'jam', 'axl', 'ramanda', 'kemas', 'ulang', 'lagu', 'kirana', 'cipta', 'ahmad', 'dhani', 'erwin', 'prasetya', 'topik', 'pilih', 'perintah', 'prabowogibran', 'perintah', 'prabowogibran', 'hukum', 'daulat', 'perintah', 'prabowo', 'bahlil', 'capai', 'swasembada', 'energi', 'komunikasi', 'publik', 'presiden', 'prabowo', 'lihat', 'racun', 'mbg', 'sorot', 'mbg', 'lpk', 'jateng', 'siswa', 'konsumen', 'makan', 'gratis', 'pemprov', 'jateng', 'nomor', 'hotline', 'adu', 'racun', 'mbg', 'temu', 'kadinkes', 'kota', 'malang', 'sppg', 'mbg', 'sdn', 'dinoyo', 'kantong', 'sertifikat', 'lihat', 'ponpes', 'al', 'khoziny', 'sidoarjo', 'ambruk', 'hut', 'jatim', 'khofifah', 'doa', 'korban', 'ponpes', 'al', 'khoziny', 'pascatragedi', 'al', 'khoziny', 'eri', 'cahyadi', 'cek', 'struktur', 'bangun', 'ponpes', 'surabaya', 'santri', 'duga', 'ngecor', 'ponpes', 'al', 'khoziny', 'pakar', 'hukum', 'unair', 'perintah', 'kena', 'sanksi', 'hukum', 'lihat', 'edukasi', 'jam', 'khofifah', 'sekolah', 'rakyat', 'jatim', 'indonesia', 'tekno', 'jam', 'youtuber', 'mrbeast', 'cemas', 'khawatir', 'ai', 'canggih', 'regional', 'jam', 'stafsus', 'kemenko', 'infrastruktur', 'bantah', 'rombong', 'ahy', 'susul', 'sultan', 'hb', 'x', 'pakai', 'tot', 'tot', 'wuk', 'wuk', 'jalan', 'news', 'jam', 'ammar', 'zoni', 'edar', 'narkoba', 'rutan', 'ditjen', 'pas', 'napi', 'libat', 'sanksi', 'tren', 'jam', 'daftar', 'magang', 'kemnaker', 'daftar', 'foto', 'lihat', 'berita', 'foto', 'lion', 'city', 'sailors', 'pupus', 'menang', 'persib', 'menit', 'berita', 'foto', 'debut', 'thom', 'haye', 'eliano', 'reijnders', 'persib', 'berita', 'foto', 'unisba', 'unpas', 'tembak', 'gas', 'air', 'mata', 'puluh', 'proyektil', 'sera', 'berita', 'foto', 'tilik', 'sumur', 'minyak', 'ilegal', 'blora', 'sumber', 'petaka', 'mukim', 'berita', 'foto', 'suasana', 'demo', 'pati', 'agustus', 'travel', 'jam', 'usul', 'jalan', 'harmoni', 'pusat', 'rumah', 'ibadah', 'lintas', 'agama', 'melaka', 'money', 'jam', 'bata', 'stop', 'produksi', 'sepatu', 'menaker', 'monitor', 'potensi', 'phk', 'news', 'jam', 'butuh', 'biaya', 'obat', 'eks', 'karyawan', 'bobol', 'brankas', 'restoran', 'halim', 'video', 'jam', 'reaksi', 'patrick', 'kluivert', 'timnas', 'indonesia', 'kalah', 'irak', 'lolos', 'piala', 'dunia', 'health', 'jam', 'aktivitas', 'ruang', 'bantu', 'cegah', 'mata', 'minus', 'anak', 'warga', 'gaza', 'ramairamai', 'pulang', 'rumah', 'hancur', 'gencat', 'senjata', 'bola', 'jam', 'djanur', 'garuda', 'timnas', 'indonesia', 'piala', 'dunia', 'regional', 'jam', 'turis', 'surabaya', 'seret', 'ombak', 'pantai', 'modangan', 'malang', 'hilang', 'tewas', 'bola', 'jam', 'maarten', 'paes', 'patah', 'hati', 'garuda', 'gagal', 'lolos', 'janji', 'juang', 'otomotif', 'jam', 'kenal', 'xiaomi', 'su', 'sedan', 'listrik', 'pintar', 'lirik', 'perintah', 'edukasi', 'jam', 'universitas', 'jepang', 'versi', 'the', 'wur', 'referensi', 'kuliah', 'negeri', 'next', 'produk', 'rekomendasi', 'baca', 'berita', 'iklan', 'gabung', 'kompascom', 'komentar', 'klik', 'berita', 'harga', 'sertifikat', 'informasi', 'insight', 'pilih', 'redaksi', 'kompascom', 'daftar', 'email', 'kanal', 'news', 'nasional', 'global', 'megapolitan', 'regional', 'milu', 'ikn', 'bola', 'tekno', 'otomotif', 'entertainment', 'sains', 'health', 'money', 'tren', 'properti', 'lifestyle', 'hype', 'travel', 'homey', 'food', 'umkm', 'edukasi', 'parapuan', 'foto', 'video', 'kolom', 'vik', 'jeo', 'lestari', 'ohayo', 'jepang', 'pesona', 'indonesia', 'play', 'artikel', 'populer', 'artikel', 'topik', 'pilih', 'artikel', 'headline', 'network', 'kompascom', 'kompas', 'kompastv', 'kompasiana', 'kg', 'media', 'kgnow', 'pasangiklancom', 'kontan', 'sonora', 'gridid', 'gridotocom', 'bolasportcom', 'parapuan', 'tribunnews', 'gramediacom', 'gramedia', 'digital', 'kabar', 'palmerah', 'about', 'us', 'advertise', 'bijak', 'data', 'pribadi', 'pedoman', 'media', 'siber', 'career', 'contact', 'us', 'copyright', 'pt', 'kompas', 'cyber', 'media', 'kompas', 'gramedia', 'digital', 'group', 'all', 'rights', 'reserved', 'artikel', 'facebook', 'x', 'whatsapp', 'line', 'telegram', 'copy', 'link', 'oke', 'living', 'assistance', 'cuaca', 'emas', 'plus', 'baca', 'cepat', 'cek', 'sehat', 'atur', 'uang', 'klasemen', 'olahraga', 'jadwal', 'salat', 'game', 'kuis', 'masuk', 'atur', 'minat']\n"
     ]
    },
    {
     "name": "stderr",
     "output_type": "stream",
     "text": [
      "[nltk_data] Downloading package stopwords to\n",
      "[nltk_data]     C:\\Users\\hp\\AppData\\Roaming\\nltk_data...\n",
      "[nltk_data]   Package stopwords is already up-to-date!\n"
     ]
    }
   ],
   "source": [
    "# menghapus stopwords dari tokens\n",
    "nltk.download('stopwords')\n",
    "stop_words = set(stopwords.words('indonesian'))\n",
    "filtered_tokens = [word for word in tokens if word not in stop_words]\n",
    "print(filtered_tokens)"
   ]
  },
  {
   "cell_type": "markdown",
   "metadata": {},
   "source": [
    "### tf-idf\n",
    "TF-IDF (Term Frequency-Inverse Document Frequency): TF-IDF menghitung seberapa penting sebuah kata dalam sebuah dokumen relatif terhadap seluruh koleksi dokumen. Outputnya adalah matriks di mana setiap baris mewakili dokumen dan setiap kolom mewakili kata unik dalam seluruh koleksi. Nilai di dalam sel menunjukkan skor TF-IDF kata tersebut dalam dokumen. Karena setiap kolom mewakili sebuah kata, maka header kolomnya adalah kata-kata itu sendiri."
   ]
  },
  {
   "cell_type": "code",
   "execution_count": 18,
   "metadata": {},
   "outputs": [
    {
     "name": "stdout",
     "output_type": "stream",
     "text": [
      "\n",
      "TF-IDF shape: (1456, 796)\n",
      "   abdullah  about  absen  adik  ads  adu  advertise  agama  agri  agustus  \\\n",
      "0       0.0    0.0    0.0   0.0  0.0  0.0        0.0    0.0   0.0      0.0   \n",
      "1       0.0    0.0    0.0   0.0  0.0  0.0        0.0    0.0   0.0      0.0   \n",
      "2       0.0    0.0    0.0   0.0  0.0  0.0        0.0    0.0   0.0      0.0   \n",
      "3       0.0    0.0    0.0   0.0  0.0  0.0        0.0    0.0   0.0      0.0   \n",
      "4       0.0    0.0    0.0   0.0  0.0  0.0        0.0    0.0   0.0      0.0   \n",
      "\n",
      "   ...  wilayah  wirausahawan  wisata  wujud  wuk  wur  xiaomi  yogyakarta  \\\n",
      "0  ...      0.0           0.0     0.0    0.0  0.0  0.0     0.0         0.0   \n",
      "1  ...      0.0           0.0     0.0    0.0  0.0  0.0     0.0         0.0   \n",
      "2  ...      0.0           0.0     0.0    0.0  0.0  0.0     0.0         0.0   \n",
      "3  ...      0.0           0.0     0.0    0.0  0.0  0.0     0.0         0.0   \n",
      "4  ...      0.0           0.0     0.0    0.0  0.0  0.0     0.0         0.0   \n",
      "\n",
      "   youtuber  zoni  \n",
      "0       0.0   0.0  \n",
      "1       0.0   0.0  \n",
      "2       0.0   0.0  \n",
      "3       0.0   0.0  \n",
      "4       0.0   0.0  \n",
      "\n",
      "[5 rows x 796 columns]\n"
     ]
    }
   ],
   "source": [
    "from sklearn.feature_extraction.text import TfidfVectorizer\n",
    "import pandas as pd\n",
    "\n",
    "vectorizer = TfidfVectorizer()\n",
    "tfidf_matrix = vectorizer.fit_transform(filtered_tokens)\n",
    "\n",
    "# ubah ke DataFrame biar keliatan\n",
    "tfidf_df = pd.DataFrame(\n",
    "    tfidf_matrix.toarray(),\n",
    "    columns=vectorizer.get_feature_names_out()\n",
    ")\n",
    "\n",
    "print(\"\\nTF-IDF shape:\", tfidf_df.shape)\n",
    "print(tfidf_df.head())\n",
    "\n",
    "# Simpan hasil TF-IDF ke CSV\n",
    "# Jika Anda ingin menyimpan dokumen x fitur, indeks baris mewakili dokumen yang diberikan ke fit_transform\n",
    "tfidf_df.to_csv('tfidf.csv', index=False, float_format='%.6f', encoding='utf-8')"
   ]
  },
  {
   "cell_type": "markdown",
   "metadata": {},
   "source": [
    "## word embedding\n",
    "\n",
    "Word2Vec: Word2Vec adalah teknik word embedding yang memetakan setiap kata ke dalam sebuah vektor numerik dalam ruang berdimensi rendah (dalam kasus Anda, 56 dimensi). Outputnya adalah sekumpulan vektor, satu untuk setiap kata. Tabel yang Anda lihat menampilkan vektor-vektor ini. Setiap baris adalah kata, dan setiap kolom adalah salah satu dari 56 dimensi vektor tersebut. Oleh karena itu, header kolomnya adalah indeks dimensi (0 hingga 55), bukan kata-kata itu sendiri.\n",
    "Singkatnya, TF-IDF menggunakan kata sebagai fitur, sedangkan Word2Vec menggunakan dimensi vektor sebagai fitur untuk merepresentasikan kata."
   ]
  },
  {
   "cell_type": "code",
   "execution_count": 19,
   "metadata": {},
   "outputs": [
    {
     "name": "stdout",
     "output_type": "stream",
     "text": [
      "Word2Vec<vocab=800, vector_size=56, alpha=0.025>\n"
     ]
    }
   ],
   "source": [
    "corpus = []\n",
    "for col in filtered_tokens:\n",
    "   word_list = col.split(\" \")\n",
    "   corpus.append(word_list)\n",
    "\n",
    "#show first value\n",
    "corpus[0:1]\n",
    "\n",
    "#generate vectors from corpus\n",
    "model = Word2Vec(corpus, min_count=1, vector_size = 56)\n",
    "print(model)"
   ]
  },
  {
   "cell_type": "code",
   "execution_count": 20,
   "metadata": {},
   "outputs": [],
   "source": [
    "class MyTokenizer:\n",
    "    def fit_transform(self, texts):\n",
    "        # Tokenisasi sederhana: lowercase + split\n",
    "        return [str(text).lower().split() for text in texts]\n",
    "\n",
    "class MeanEmbeddingVectorizer:\n",
    "    def __init__(self, word2vec_model):\n",
    "        self.word2vec = word2vec_model\n",
    "        # Perbaikan: gunakan vector_size (Gensim ≥ 4.0)\n",
    "        self.dim = word2vec_model.wv.vector_size\n",
    "\n",
    "    def fit(self, X, y=None):\n",
    "        return self\n",
    "\n",
    "    def transform(self, X):\n",
    "        X_tokenized = MyTokenizer().fit_transform(X)\n",
    "        embeddings = []\n",
    "        for words in X_tokenized:\n",
    "            # Ambil vektor hanya untuk kata yang ada di vocab\n",
    "            valid_vectors = [\n",
    "                self.word2vec.wv[word] for word in words\n",
    "                if word in self.word2vec.wv\n",
    "            ]\n",
    "            if valid_vectors:\n",
    "                embeddings.append(np.mean(valid_vectors, axis=0))\n",
    "            else:\n",
    "                embeddings.append(np.zeros(self.dim))\n",
    "        return np.array(embeddings)\n",
    "\n",
    "    def fit_transform(self, X, y=None):\n",
    "        return self.transform(X)"
   ]
  },
  {
   "cell_type": "code",
   "execution_count": 21,
   "metadata": {},
   "outputs": [
    {
     "name": "stdout",
     "output_type": "stream",
     "text": [
      "[[-2.7003392e-04  4.2531066e-04  4.4232607e-04  4.2322406e-04\n",
      "   7.7212469e-05 -7.8060210e-04  4.6681592e-04 -8.3155493e-04\n",
      "  -1.0894785e-03 -8.0118043e-04 -7.6753751e-04 -9.3880153e-05\n",
      "  -4.6876841e-05 -4.1861497e-04  2.8906083e-05  1.2218597e-03\n",
      "  -2.7702877e-04  2.4325485e-04  4.1746885e-06 -4.0944316e-05\n",
      "   5.2286213e-04  4.8105698e-04  5.1001966e-04 -7.3930481e-04\n",
      "   7.2097656e-04 -3.5313162e-04  1.2111743e-03  7.7221193e-04\n",
      "  -1.6289912e-04 -5.9976231e-04 -5.7370332e-04  2.9825687e-04\n",
      "   1.3926017e-04 -5.5644003e-05 -7.7885552e-04 -5.6212716e-04\n",
      "   7.7202480e-04 -2.4221546e-04  7.2814245e-04 -4.2646125e-04\n",
      "  -6.7524007e-04 -1.8738526e-04  3.0446419e-05  4.7901477e-04\n",
      "  -1.8967327e-04  4.5508673e-04  5.8436219e-04  7.4628787e-04\n",
      "   2.8179557e-04  5.2998320e-04 -5.3852674e-04  7.1011134e-04\n",
      "  -2.6477117e-04  9.3438757e-05  2.0440969e-04 -4.8174334e-04]]\n"
     ]
    }
   ],
   "source": [
    "mean_embedding_vectorizer = MeanEmbeddingVectorizer(model)\n",
    "mean_embedded = mean_embedding_vectorizer.fit_transform([' '.join(filtered_tokens)])\n",
    "print(mean_embedded)"
   ]
  },
  {
   "cell_type": "code",
   "execution_count": 22,
   "metadata": {},
   "outputs": [
    {
     "name": "stdout",
     "output_type": "stream",
     "text": [
      "                     0         1         2         3         4         5   \\\n",
      "fitur                                                                       \n",
      "jam           -0.000958  0.000422  0.009113  0.016088 -0.016612 -0.012709   \n",
      "menit          0.008067 -0.012120 -0.006337  0.016783 -0.002817  0.000574   \n",
      "indonesia     -0.010000  0.012687  0.005987  0.012903  0.012143  0.013448   \n",
      "kilas          0.013274  0.011831 -0.006625 -0.015617  0.009710  0.011625   \n",
      "news           0.014206 -0.008650  0.015042  0.009397 -0.011696  0.007068   \n",
      "...                 ...       ...       ...       ...       ...       ...   \n",
      "kotakabupaten  0.013327  0.002652  0.002008  0.003133 -0.013068 -0.015387   \n",
      "libur         -0.005501 -0.004963  0.015005  0.005179  0.016734  0.009346   \n",
      "hktb          -0.014825  0.012826  0.009712 -0.004105  0.017197 -0.010001   \n",
      "jelajah       -0.012210 -0.003749 -0.000723 -0.010214 -0.012091 -0.014488   \n",
      "aschina       -0.011090 -0.010163  0.012937  0.013762 -0.016622  0.002457   \n",
      "\n",
      "                     6         7         8         9   ...        46  \\\n",
      "fitur                                                  ...             \n",
      "jam            0.011534  0.016023 -0.008956 -0.006720  ... -0.013681   \n",
      "menit         -0.007394 -0.013719 -0.002693  0.004410  ...  0.009268   \n",
      "indonesia     -0.006766 -0.001003  0.004194 -0.008070  ... -0.001271   \n",
      "kilas         -0.001406 -0.011982 -0.012653 -0.004459  ...  0.013376   \n",
      "news           0.009768 -0.013262 -0.013224 -0.004420  ...  0.007159   \n",
      "...                 ...       ...       ...       ...  ...       ...   \n",
      "kotakabupaten -0.016092 -0.004357  0.017350 -0.002217  ...  0.013296   \n",
      "libur         -0.012750  0.017845  0.008450  0.010547  ...  0.005180   \n",
      "hktb           0.017261 -0.007753  0.010304  0.016148  ... -0.008731   \n",
      "jelajah       -0.017403 -0.004692  0.016214  0.000006  ... -0.014288   \n",
      "aschina       -0.000359  0.001201 -0.014816 -0.010232  ...  0.004290   \n",
      "\n",
      "                     47        48        49        50        51        52  \\\n",
      "fitur                                                                       \n",
      "jam            0.017169  0.008897  0.016488 -0.014568  0.008028 -0.007388   \n",
      "menit          0.010253  0.013334 -0.011014  0.001974  0.010799 -0.005072   \n",
      "indonesia      0.013769 -0.015240  0.005727 -0.008282 -0.009087  0.006410   \n",
      "kilas         -0.010847  0.009215  0.017719 -0.015102 -0.009171 -0.012616   \n",
      "news           0.009260  0.007600  0.003464 -0.005661  0.014918  0.017165   \n",
      "...                 ...       ...       ...       ...       ...       ...   \n",
      "kotakabupaten -0.010542 -0.012573  0.017822  0.008691  0.002535 -0.013751   \n",
      "libur         -0.012284  0.005541 -0.007483  0.011931  0.014473  0.001368   \n",
      "hktb          -0.013430  0.000492  0.006636  0.001952 -0.009912 -0.014943   \n",
      "jelajah        0.016175 -0.003430  0.000780 -0.005616  0.016072  0.000579   \n",
      "aschina        0.008589 -0.000431 -0.003260  0.004620  0.003257  0.011345   \n",
      "\n",
      "                     53        54        55  \n",
      "fitur                                        \n",
      "jam            0.001472  0.015176 -0.007968  \n",
      "menit         -0.011024 -0.000733 -0.014945  \n",
      "indonesia      0.009590  0.013874 -0.010297  \n",
      "kilas         -0.008683 -0.006747 -0.015243  \n",
      "news           0.006773 -0.005066  0.000013  \n",
      "...                 ...       ...       ...  \n",
      "kotakabupaten  0.017420 -0.017000  0.009128  \n",
      "libur          0.002353 -0.000511  0.006060  \n",
      "hktb           0.001973 -0.009549 -0.010506  \n",
      "jelajah        0.006629 -0.000731 -0.014785  \n",
      "aschina       -0.013501 -0.016358  0.008256  \n",
      "\n",
      "[800 rows x 56 columns]\n",
      "Saved cbow_terms.csv\n"
     ]
    }
   ],
   "source": [
    "# Ambil semua fitur (kata unik) dari model\n",
    "features = list(model.wv.index_to_key)\n",
    "\n",
    "# Ambil vektor embedding untuk setiap fitur\n",
    "embedding_vectors = [model.wv[word] for word in features]\n",
    "\n",
    "# Buat DataFrame, setiap kolom adalah dimensi vektor\n",
    "embedding_df = pd.DataFrame(embedding_vectors, index=features)\n",
    "embedding_df.index.name = 'fitur'\n",
    "print(embedding_df)\n",
    "\n",
    "# Simpan per-term embeddings ke CSV\n",
    "embedding_df.reset_index().to_csv('cbow_terms.csv', index=False, float_format='%.6f', encoding='utf-8')\n",
    "print('Saved cbow_terms.csv')"
   ]
  }
 ],
 "metadata": {
  "colab": {
   "provenance": []
  },
  "kernelspec": {
   "display_name": "Python 3",
   "name": "python3"
  },
  "language_info": {
   "codemirror_mode": {
    "name": "ipython",
    "version": 3
   },
   "file_extension": ".py",
   "mimetype": "text/x-python",
   "name": "python",
   "nbconvert_exporter": "python",
   "pygments_lexer": "ipython3",
   "version": "3.11.9"
  }
 },
 "nbformat": 4,
 "nbformat_minor": 0
}
